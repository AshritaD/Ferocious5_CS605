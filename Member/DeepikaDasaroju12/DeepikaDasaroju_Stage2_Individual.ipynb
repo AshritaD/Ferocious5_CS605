{
 "cells": [
  {
   "cell_type": "code",
   "execution_count": 1,
   "id": "c9ae672f",
   "metadata": {},
   "outputs": [],
   "source": [
    "import numpy as np\n",
    "import pandas as pd\n",
    "import datetime as dt\n",
    "import plotly.express as px"
   ]
  },
  {
   "cell_type": "code",
   "execution_count": 2,
   "id": "b854491d",
   "metadata": {},
   "outputs": [
    {
     "data": {
      "text/html": [
       "<div>\n",
       "<style scoped>\n",
       "    .dataframe tbody tr th:only-of-type {\n",
       "        vertical-align: middle;\n",
       "    }\n",
       "\n",
       "    .dataframe tbody tr th {\n",
       "        vertical-align: top;\n",
       "    }\n",
       "\n",
       "    .dataframe thead th {\n",
       "        text-align: right;\n",
       "    }\n",
       "</style>\n",
       "<table border=\"1\" class=\"dataframe\">\n",
       "  <thead>\n",
       "    <tr style=\"text-align: right;\">\n",
       "      <th></th>\n",
       "      <th>countyFIPS</th>\n",
       "      <th>County Name</th>\n",
       "      <th>State</th>\n",
       "      <th>StateFIPS</th>\n",
       "      <th>2020-01-22_x</th>\n",
       "      <th>2020-01-23_x</th>\n",
       "      <th>2020-01-24_x</th>\n",
       "      <th>2020-01-25_x</th>\n",
       "      <th>2020-01-26_x</th>\n",
       "      <th>2020-01-27_x</th>\n",
       "      <th>...</th>\n",
       "      <th>2023-01-08_y</th>\n",
       "      <th>2023-01-09_y</th>\n",
       "      <th>2023-01-10_y</th>\n",
       "      <th>2023-01-11_y</th>\n",
       "      <th>2023-01-12_y</th>\n",
       "      <th>2023-01-13_y</th>\n",
       "      <th>2023-01-14_y</th>\n",
       "      <th>2023-01-15_y</th>\n",
       "      <th>2023-01-16_y</th>\n",
       "      <th>population</th>\n",
       "    </tr>\n",
       "  </thead>\n",
       "  <tbody>\n",
       "    <tr>\n",
       "      <th>0</th>\n",
       "      <td>1001</td>\n",
       "      <td>Autauga County</td>\n",
       "      <td>AL</td>\n",
       "      <td>1</td>\n",
       "      <td>0</td>\n",
       "      <td>0</td>\n",
       "      <td>0</td>\n",
       "      <td>0</td>\n",
       "      <td>0</td>\n",
       "      <td>0</td>\n",
       "      <td>...</td>\n",
       "      <td>230</td>\n",
       "      <td>230</td>\n",
       "      <td>230</td>\n",
       "      <td>230</td>\n",
       "      <td>230</td>\n",
       "      <td>230</td>\n",
       "      <td>230</td>\n",
       "      <td>230</td>\n",
       "      <td>230</td>\n",
       "      <td>55869</td>\n",
       "    </tr>\n",
       "    <tr>\n",
       "      <th>1</th>\n",
       "      <td>1003</td>\n",
       "      <td>Baldwin County</td>\n",
       "      <td>AL</td>\n",
       "      <td>1</td>\n",
       "      <td>0</td>\n",
       "      <td>0</td>\n",
       "      <td>0</td>\n",
       "      <td>0</td>\n",
       "      <td>0</td>\n",
       "      <td>0</td>\n",
       "      <td>...</td>\n",
       "      <td>719</td>\n",
       "      <td>719</td>\n",
       "      <td>719</td>\n",
       "      <td>719</td>\n",
       "      <td>721</td>\n",
       "      <td>721</td>\n",
       "      <td>721</td>\n",
       "      <td>721</td>\n",
       "      <td>721</td>\n",
       "      <td>223234</td>\n",
       "    </tr>\n",
       "    <tr>\n",
       "      <th>2</th>\n",
       "      <td>1005</td>\n",
       "      <td>Barbour County</td>\n",
       "      <td>AL</td>\n",
       "      <td>1</td>\n",
       "      <td>0</td>\n",
       "      <td>0</td>\n",
       "      <td>0</td>\n",
       "      <td>0</td>\n",
       "      <td>0</td>\n",
       "      <td>0</td>\n",
       "      <td>...</td>\n",
       "      <td>103</td>\n",
       "      <td>103</td>\n",
       "      <td>103</td>\n",
       "      <td>103</td>\n",
       "      <td>103</td>\n",
       "      <td>103</td>\n",
       "      <td>103</td>\n",
       "      <td>103</td>\n",
       "      <td>103</td>\n",
       "      <td>24686</td>\n",
       "    </tr>\n",
       "    <tr>\n",
       "      <th>3</th>\n",
       "      <td>1007</td>\n",
       "      <td>Bibb County</td>\n",
       "      <td>AL</td>\n",
       "      <td>1</td>\n",
       "      <td>0</td>\n",
       "      <td>0</td>\n",
       "      <td>0</td>\n",
       "      <td>0</td>\n",
       "      <td>0</td>\n",
       "      <td>0</td>\n",
       "      <td>...</td>\n",
       "      <td>108</td>\n",
       "      <td>108</td>\n",
       "      <td>108</td>\n",
       "      <td>108</td>\n",
       "      <td>108</td>\n",
       "      <td>108</td>\n",
       "      <td>108</td>\n",
       "      <td>108</td>\n",
       "      <td>108</td>\n",
       "      <td>22394</td>\n",
       "    </tr>\n",
       "    <tr>\n",
       "      <th>4</th>\n",
       "      <td>1009</td>\n",
       "      <td>Blount County</td>\n",
       "      <td>AL</td>\n",
       "      <td>1</td>\n",
       "      <td>0</td>\n",
       "      <td>0</td>\n",
       "      <td>0</td>\n",
       "      <td>0</td>\n",
       "      <td>0</td>\n",
       "      <td>0</td>\n",
       "      <td>...</td>\n",
       "      <td>260</td>\n",
       "      <td>260</td>\n",
       "      <td>260</td>\n",
       "      <td>260</td>\n",
       "      <td>261</td>\n",
       "      <td>261</td>\n",
       "      <td>261</td>\n",
       "      <td>261</td>\n",
       "      <td>261</td>\n",
       "      <td>57826</td>\n",
       "    </tr>\n",
       "  </tbody>\n",
       "</table>\n",
       "<p>5 rows × 2187 columns</p>\n",
       "</div>"
      ],
      "text/plain": [
       "   countyFIPS      County Name State  StateFIPS  2020-01-22_x  2020-01-23_x  \\\n",
       "0        1001  Autauga County     AL          1             0             0   \n",
       "1        1003  Baldwin County     AL          1             0             0   \n",
       "2        1005  Barbour County     AL          1             0             0   \n",
       "3        1007     Bibb County     AL          1             0             0   \n",
       "4        1009   Blount County     AL          1             0             0   \n",
       "\n",
       "   2020-01-24_x  2020-01-25_x  2020-01-26_x  2020-01-27_x  ...  2023-01-08_y  \\\n",
       "0             0             0             0             0  ...           230   \n",
       "1             0             0             0             0  ...           719   \n",
       "2             0             0             0             0  ...           103   \n",
       "3             0             0             0             0  ...           108   \n",
       "4             0             0             0             0  ...           260   \n",
       "\n",
       "   2023-01-09_y  2023-01-10_y  2023-01-11_y  2023-01-12_y  2023-01-13_y  \\\n",
       "0           230           230           230           230           230   \n",
       "1           719           719           719           721           721   \n",
       "2           103           103           103           103           103   \n",
       "3           108           108           108           108           108   \n",
       "4           260           260           260           261           261   \n",
       "\n",
       "   2023-01-14_y  2023-01-15_y  2023-01-16_y  population  \n",
       "0           230           230           230       55869  \n",
       "1           721           721           721      223234  \n",
       "2           103           103           103       24686  \n",
       "3           108           108           108       22394  \n",
       "4           261           261           261       57826  \n",
       "\n",
       "[5 rows x 2187 columns]"
      ]
     },
     "execution_count": 2,
     "metadata": {},
     "output_type": "execute_result"
    }
   ],
   "source": [
    "# Reading super covid dataset\n",
    "super_covid = pd.read_csv('../../Team/STAGE1/superCovidDS.CSV')\n",
    "super_covid.head()"
   ]
  },
  {
   "cell_type": "code",
   "execution_count": 3,
   "id": "f80fbbf2",
   "metadata": {},
   "outputs": [],
   "source": [
    "super_covid_column_names = list(super_covid.columns)\n",
    "super_covid_column_names[super_covid_column_names.index('County Name')] = \"County_Name\"\n",
    "super_covid.columns=super_covid_column_names"
   ]
  },
  {
   "cell_type": "code",
   "execution_count": 4,
   "id": "97014f00",
   "metadata": {},
   "outputs": [
    {
     "data": {
      "text/html": [
       "<div>\n",
       "<style scoped>\n",
       "    .dataframe tbody tr th:only-of-type {\n",
       "        vertical-align: middle;\n",
       "    }\n",
       "\n",
       "    .dataframe tbody tr th {\n",
       "        vertical-align: top;\n",
       "    }\n",
       "\n",
       "    .dataframe thead th {\n",
       "        text-align: right;\n",
       "    }\n",
       "</style>\n",
       "<table border=\"1\" class=\"dataframe\">\n",
       "  <thead>\n",
       "    <tr style=\"text-align: right;\">\n",
       "      <th></th>\n",
       "      <th>Date</th>\n",
       "      <th>Week</th>\n",
       "      <th>countyFIPS</th>\n",
       "      <th>County_Name</th>\n",
       "      <th>State</th>\n",
       "      <th>StateFIPS</th>\n",
       "      <th>population</th>\n",
       "      <th>Cases</th>\n",
       "      <th>New_Cases</th>\n",
       "      <th>Deaths</th>\n",
       "      <th>New_Deaths</th>\n",
       "    </tr>\n",
       "  </thead>\n",
       "  <tbody>\n",
       "  </tbody>\n",
       "</table>\n",
       "</div>"
      ],
      "text/plain": [
       "Empty DataFrame\n",
       "Columns: [Date, Week, countyFIPS, County_Name, State, StateFIPS, population, Cases, New_Cases, Deaths, New_Deaths]\n",
       "Index: []"
      ]
     },
     "execution_count": 4,
     "metadata": {},
     "output_type": "execute_result"
    }
   ],
   "source": [
    "transformed_df = pd.DataFrame(columns=['Date','Week','countyFIPS','County_Name', 'State', 'StateFIPS', 'population', 'Cases', 'New_Cases', 'Deaths', 'New_Deaths'])\n",
    "transformed_df.head()"
   ]
  },
  {
   "cell_type": "code",
   "execution_count": 5,
   "id": "c4310881",
   "metadata": {
    "scrolled": true
   },
   "outputs": [
    {
     "data": {
      "text/html": [
       "<div>\n",
       "<style scoped>\n",
       "    .dataframe tbody tr th:only-of-type {\n",
       "        vertical-align: middle;\n",
       "    }\n",
       "\n",
       "    .dataframe tbody tr th {\n",
       "        vertical-align: top;\n",
       "    }\n",
       "\n",
       "    .dataframe thead th {\n",
       "        text-align: right;\n",
       "    }\n",
       "</style>\n",
       "<table border=\"1\" class=\"dataframe\">\n",
       "  <thead>\n",
       "    <tr style=\"text-align: right;\">\n",
       "      <th></th>\n",
       "      <th>Date</th>\n",
       "      <th>Week</th>\n",
       "      <th>countyFIPS</th>\n",
       "      <th>County_Name</th>\n",
       "      <th>State</th>\n",
       "      <th>StateFIPS</th>\n",
       "      <th>population</th>\n",
       "      <th>Cases</th>\n",
       "      <th>New_Cases</th>\n",
       "      <th>Deaths</th>\n",
       "      <th>New_Deaths</th>\n",
       "    </tr>\n",
       "  </thead>\n",
       "  <tbody>\n",
       "    <tr>\n",
       "      <th>0</th>\n",
       "      <td>2022-06-01</td>\n",
       "      <td>22</td>\n",
       "      <td>1001</td>\n",
       "      <td>Autauga County</td>\n",
       "      <td>AL</td>\n",
       "      <td>1</td>\n",
       "      <td>55869</td>\n",
       "      <td>15969</td>\n",
       "      <td>6</td>\n",
       "      <td>216</td>\n",
       "      <td>0</td>\n",
       "    </tr>\n",
       "    <tr>\n",
       "      <th>1</th>\n",
       "      <td>2022-06-01</td>\n",
       "      <td>22</td>\n",
       "      <td>1003</td>\n",
       "      <td>Baldwin County</td>\n",
       "      <td>AL</td>\n",
       "      <td>1</td>\n",
       "      <td>223234</td>\n",
       "      <td>56580</td>\n",
       "      <td>68</td>\n",
       "      <td>683</td>\n",
       "      <td>0</td>\n",
       "    </tr>\n",
       "    <tr>\n",
       "      <th>2</th>\n",
       "      <td>2022-06-01</td>\n",
       "      <td>22</td>\n",
       "      <td>1005</td>\n",
       "      <td>Barbour County</td>\n",
       "      <td>AL</td>\n",
       "      <td>1</td>\n",
       "      <td>24686</td>\n",
       "      <td>5710</td>\n",
       "      <td>3</td>\n",
       "      <td>99</td>\n",
       "      <td>0</td>\n",
       "    </tr>\n",
       "    <tr>\n",
       "      <th>3</th>\n",
       "      <td>2022-06-01</td>\n",
       "      <td>22</td>\n",
       "      <td>1007</td>\n",
       "      <td>Bibb County</td>\n",
       "      <td>AL</td>\n",
       "      <td>1</td>\n",
       "      <td>22394</td>\n",
       "      <td>6508</td>\n",
       "      <td>8</td>\n",
       "      <td>105</td>\n",
       "      <td>0</td>\n",
       "    </tr>\n",
       "    <tr>\n",
       "      <th>4</th>\n",
       "      <td>2022-06-01</td>\n",
       "      <td>22</td>\n",
       "      <td>1009</td>\n",
       "      <td>Blount County</td>\n",
       "      <td>AL</td>\n",
       "      <td>1</td>\n",
       "      <td>57826</td>\n",
       "      <td>15077</td>\n",
       "      <td>4</td>\n",
       "      <td>244</td>\n",
       "      <td>0</td>\n",
       "    </tr>\n",
       "  </tbody>\n",
       "</table>\n",
       "</div>"
      ],
      "text/plain": [
       "        Date Week countyFIPS      County_Name State StateFIPS population  \\\n",
       "0 2022-06-01   22       1001  Autauga County     AL         1      55869   \n",
       "1 2022-06-01   22       1003  Baldwin County     AL         1     223234   \n",
       "2 2022-06-01   22       1005  Barbour County     AL         1      24686   \n",
       "3 2022-06-01   22       1007     Bibb County     AL         1      22394   \n",
       "4 2022-06-01   22       1009   Blount County     AL         1      57826   \n",
       "\n",
       "   Cases New_Cases Deaths New_Deaths  \n",
       "0  15969         6    216          0  \n",
       "1  56580        68    683          0  \n",
       "2   5710         3     99          0  \n",
       "3   6508         8    105          0  \n",
       "4  15077         4    244          0  "
      ]
     },
     "execution_count": 5,
     "metadata": {},
     "output_type": "execute_result"
    }
   ],
   "source": [
    "start_date = dt.datetime(2022,6,1)\n",
    "end_date = dt.datetime(2022,12,31)\n",
    "date_series = pd.date_range(start_date, end_date, freq='d')\n",
    "date_delta = dt.timedelta(days=1)\n",
    "for date in date_series:\n",
    "    data = []\n",
    "    for _ , row in super_covid.iterrows():\n",
    "        temp = [date, date.isocalendar().week, getattr(row, 'countyFIPS'), getattr(row, 'County_Name'),\n",
    "                getattr(row, 'State'), getattr(row, 'StateFIPS'), getattr(row, 'population')]\n",
    "        cases_column = date.strftime('%Y-%m-%d_x')\n",
    "        temp.append(getattr(row, cases_column))\n",
    "        temp.append(getattr(row, cases_column) - getattr(row, (date-date_delta).strftime('%Y-%m-%d_x')))\n",
    "        deaths_column = date.strftime('%Y-%m-%d_y')\n",
    "        temp.append(getattr(row, deaths_column))\n",
    "        temp.append(getattr(row, deaths_column) - getattr(row, (date-date_delta).strftime('%Y-%m-%d_y')))\n",
    "        data.append(temp)\n",
    "    transformed_df = pd.concat([transformed_df, pd.DataFrame(data, columns=transformed_df.columns)])\n",
    "transformed_df.head()"
   ]
  },
  {
   "cell_type": "code",
   "execution_count": 6,
   "id": "127dfd69",
   "metadata": {
    "scrolled": true
   },
   "outputs": [
    {
     "data": {
      "text/plain": [
       "(672388, 11)"
      ]
     },
     "execution_count": 6,
     "metadata": {},
     "output_type": "execute_result"
    }
   ],
   "source": [
    "transformed_df.shape"
   ]
  },
  {
   "cell_type": "code",
   "execution_count": 7,
   "id": "edf5848a",
   "metadata": {},
   "outputs": [
    {
     "name": "stdout",
     "output_type": "stream",
     "text": [
      "<class 'pandas.core.frame.DataFrame'>\n",
      "Int64Index: 672388 entries, 0 to 3141\n",
      "Data columns (total 11 columns):\n",
      " #   Column       Non-Null Count   Dtype         \n",
      "---  ------       --------------   -----         \n",
      " 0   Date         672388 non-null  datetime64[ns]\n",
      " 1   Week         672388 non-null  object        \n",
      " 2   countyFIPS   672388 non-null  object        \n",
      " 3   County_Name  672388 non-null  object        \n",
      " 4   State        672388 non-null  object        \n",
      " 5   StateFIPS    672388 non-null  object        \n",
      " 6   population   672388 non-null  object        \n",
      " 7   Cases        672388 non-null  object        \n",
      " 8   New_Cases    672388 non-null  object        \n",
      " 9   Deaths       672388 non-null  object        \n",
      " 10  New_Deaths   672388 non-null  object        \n",
      "dtypes: datetime64[ns](1), object(10)\n",
      "memory usage: 61.6+ MB\n"
     ]
    }
   ],
   "source": [
    "transformed_df.info()"
   ]
  },
  {
   "cell_type": "code",
   "execution_count": 8,
   "id": "199dfb03",
   "metadata": {},
   "outputs": [],
   "source": [
    "#Changing datatypes\n",
    "transformed_df = transformed_df.astype({'population':int,'Cases':int,'New_Cases':int,'Deaths':int,'New_Deaths':int})"
   ]
  },
  {
   "cell_type": "code",
   "execution_count": 9,
   "id": "794f9c63",
   "metadata": {},
   "outputs": [
    {
     "data": {
      "text/html": [
       "<div>\n",
       "<style scoped>\n",
       "    .dataframe tbody tr th:only-of-type {\n",
       "        vertical-align: middle;\n",
       "    }\n",
       "\n",
       "    .dataframe tbody tr th {\n",
       "        vertical-align: top;\n",
       "    }\n",
       "\n",
       "    .dataframe thead th {\n",
       "        text-align: right;\n",
       "    }\n",
       "</style>\n",
       "<table border=\"1\" class=\"dataframe\">\n",
       "  <thead>\n",
       "    <tr style=\"text-align: right;\">\n",
       "      <th></th>\n",
       "      <th>population</th>\n",
       "      <th>Cases</th>\n",
       "      <th>New_Cases</th>\n",
       "      <th>Deaths</th>\n",
       "      <th>New_Deaths</th>\n",
       "    </tr>\n",
       "  </thead>\n",
       "  <tbody>\n",
       "    <tr>\n",
       "      <th>count</th>\n",
       "      <td>6.723880e+05</td>\n",
       "      <td>6.723880e+05</td>\n",
       "      <td>672388.000000</td>\n",
       "      <td>672388.000000</td>\n",
       "      <td>672388.000000</td>\n",
       "    </tr>\n",
       "    <tr>\n",
       "      <th>mean</th>\n",
       "      <td>1.044683e+05</td>\n",
       "      <td>2.830715e+04</td>\n",
       "      <td>18.528699</td>\n",
       "      <td>308.897577</td>\n",
       "      <td>0.068233</td>\n",
       "    </tr>\n",
       "    <tr>\n",
       "      <th>std</th>\n",
       "      <td>3.334039e+05</td>\n",
       "      <td>9.683983e+04</td>\n",
       "      <td>816.352474</td>\n",
       "      <td>1006.922337</td>\n",
       "      <td>12.226447</td>\n",
       "    </tr>\n",
       "    <tr>\n",
       "      <th>min</th>\n",
       "      <td>8.600000e+01</td>\n",
       "      <td>0.000000e+00</td>\n",
       "      <td>-546013.000000</td>\n",
       "      <td>0.000000</td>\n",
       "      <td>-7980.000000</td>\n",
       "    </tr>\n",
       "    <tr>\n",
       "      <th>25%</th>\n",
       "      <td>1.090100e+04</td>\n",
       "      <td>2.761000e+03</td>\n",
       "      <td>0.000000</td>\n",
       "      <td>42.000000</td>\n",
       "      <td>0.000000</td>\n",
       "    </tr>\n",
       "    <tr>\n",
       "      <th>50%</th>\n",
       "      <td>2.572600e+04</td>\n",
       "      <td>6.981000e+03</td>\n",
       "      <td>0.000000</td>\n",
       "      <td>101.000000</td>\n",
       "      <td>0.000000</td>\n",
       "    </tr>\n",
       "    <tr>\n",
       "      <th>75%</th>\n",
       "      <td>6.809800e+04</td>\n",
       "      <td>1.876200e+04</td>\n",
       "      <td>0.000000</td>\n",
       "      <td>239.000000</td>\n",
       "      <td>0.000000</td>\n",
       "    </tr>\n",
       "    <tr>\n",
       "      <th>max</th>\n",
       "      <td>1.003911e+07</td>\n",
       "      <td>3.420119e+06</td>\n",
       "      <td>167919.000000</td>\n",
       "      <td>34356.000000</td>\n",
       "      <td>3162.000000</td>\n",
       "    </tr>\n",
       "  </tbody>\n",
       "</table>\n",
       "</div>"
      ],
      "text/plain": [
       "         population         Cases      New_Cases         Deaths     New_Deaths\n",
       "count  6.723880e+05  6.723880e+05  672388.000000  672388.000000  672388.000000\n",
       "mean   1.044683e+05  2.830715e+04      18.528699     308.897577       0.068233\n",
       "std    3.334039e+05  9.683983e+04     816.352474    1006.922337      12.226447\n",
       "min    8.600000e+01  0.000000e+00 -546013.000000       0.000000   -7980.000000\n",
       "25%    1.090100e+04  2.761000e+03       0.000000      42.000000       0.000000\n",
       "50%    2.572600e+04  6.981000e+03       0.000000     101.000000       0.000000\n",
       "75%    6.809800e+04  1.876200e+04       0.000000     239.000000       0.000000\n",
       "max    1.003911e+07  3.420119e+06  167919.000000   34356.000000    3162.000000"
      ]
     },
     "execution_count": 9,
     "metadata": {},
     "output_type": "execute_result"
    }
   ],
   "source": [
    "transformed_df[['population','Cases','New_Cases','Deaths','New_Deaths']].describe()"
   ]
  },
  {
   "cell_type": "markdown",
   "id": "039ee475",
   "metadata": {},
   "source": [
    "We can see negative numbers in the New Cases and Deaths which could be beacuse of data inconsistency. Let us verify the data for those rows"
   ]
  },
  {
   "cell_type": "code",
   "execution_count": 10,
   "id": "3b62949b",
   "metadata": {},
   "outputs": [
    {
     "data": {
      "text/html": [
       "<div>\n",
       "<style scoped>\n",
       "    .dataframe tbody tr th:only-of-type {\n",
       "        vertical-align: middle;\n",
       "    }\n",
       "\n",
       "    .dataframe tbody tr th {\n",
       "        vertical-align: top;\n",
       "    }\n",
       "\n",
       "    .dataframe thead th {\n",
       "        text-align: right;\n",
       "    }\n",
       "</style>\n",
       "<table border=\"1\" class=\"dataframe\">\n",
       "  <thead>\n",
       "    <tr style=\"text-align: right;\">\n",
       "      <th></th>\n",
       "      <th>Date</th>\n",
       "      <th>Week</th>\n",
       "      <th>countyFIPS</th>\n",
       "      <th>County_Name</th>\n",
       "      <th>State</th>\n",
       "      <th>StateFIPS</th>\n",
       "      <th>population</th>\n",
       "      <th>Cases</th>\n",
       "      <th>New_Cases</th>\n",
       "      <th>Deaths</th>\n",
       "      <th>New_Deaths</th>\n",
       "    </tr>\n",
       "  </thead>\n",
       "  <tbody>\n",
       "    <tr>\n",
       "      <th>387</th>\n",
       "      <td>2022-06-01</td>\n",
       "      <td>22</td>\n",
       "      <td>13001</td>\n",
       "      <td>Appling County</td>\n",
       "      <td>GA</td>\n",
       "      <td>13</td>\n",
       "      <td>18386</td>\n",
       "      <td>3558</td>\n",
       "      <td>-1</td>\n",
       "      <td>128</td>\n",
       "      <td>0</td>\n",
       "    </tr>\n",
       "    <tr>\n",
       "      <th>389</th>\n",
       "      <td>2022-06-01</td>\n",
       "      <td>22</td>\n",
       "      <td>13005</td>\n",
       "      <td>Bacon County</td>\n",
       "      <td>GA</td>\n",
       "      <td>13</td>\n",
       "      <td>11164</td>\n",
       "      <td>2666</td>\n",
       "      <td>-3</td>\n",
       "      <td>78</td>\n",
       "      <td>0</td>\n",
       "    </tr>\n",
       "    <tr>\n",
       "      <th>391</th>\n",
       "      <td>2022-06-01</td>\n",
       "      <td>22</td>\n",
       "      <td>13009</td>\n",
       "      <td>Baldwin County</td>\n",
       "      <td>GA</td>\n",
       "      <td>13</td>\n",
       "      <td>44890</td>\n",
       "      <td>7347</td>\n",
       "      <td>-10</td>\n",
       "      <td>240</td>\n",
       "      <td>0</td>\n",
       "    </tr>\n",
       "    <tr>\n",
       "      <th>392</th>\n",
       "      <td>2022-06-01</td>\n",
       "      <td>22</td>\n",
       "      <td>13011</td>\n",
       "      <td>Banks County</td>\n",
       "      <td>GA</td>\n",
       "      <td>13</td>\n",
       "      <td>19234</td>\n",
       "      <td>3432</td>\n",
       "      <td>-9</td>\n",
       "      <td>94</td>\n",
       "      <td>0</td>\n",
       "    </tr>\n",
       "    <tr>\n",
       "      <th>393</th>\n",
       "      <td>2022-06-01</td>\n",
       "      <td>22</td>\n",
       "      <td>13013</td>\n",
       "      <td>Barrow County</td>\n",
       "      <td>GA</td>\n",
       "      <td>13</td>\n",
       "      <td>83240</td>\n",
       "      <td>19650</td>\n",
       "      <td>-56</td>\n",
       "      <td>257</td>\n",
       "      <td>0</td>\n",
       "    </tr>\n",
       "    <tr>\n",
       "      <th>...</th>\n",
       "      <td>...</td>\n",
       "      <td>...</td>\n",
       "      <td>...</td>\n",
       "      <td>...</td>\n",
       "      <td>...</td>\n",
       "      <td>...</td>\n",
       "      <td>...</td>\n",
       "      <td>...</td>\n",
       "      <td>...</td>\n",
       "      <td>...</td>\n",
       "      <td>...</td>\n",
       "    </tr>\n",
       "    <tr>\n",
       "      <th>1602</th>\n",
       "      <td>2022-12-30</td>\n",
       "      <td>52</td>\n",
       "      <td>30009</td>\n",
       "      <td>Carbon County</td>\n",
       "      <td>MT</td>\n",
       "      <td>30</td>\n",
       "      <td>10725</td>\n",
       "      <td>2418</td>\n",
       "      <td>-2</td>\n",
       "      <td>29</td>\n",
       "      <td>0</td>\n",
       "    </tr>\n",
       "    <tr>\n",
       "      <th>2178</th>\n",
       "      <td>2022-12-30</td>\n",
       "      <td>52</td>\n",
       "      <td>40095</td>\n",
       "      <td>Marshall County</td>\n",
       "      <td>OK</td>\n",
       "      <td>40</td>\n",
       "      <td>16931</td>\n",
       "      <td>2571</td>\n",
       "      <td>-2837</td>\n",
       "      <td>48</td>\n",
       "      <td>0</td>\n",
       "    </tr>\n",
       "    <tr>\n",
       "      <th>2380</th>\n",
       "      <td>2022-12-30</td>\n",
       "      <td>52</td>\n",
       "      <td>46039</td>\n",
       "      <td>Deuel County</td>\n",
       "      <td>SD</td>\n",
       "      <td>46</td>\n",
       "      <td>4351</td>\n",
       "      <td>1172</td>\n",
       "      <td>-1</td>\n",
       "      <td>12</td>\n",
       "      <td>0</td>\n",
       "    </tr>\n",
       "    <tr>\n",
       "      <th>2400</th>\n",
       "      <td>2022-12-30</td>\n",
       "      <td>52</td>\n",
       "      <td>46079</td>\n",
       "      <td>Lake County</td>\n",
       "      <td>SD</td>\n",
       "      <td>46</td>\n",
       "      <td>12797</td>\n",
       "      <td>2588</td>\n",
       "      <td>-2</td>\n",
       "      <td>28</td>\n",
       "      <td>0</td>\n",
       "    </tr>\n",
       "    <tr>\n",
       "      <th>1178</th>\n",
       "      <td>2022-12-31</td>\n",
       "      <td>52</td>\n",
       "      <td>23003</td>\n",
       "      <td>Aroostook County</td>\n",
       "      <td>ME</td>\n",
       "      <td>23</td>\n",
       "      <td>67055</td>\n",
       "      <td>17709</td>\n",
       "      <td>-2</td>\n",
       "      <td>192</td>\n",
       "      <td>0</td>\n",
       "    </tr>\n",
       "  </tbody>\n",
       "</table>\n",
       "<p>2226 rows × 11 columns</p>\n",
       "</div>"
      ],
      "text/plain": [
       "           Date Week countyFIPS        County_Name State StateFIPS  \\\n",
       "387  2022-06-01   22      13001    Appling County     GA        13   \n",
       "389  2022-06-01   22      13005      Bacon County     GA        13   \n",
       "391  2022-06-01   22      13009    Baldwin County     GA        13   \n",
       "392  2022-06-01   22      13011      Banks County     GA        13   \n",
       "393  2022-06-01   22      13013     Barrow County     GA        13   \n",
       "...         ...  ...        ...                ...   ...       ...   \n",
       "1602 2022-12-30   52      30009     Carbon County     MT        30   \n",
       "2178 2022-12-30   52      40095   Marshall County     OK        40   \n",
       "2380 2022-12-30   52      46039      Deuel County     SD        46   \n",
       "2400 2022-12-30   52      46079       Lake County     SD        46   \n",
       "1178 2022-12-31   52      23003  Aroostook County     ME        23   \n",
       "\n",
       "      population  Cases  New_Cases  Deaths  New_Deaths  \n",
       "387        18386   3558         -1     128           0  \n",
       "389        11164   2666         -3      78           0  \n",
       "391        44890   7347        -10     240           0  \n",
       "392        19234   3432         -9      94           0  \n",
       "393        83240  19650        -56     257           0  \n",
       "...          ...    ...        ...     ...         ...  \n",
       "1602       10725   2418         -2      29           0  \n",
       "2178       16931   2571      -2837      48           0  \n",
       "2380        4351   1172         -1      12           0  \n",
       "2400       12797   2588         -2      28           0  \n",
       "1178       67055  17709         -2     192           0  \n",
       "\n",
       "[2226 rows x 11 columns]"
      ]
     },
     "execution_count": 10,
     "metadata": {},
     "output_type": "execute_result"
    }
   ],
   "source": [
    "transformed_df.query('New_Cases < 0')"
   ]
  },
  {
   "cell_type": "markdown",
   "id": "a99f373a",
   "metadata": {},
   "source": [
    "Filtered the data for negative New Cases, The first row is for Appling County shows negative New_Cases Let us verify the data for couple of Counties and those dates.\n",
    "\n",
    "Picking the below entries for analysis\n",
    "Appling County with Date Jun 1st. \n",
    "Barrow County with Date Jun1st\n",
    "Marshall County with Date Dec30\n",
    "Carbon County with Date Dec30"
   ]
  },
  {
   "cell_type": "code",
   "execution_count": 11,
   "id": "6046b152",
   "metadata": {},
   "outputs": [
    {
     "data": {
      "text/html": [
       "<div>\n",
       "<style scoped>\n",
       "    .dataframe tbody tr th:only-of-type {\n",
       "        vertical-align: middle;\n",
       "    }\n",
       "\n",
       "    .dataframe tbody tr th {\n",
       "        vertical-align: top;\n",
       "    }\n",
       "\n",
       "    .dataframe thead th {\n",
       "        text-align: right;\n",
       "    }\n",
       "</style>\n",
       "<table border=\"1\" class=\"dataframe\">\n",
       "  <thead>\n",
       "    <tr style=\"text-align: right;\">\n",
       "      <th></th>\n",
       "      <th>countyFIPS</th>\n",
       "      <th>County_Name</th>\n",
       "      <th>State</th>\n",
       "      <th>StateFIPS</th>\n",
       "      <th>2020-01-22_x</th>\n",
       "      <th>2020-01-23_x</th>\n",
       "      <th>2020-01-24_x</th>\n",
       "      <th>2020-01-25_x</th>\n",
       "      <th>2020-01-26_x</th>\n",
       "      <th>2020-01-27_x</th>\n",
       "      <th>...</th>\n",
       "      <th>2023-01-08_y</th>\n",
       "      <th>2023-01-09_y</th>\n",
       "      <th>2023-01-10_y</th>\n",
       "      <th>2023-01-11_y</th>\n",
       "      <th>2023-01-12_y</th>\n",
       "      <th>2023-01-13_y</th>\n",
       "      <th>2023-01-14_y</th>\n",
       "      <th>2023-01-15_y</th>\n",
       "      <th>2023-01-16_y</th>\n",
       "      <th>population</th>\n",
       "    </tr>\n",
       "  </thead>\n",
       "  <tbody>\n",
       "    <tr>\n",
       "      <th>0</th>\n",
       "      <td>1001</td>\n",
       "      <td>Autauga County</td>\n",
       "      <td>AL</td>\n",
       "      <td>1</td>\n",
       "      <td>0</td>\n",
       "      <td>0</td>\n",
       "      <td>0</td>\n",
       "      <td>0</td>\n",
       "      <td>0</td>\n",
       "      <td>0</td>\n",
       "      <td>...</td>\n",
       "      <td>230</td>\n",
       "      <td>230</td>\n",
       "      <td>230</td>\n",
       "      <td>230</td>\n",
       "      <td>230</td>\n",
       "      <td>230</td>\n",
       "      <td>230</td>\n",
       "      <td>230</td>\n",
       "      <td>230</td>\n",
       "      <td>55869</td>\n",
       "    </tr>\n",
       "    <tr>\n",
       "      <th>1</th>\n",
       "      <td>1003</td>\n",
       "      <td>Baldwin County</td>\n",
       "      <td>AL</td>\n",
       "      <td>1</td>\n",
       "      <td>0</td>\n",
       "      <td>0</td>\n",
       "      <td>0</td>\n",
       "      <td>0</td>\n",
       "      <td>0</td>\n",
       "      <td>0</td>\n",
       "      <td>...</td>\n",
       "      <td>719</td>\n",
       "      <td>719</td>\n",
       "      <td>719</td>\n",
       "      <td>719</td>\n",
       "      <td>721</td>\n",
       "      <td>721</td>\n",
       "      <td>721</td>\n",
       "      <td>721</td>\n",
       "      <td>721</td>\n",
       "      <td>223234</td>\n",
       "    </tr>\n",
       "    <tr>\n",
       "      <th>2</th>\n",
       "      <td>1005</td>\n",
       "      <td>Barbour County</td>\n",
       "      <td>AL</td>\n",
       "      <td>1</td>\n",
       "      <td>0</td>\n",
       "      <td>0</td>\n",
       "      <td>0</td>\n",
       "      <td>0</td>\n",
       "      <td>0</td>\n",
       "      <td>0</td>\n",
       "      <td>...</td>\n",
       "      <td>103</td>\n",
       "      <td>103</td>\n",
       "      <td>103</td>\n",
       "      <td>103</td>\n",
       "      <td>103</td>\n",
       "      <td>103</td>\n",
       "      <td>103</td>\n",
       "      <td>103</td>\n",
       "      <td>103</td>\n",
       "      <td>24686</td>\n",
       "    </tr>\n",
       "    <tr>\n",
       "      <th>3</th>\n",
       "      <td>1007</td>\n",
       "      <td>Bibb County</td>\n",
       "      <td>AL</td>\n",
       "      <td>1</td>\n",
       "      <td>0</td>\n",
       "      <td>0</td>\n",
       "      <td>0</td>\n",
       "      <td>0</td>\n",
       "      <td>0</td>\n",
       "      <td>0</td>\n",
       "      <td>...</td>\n",
       "      <td>108</td>\n",
       "      <td>108</td>\n",
       "      <td>108</td>\n",
       "      <td>108</td>\n",
       "      <td>108</td>\n",
       "      <td>108</td>\n",
       "      <td>108</td>\n",
       "      <td>108</td>\n",
       "      <td>108</td>\n",
       "      <td>22394</td>\n",
       "    </tr>\n",
       "    <tr>\n",
       "      <th>4</th>\n",
       "      <td>1009</td>\n",
       "      <td>Blount County</td>\n",
       "      <td>AL</td>\n",
       "      <td>1</td>\n",
       "      <td>0</td>\n",
       "      <td>0</td>\n",
       "      <td>0</td>\n",
       "      <td>0</td>\n",
       "      <td>0</td>\n",
       "      <td>0</td>\n",
       "      <td>...</td>\n",
       "      <td>260</td>\n",
       "      <td>260</td>\n",
       "      <td>260</td>\n",
       "      <td>260</td>\n",
       "      <td>261</td>\n",
       "      <td>261</td>\n",
       "      <td>261</td>\n",
       "      <td>261</td>\n",
       "      <td>261</td>\n",
       "      <td>57826</td>\n",
       "    </tr>\n",
       "  </tbody>\n",
       "</table>\n",
       "<p>5 rows × 2187 columns</p>\n",
       "</div>"
      ],
      "text/plain": [
       "   countyFIPS      County_Name State  StateFIPS  2020-01-22_x  2020-01-23_x  \\\n",
       "0        1001  Autauga County     AL          1             0             0   \n",
       "1        1003  Baldwin County     AL          1             0             0   \n",
       "2        1005  Barbour County     AL          1             0             0   \n",
       "3        1007     Bibb County     AL          1             0             0   \n",
       "4        1009   Blount County     AL          1             0             0   \n",
       "\n",
       "   2020-01-24_x  2020-01-25_x  2020-01-26_x  2020-01-27_x  ...  2023-01-08_y  \\\n",
       "0             0             0             0             0  ...           230   \n",
       "1             0             0             0             0  ...           719   \n",
       "2             0             0             0             0  ...           103   \n",
       "3             0             0             0             0  ...           108   \n",
       "4             0             0             0             0  ...           260   \n",
       "\n",
       "   2023-01-09_y  2023-01-10_y  2023-01-11_y  2023-01-12_y  2023-01-13_y  \\\n",
       "0           230           230           230           230           230   \n",
       "1           719           719           719           721           721   \n",
       "2           103           103           103           103           103   \n",
       "3           108           108           108           108           108   \n",
       "4           260           260           260           261           261   \n",
       "\n",
       "   2023-01-14_y  2023-01-15_y  2023-01-16_y  population  \n",
       "0           230           230           230       55869  \n",
       "1           721           721           721      223234  \n",
       "2           103           103           103       24686  \n",
       "3           108           108           108       22394  \n",
       "4           261           261           261       57826  \n",
       "\n",
       "[5 rows x 2187 columns]"
      ]
     },
     "execution_count": 11,
     "metadata": {},
     "output_type": "execute_result"
    }
   ],
   "source": [
    "super_covid.head()"
   ]
  },
  {
   "cell_type": "code",
   "execution_count": 12,
   "id": "bbf29e54",
   "metadata": {},
   "outputs": [
    {
     "data": {
      "text/html": [
       "<div>\n",
       "<style scoped>\n",
       "    .dataframe tbody tr th:only-of-type {\n",
       "        vertical-align: middle;\n",
       "    }\n",
       "\n",
       "    .dataframe tbody tr th {\n",
       "        vertical-align: top;\n",
       "    }\n",
       "\n",
       "    .dataframe thead th {\n",
       "        text-align: right;\n",
       "    }\n",
       "</style>\n",
       "<table border=\"1\" class=\"dataframe\">\n",
       "  <thead>\n",
       "    <tr style=\"text-align: right;\">\n",
       "      <th></th>\n",
       "      <th>County_Name</th>\n",
       "      <th>2022-05-30_x</th>\n",
       "      <th>2022-05-31_x</th>\n",
       "      <th>2022-06-01_x</th>\n",
       "      <th>2022-06-02_x</th>\n",
       "      <th>2022-12-28_x</th>\n",
       "      <th>2022-12-29_x</th>\n",
       "      <th>2022-12-30_x</th>\n",
       "      <th>2022-12-31_x</th>\n",
       "    </tr>\n",
       "  </thead>\n",
       "  <tbody>\n",
       "    <tr>\n",
       "      <th>387</th>\n",
       "      <td>Appling County</td>\n",
       "      <td>3559</td>\n",
       "      <td>3559</td>\n",
       "      <td>3558</td>\n",
       "      <td>3558</td>\n",
       "      <td>3757</td>\n",
       "      <td>3757</td>\n",
       "      <td>3794</td>\n",
       "      <td>3794</td>\n",
       "    </tr>\n",
       "    <tr>\n",
       "      <th>393</th>\n",
       "      <td>Barrow County</td>\n",
       "      <td>19706</td>\n",
       "      <td>19706</td>\n",
       "      <td>19650</td>\n",
       "      <td>19650</td>\n",
       "      <td>22164</td>\n",
       "      <td>22164</td>\n",
       "      <td>22737</td>\n",
       "      <td>22737</td>\n",
       "    </tr>\n",
       "    <tr>\n",
       "      <th>1602</th>\n",
       "      <td>Carbon County</td>\n",
       "      <td>2101</td>\n",
       "      <td>2101</td>\n",
       "      <td>2101</td>\n",
       "      <td>2101</td>\n",
       "      <td>2420</td>\n",
       "      <td>2420</td>\n",
       "      <td>2418</td>\n",
       "      <td>2418</td>\n",
       "    </tr>\n",
       "    <tr>\n",
       "      <th>2178</th>\n",
       "      <td>Marshall County</td>\n",
       "      <td>4608</td>\n",
       "      <td>4608</td>\n",
       "      <td>4608</td>\n",
       "      <td>4608</td>\n",
       "      <td>5408</td>\n",
       "      <td>5408</td>\n",
       "      <td>2571</td>\n",
       "      <td>2571</td>\n",
       "    </tr>\n",
       "  </tbody>\n",
       "</table>\n",
       "</div>"
      ],
      "text/plain": [
       "           County_Name  2022-05-30_x  2022-05-31_x  2022-06-01_x  \\\n",
       "387    Appling County           3559          3559          3558   \n",
       "393     Barrow County          19706         19706         19650   \n",
       "1602    Carbon County           2101          2101          2101   \n",
       "2178  Marshall County           4608          4608          4608   \n",
       "\n",
       "      2022-06-02_x  2022-12-28_x  2022-12-29_x  2022-12-30_x  2022-12-31_x  \n",
       "387           3558          3757          3757          3794          3794  \n",
       "393          19650         22164         22164         22737         22737  \n",
       "1602          2101          2420          2420          2418          2418  \n",
       "2178          4608          5408          5408          2571          2571  "
      ]
     },
     "execution_count": 12,
     "metadata": {},
     "output_type": "execute_result"
    }
   ],
   "source": [
    "# Fetching cases data for above selected counties and dates(along with before and after) from super_covid\n",
    "countyIds = [13001, 13013, 30009, 40095]\n",
    "columns = ['County_Name','2022-05-30_x','2022-05-31_x','2022-06-01_x','2022-06-02_x','2022-12-28_x','2022-12-29_x','2022-12-30_x','2022-12-31_x']\n",
    "super_covid.query(f'countyFIPS in {countyIds}')[columns]"
   ]
  },
  {
   "cell_type": "code",
   "execution_count": 17,
   "id": "21484bf6",
   "metadata": {},
   "outputs": [
    {
     "data": {
      "application/vnd.plotly.v1+json": {
       "config": {
        "plotlyServerURL": "https://plot.ly"
       },
       "data": [
        {
         "hovertemplate": "Date=%{x}<br>Cases=%{y}<extra></extra>",
         "legendgroup": "",
         "line": {
          "color": "#636efa",
          "dash": "solid"
         },
         "marker": {
          "symbol": "circle"
         },
         "mode": "lines",
         "name": "",
         "orientation": "v",
         "showlegend": false,
         "type": "scatter",
         "x": [
          "2022-06-01T00:00:00",
          "2022-06-02T00:00:00",
          "2022-06-03T00:00:00",
          "2022-06-04T00:00:00",
          "2022-06-05T00:00:00",
          "2022-06-06T00:00:00",
          "2022-06-07T00:00:00",
          "2022-06-08T00:00:00",
          "2022-06-09T00:00:00",
          "2022-06-10T00:00:00",
          "2022-06-11T00:00:00",
          "2022-06-12T00:00:00",
          "2022-06-13T00:00:00",
          "2022-06-14T00:00:00",
          "2022-06-15T00:00:00",
          "2022-06-16T00:00:00",
          "2022-06-17T00:00:00",
          "2022-06-18T00:00:00",
          "2022-06-19T00:00:00",
          "2022-06-20T00:00:00",
          "2022-06-21T00:00:00",
          "2022-06-22T00:00:00",
          "2022-06-23T00:00:00",
          "2022-06-24T00:00:00",
          "2022-06-25T00:00:00",
          "2022-06-26T00:00:00",
          "2022-06-27T00:00:00",
          "2022-06-28T00:00:00",
          "2022-06-29T00:00:00",
          "2022-06-30T00:00:00",
          "2022-07-01T00:00:00",
          "2022-07-02T00:00:00",
          "2022-07-03T00:00:00",
          "2022-07-04T00:00:00",
          "2022-07-05T00:00:00",
          "2022-07-06T00:00:00",
          "2022-07-07T00:00:00",
          "2022-07-08T00:00:00",
          "2022-07-09T00:00:00",
          "2022-07-10T00:00:00",
          "2022-07-11T00:00:00",
          "2022-07-12T00:00:00",
          "2022-07-13T00:00:00",
          "2022-07-14T00:00:00",
          "2022-07-15T00:00:00",
          "2022-07-16T00:00:00",
          "2022-07-17T00:00:00",
          "2022-07-18T00:00:00",
          "2022-07-19T00:00:00",
          "2022-07-20T00:00:00",
          "2022-07-21T00:00:00",
          "2022-07-22T00:00:00",
          "2022-07-23T00:00:00",
          "2022-07-24T00:00:00",
          "2022-07-25T00:00:00",
          "2022-07-26T00:00:00",
          "2022-07-27T00:00:00",
          "2022-07-28T00:00:00",
          "2022-07-29T00:00:00",
          "2022-07-30T00:00:00",
          "2022-07-31T00:00:00",
          "2022-08-01T00:00:00",
          "2022-08-02T00:00:00",
          "2022-08-03T00:00:00",
          "2022-08-04T00:00:00",
          "2022-08-05T00:00:00",
          "2022-08-06T00:00:00",
          "2022-08-07T00:00:00",
          "2022-08-08T00:00:00",
          "2022-08-09T00:00:00",
          "2022-08-10T00:00:00",
          "2022-08-11T00:00:00",
          "2022-08-12T00:00:00",
          "2022-08-13T00:00:00",
          "2022-08-14T00:00:00",
          "2022-08-15T00:00:00",
          "2022-08-16T00:00:00",
          "2022-08-17T00:00:00",
          "2022-08-18T00:00:00",
          "2022-08-19T00:00:00",
          "2022-08-20T00:00:00",
          "2022-08-21T00:00:00",
          "2022-08-22T00:00:00",
          "2022-08-23T00:00:00",
          "2022-08-24T00:00:00",
          "2022-08-25T00:00:00",
          "2022-08-26T00:00:00",
          "2022-08-27T00:00:00",
          "2022-08-28T00:00:00",
          "2022-08-29T00:00:00",
          "2022-08-30T00:00:00",
          "2022-08-31T00:00:00",
          "2022-09-01T00:00:00",
          "2022-09-02T00:00:00",
          "2022-09-03T00:00:00",
          "2022-09-04T00:00:00",
          "2022-09-05T00:00:00",
          "2022-09-06T00:00:00",
          "2022-09-07T00:00:00",
          "2022-09-08T00:00:00",
          "2022-09-09T00:00:00",
          "2022-09-10T00:00:00",
          "2022-09-11T00:00:00",
          "2022-09-12T00:00:00",
          "2022-09-13T00:00:00",
          "2022-09-14T00:00:00",
          "2022-09-15T00:00:00",
          "2022-09-16T00:00:00",
          "2022-09-17T00:00:00",
          "2022-09-18T00:00:00",
          "2022-09-19T00:00:00",
          "2022-09-20T00:00:00",
          "2022-09-21T00:00:00",
          "2022-09-22T00:00:00",
          "2022-09-23T00:00:00",
          "2022-09-24T00:00:00",
          "2022-09-25T00:00:00",
          "2022-09-26T00:00:00",
          "2022-09-27T00:00:00",
          "2022-09-28T00:00:00",
          "2022-09-29T00:00:00",
          "2022-09-30T00:00:00",
          "2022-10-01T00:00:00",
          "2022-10-02T00:00:00",
          "2022-10-03T00:00:00",
          "2022-10-04T00:00:00",
          "2022-10-05T00:00:00",
          "2022-10-06T00:00:00",
          "2022-10-07T00:00:00",
          "2022-10-08T00:00:00",
          "2022-10-09T00:00:00",
          "2022-10-10T00:00:00",
          "2022-10-11T00:00:00",
          "2022-10-12T00:00:00",
          "2022-10-13T00:00:00",
          "2022-10-14T00:00:00",
          "2022-10-15T00:00:00",
          "2022-10-16T00:00:00",
          "2022-10-17T00:00:00",
          "2022-10-18T00:00:00",
          "2022-10-19T00:00:00",
          "2022-10-20T00:00:00",
          "2022-10-21T00:00:00",
          "2022-10-22T00:00:00",
          "2022-10-23T00:00:00",
          "2022-10-24T00:00:00",
          "2022-10-25T00:00:00",
          "2022-10-26T00:00:00",
          "2022-10-27T00:00:00",
          "2022-10-28T00:00:00",
          "2022-10-29T00:00:00",
          "2022-10-30T00:00:00",
          "2022-10-31T00:00:00",
          "2022-11-01T00:00:00",
          "2022-11-02T00:00:00",
          "2022-11-03T00:00:00",
          "2022-11-04T00:00:00",
          "2022-11-05T00:00:00",
          "2022-11-06T00:00:00",
          "2022-11-07T00:00:00",
          "2022-11-08T00:00:00",
          "2022-11-09T00:00:00",
          "2022-11-10T00:00:00",
          "2022-11-11T00:00:00",
          "2022-11-12T00:00:00",
          "2022-11-13T00:00:00",
          "2022-11-14T00:00:00",
          "2022-11-15T00:00:00",
          "2022-11-16T00:00:00",
          "2022-11-17T00:00:00",
          "2022-11-18T00:00:00",
          "2022-11-19T00:00:00",
          "2022-11-20T00:00:00",
          "2022-11-21T00:00:00",
          "2022-11-22T00:00:00",
          "2022-11-23T00:00:00",
          "2022-11-24T00:00:00",
          "2022-11-25T00:00:00",
          "2022-11-26T00:00:00",
          "2022-11-27T00:00:00",
          "2022-11-28T00:00:00",
          "2022-11-29T00:00:00",
          "2022-11-30T00:00:00",
          "2022-12-01T00:00:00",
          "2022-12-02T00:00:00",
          "2022-12-03T00:00:00",
          "2022-12-04T00:00:00",
          "2022-12-05T00:00:00",
          "2022-12-06T00:00:00",
          "2022-12-07T00:00:00",
          "2022-12-08T00:00:00",
          "2022-12-09T00:00:00",
          "2022-12-10T00:00:00",
          "2022-12-11T00:00:00",
          "2022-12-12T00:00:00",
          "2022-12-13T00:00:00",
          "2022-12-14T00:00:00",
          "2022-12-15T00:00:00",
          "2022-12-16T00:00:00",
          "2022-12-17T00:00:00",
          "2022-12-18T00:00:00",
          "2022-12-19T00:00:00",
          "2022-12-20T00:00:00",
          "2022-12-21T00:00:00",
          "2022-12-22T00:00:00",
          "2022-12-23T00:00:00",
          "2022-12-24T00:00:00",
          "2022-12-25T00:00:00",
          "2022-12-26T00:00:00",
          "2022-12-27T00:00:00",
          "2022-12-28T00:00:00",
          "2022-12-29T00:00:00",
          "2022-12-30T00:00:00",
          "2022-12-31T00:00:00"
         ],
         "xaxis": "x",
         "y": [
          4608,
          4608,
          4608,
          4608,
          4608,
          4608,
          4608,
          4608,
          4608,
          4631,
          4631,
          4631,
          4631,
          4631,
          4631,
          4631,
          4631,
          4631,
          4631,
          4631,
          4631,
          4631,
          4648,
          4648,
          4648,
          4648,
          4648,
          4648,
          4648,
          4648,
          4648,
          4648,
          4648,
          4648,
          4648,
          4648,
          4727,
          4727,
          4727,
          4727,
          4727,
          4727,
          4727,
          4799,
          4799,
          4799,
          4799,
          4799,
          4799,
          4799,
          4855,
          4855,
          4855,
          4855,
          4855,
          4855,
          4855,
          4899,
          4899,
          4899,
          4899,
          4899,
          4899,
          4899,
          4955,
          4955,
          4955,
          4955,
          4955,
          4955,
          4955,
          4989,
          4989,
          4989,
          4989,
          4989,
          4989,
          4989,
          5026,
          5026,
          5026,
          5026,
          5026,
          5026,
          5026,
          5064,
          5064,
          5064,
          5064,
          5064,
          5064,
          5064,
          5097,
          5097,
          5097,
          5097,
          5097,
          5097,
          5097,
          5143,
          5143,
          5143,
          5143,
          5143,
          5143,
          5143,
          5180,
          5180,
          5180,
          5180,
          5180,
          5180,
          5180,
          5200,
          5200,
          5200,
          5200,
          5200,
          5200,
          5200,
          5226,
          5226,
          5226,
          5226,
          5226,
          5226,
          5226,
          5236,
          5236,
          5236,
          5236,
          5236,
          5236,
          5236,
          5247,
          5247,
          5247,
          5247,
          5247,
          5247,
          5247,
          5262,
          5262,
          5262,
          5262,
          5262,
          5262,
          5262,
          5274,
          5274,
          5274,
          5274,
          5274,
          5274,
          5274,
          5288,
          5288,
          5288,
          5288,
          5288,
          5288,
          5288,
          5304,
          5304,
          5304,
          5304,
          5304,
          5304,
          5304,
          5304,
          5304,
          5304,
          5304,
          5304,
          5304,
          5304,
          5304,
          5304,
          5304,
          5304,
          5304,
          5304,
          5304,
          5328,
          5328,
          5328,
          5328,
          5328,
          5328,
          5328,
          5328,
          5328,
          5328,
          5328,
          5328,
          5328,
          5328,
          5328,
          5408,
          5408,
          5408,
          5408,
          5408,
          5408,
          5408,
          5408,
          5408,
          5408,
          5408,
          5408,
          5408,
          5408,
          2571,
          2571
         ],
         "yaxis": "y"
        }
       ],
       "layout": {
        "legend": {
         "tracegroupgap": 0
        },
        "margin": {
         "t": 60
        },
        "template": {
         "data": {
          "bar": [
           {
            "error_x": {
             "color": "#2a3f5f"
            },
            "error_y": {
             "color": "#2a3f5f"
            },
            "marker": {
             "line": {
              "color": "#E5ECF6",
              "width": 0.5
             },
             "pattern": {
              "fillmode": "overlay",
              "size": 10,
              "solidity": 0.2
             }
            },
            "type": "bar"
           }
          ],
          "barpolar": [
           {
            "marker": {
             "line": {
              "color": "#E5ECF6",
              "width": 0.5
             },
             "pattern": {
              "fillmode": "overlay",
              "size": 10,
              "solidity": 0.2
             }
            },
            "type": "barpolar"
           }
          ],
          "carpet": [
           {
            "aaxis": {
             "endlinecolor": "#2a3f5f",
             "gridcolor": "white",
             "linecolor": "white",
             "minorgridcolor": "white",
             "startlinecolor": "#2a3f5f"
            },
            "baxis": {
             "endlinecolor": "#2a3f5f",
             "gridcolor": "white",
             "linecolor": "white",
             "minorgridcolor": "white",
             "startlinecolor": "#2a3f5f"
            },
            "type": "carpet"
           }
          ],
          "choropleth": [
           {
            "colorbar": {
             "outlinewidth": 0,
             "ticks": ""
            },
            "type": "choropleth"
           }
          ],
          "contour": [
           {
            "colorbar": {
             "outlinewidth": 0,
             "ticks": ""
            },
            "colorscale": [
             [
              0,
              "#0d0887"
             ],
             [
              0.1111111111111111,
              "#46039f"
             ],
             [
              0.2222222222222222,
              "#7201a8"
             ],
             [
              0.3333333333333333,
              "#9c179e"
             ],
             [
              0.4444444444444444,
              "#bd3786"
             ],
             [
              0.5555555555555556,
              "#d8576b"
             ],
             [
              0.6666666666666666,
              "#ed7953"
             ],
             [
              0.7777777777777778,
              "#fb9f3a"
             ],
             [
              0.8888888888888888,
              "#fdca26"
             ],
             [
              1,
              "#f0f921"
             ]
            ],
            "type": "contour"
           }
          ],
          "contourcarpet": [
           {
            "colorbar": {
             "outlinewidth": 0,
             "ticks": ""
            },
            "type": "contourcarpet"
           }
          ],
          "heatmap": [
           {
            "colorbar": {
             "outlinewidth": 0,
             "ticks": ""
            },
            "colorscale": [
             [
              0,
              "#0d0887"
             ],
             [
              0.1111111111111111,
              "#46039f"
             ],
             [
              0.2222222222222222,
              "#7201a8"
             ],
             [
              0.3333333333333333,
              "#9c179e"
             ],
             [
              0.4444444444444444,
              "#bd3786"
             ],
             [
              0.5555555555555556,
              "#d8576b"
             ],
             [
              0.6666666666666666,
              "#ed7953"
             ],
             [
              0.7777777777777778,
              "#fb9f3a"
             ],
             [
              0.8888888888888888,
              "#fdca26"
             ],
             [
              1,
              "#f0f921"
             ]
            ],
            "type": "heatmap"
           }
          ],
          "heatmapgl": [
           {
            "colorbar": {
             "outlinewidth": 0,
             "ticks": ""
            },
            "colorscale": [
             [
              0,
              "#0d0887"
             ],
             [
              0.1111111111111111,
              "#46039f"
             ],
             [
              0.2222222222222222,
              "#7201a8"
             ],
             [
              0.3333333333333333,
              "#9c179e"
             ],
             [
              0.4444444444444444,
              "#bd3786"
             ],
             [
              0.5555555555555556,
              "#d8576b"
             ],
             [
              0.6666666666666666,
              "#ed7953"
             ],
             [
              0.7777777777777778,
              "#fb9f3a"
             ],
             [
              0.8888888888888888,
              "#fdca26"
             ],
             [
              1,
              "#f0f921"
             ]
            ],
            "type": "heatmapgl"
           }
          ],
          "histogram": [
           {
            "marker": {
             "pattern": {
              "fillmode": "overlay",
              "size": 10,
              "solidity": 0.2
             }
            },
            "type": "histogram"
           }
          ],
          "histogram2d": [
           {
            "colorbar": {
             "outlinewidth": 0,
             "ticks": ""
            },
            "colorscale": [
             [
              0,
              "#0d0887"
             ],
             [
              0.1111111111111111,
              "#46039f"
             ],
             [
              0.2222222222222222,
              "#7201a8"
             ],
             [
              0.3333333333333333,
              "#9c179e"
             ],
             [
              0.4444444444444444,
              "#bd3786"
             ],
             [
              0.5555555555555556,
              "#d8576b"
             ],
             [
              0.6666666666666666,
              "#ed7953"
             ],
             [
              0.7777777777777778,
              "#fb9f3a"
             ],
             [
              0.8888888888888888,
              "#fdca26"
             ],
             [
              1,
              "#f0f921"
             ]
            ],
            "type": "histogram2d"
           }
          ],
          "histogram2dcontour": [
           {
            "colorbar": {
             "outlinewidth": 0,
             "ticks": ""
            },
            "colorscale": [
             [
              0,
              "#0d0887"
             ],
             [
              0.1111111111111111,
              "#46039f"
             ],
             [
              0.2222222222222222,
              "#7201a8"
             ],
             [
              0.3333333333333333,
              "#9c179e"
             ],
             [
              0.4444444444444444,
              "#bd3786"
             ],
             [
              0.5555555555555556,
              "#d8576b"
             ],
             [
              0.6666666666666666,
              "#ed7953"
             ],
             [
              0.7777777777777778,
              "#fb9f3a"
             ],
             [
              0.8888888888888888,
              "#fdca26"
             ],
             [
              1,
              "#f0f921"
             ]
            ],
            "type": "histogram2dcontour"
           }
          ],
          "mesh3d": [
           {
            "colorbar": {
             "outlinewidth": 0,
             "ticks": ""
            },
            "type": "mesh3d"
           }
          ],
          "parcoords": [
           {
            "line": {
             "colorbar": {
              "outlinewidth": 0,
              "ticks": ""
             }
            },
            "type": "parcoords"
           }
          ],
          "pie": [
           {
            "automargin": true,
            "type": "pie"
           }
          ],
          "scatter": [
           {
            "fillpattern": {
             "fillmode": "overlay",
             "size": 10,
             "solidity": 0.2
            },
            "type": "scatter"
           }
          ],
          "scatter3d": [
           {
            "line": {
             "colorbar": {
              "outlinewidth": 0,
              "ticks": ""
             }
            },
            "marker": {
             "colorbar": {
              "outlinewidth": 0,
              "ticks": ""
             }
            },
            "type": "scatter3d"
           }
          ],
          "scattercarpet": [
           {
            "marker": {
             "colorbar": {
              "outlinewidth": 0,
              "ticks": ""
             }
            },
            "type": "scattercarpet"
           }
          ],
          "scattergeo": [
           {
            "marker": {
             "colorbar": {
              "outlinewidth": 0,
              "ticks": ""
             }
            },
            "type": "scattergeo"
           }
          ],
          "scattergl": [
           {
            "marker": {
             "colorbar": {
              "outlinewidth": 0,
              "ticks": ""
             }
            },
            "type": "scattergl"
           }
          ],
          "scattermapbox": [
           {
            "marker": {
             "colorbar": {
              "outlinewidth": 0,
              "ticks": ""
             }
            },
            "type": "scattermapbox"
           }
          ],
          "scatterpolar": [
           {
            "marker": {
             "colorbar": {
              "outlinewidth": 0,
              "ticks": ""
             }
            },
            "type": "scatterpolar"
           }
          ],
          "scatterpolargl": [
           {
            "marker": {
             "colorbar": {
              "outlinewidth": 0,
              "ticks": ""
             }
            },
            "type": "scatterpolargl"
           }
          ],
          "scatterternary": [
           {
            "marker": {
             "colorbar": {
              "outlinewidth": 0,
              "ticks": ""
             }
            },
            "type": "scatterternary"
           }
          ],
          "surface": [
           {
            "colorbar": {
             "outlinewidth": 0,
             "ticks": ""
            },
            "colorscale": [
             [
              0,
              "#0d0887"
             ],
             [
              0.1111111111111111,
              "#46039f"
             ],
             [
              0.2222222222222222,
              "#7201a8"
             ],
             [
              0.3333333333333333,
              "#9c179e"
             ],
             [
              0.4444444444444444,
              "#bd3786"
             ],
             [
              0.5555555555555556,
              "#d8576b"
             ],
             [
              0.6666666666666666,
              "#ed7953"
             ],
             [
              0.7777777777777778,
              "#fb9f3a"
             ],
             [
              0.8888888888888888,
              "#fdca26"
             ],
             [
              1,
              "#f0f921"
             ]
            ],
            "type": "surface"
           }
          ],
          "table": [
           {
            "cells": {
             "fill": {
              "color": "#EBF0F8"
             },
             "line": {
              "color": "white"
             }
            },
            "header": {
             "fill": {
              "color": "#C8D4E3"
             },
             "line": {
              "color": "white"
             }
            },
            "type": "table"
           }
          ]
         },
         "layout": {
          "annotationdefaults": {
           "arrowcolor": "#2a3f5f",
           "arrowhead": 0,
           "arrowwidth": 1
          },
          "autotypenumbers": "strict",
          "coloraxis": {
           "colorbar": {
            "outlinewidth": 0,
            "ticks": ""
           }
          },
          "colorscale": {
           "diverging": [
            [
             0,
             "#8e0152"
            ],
            [
             0.1,
             "#c51b7d"
            ],
            [
             0.2,
             "#de77ae"
            ],
            [
             0.3,
             "#f1b6da"
            ],
            [
             0.4,
             "#fde0ef"
            ],
            [
             0.5,
             "#f7f7f7"
            ],
            [
             0.6,
             "#e6f5d0"
            ],
            [
             0.7,
             "#b8e186"
            ],
            [
             0.8,
             "#7fbc41"
            ],
            [
             0.9,
             "#4d9221"
            ],
            [
             1,
             "#276419"
            ]
           ],
           "sequential": [
            [
             0,
             "#0d0887"
            ],
            [
             0.1111111111111111,
             "#46039f"
            ],
            [
             0.2222222222222222,
             "#7201a8"
            ],
            [
             0.3333333333333333,
             "#9c179e"
            ],
            [
             0.4444444444444444,
             "#bd3786"
            ],
            [
             0.5555555555555556,
             "#d8576b"
            ],
            [
             0.6666666666666666,
             "#ed7953"
            ],
            [
             0.7777777777777778,
             "#fb9f3a"
            ],
            [
             0.8888888888888888,
             "#fdca26"
            ],
            [
             1,
             "#f0f921"
            ]
           ],
           "sequentialminus": [
            [
             0,
             "#0d0887"
            ],
            [
             0.1111111111111111,
             "#46039f"
            ],
            [
             0.2222222222222222,
             "#7201a8"
            ],
            [
             0.3333333333333333,
             "#9c179e"
            ],
            [
             0.4444444444444444,
             "#bd3786"
            ],
            [
             0.5555555555555556,
             "#d8576b"
            ],
            [
             0.6666666666666666,
             "#ed7953"
            ],
            [
             0.7777777777777778,
             "#fb9f3a"
            ],
            [
             0.8888888888888888,
             "#fdca26"
            ],
            [
             1,
             "#f0f921"
            ]
           ]
          },
          "colorway": [
           "#636efa",
           "#EF553B",
           "#00cc96",
           "#ab63fa",
           "#FFA15A",
           "#19d3f3",
           "#FF6692",
           "#B6E880",
           "#FF97FF",
           "#FECB52"
          ],
          "font": {
           "color": "#2a3f5f"
          },
          "geo": {
           "bgcolor": "white",
           "lakecolor": "white",
           "landcolor": "#E5ECF6",
           "showlakes": true,
           "showland": true,
           "subunitcolor": "white"
          },
          "hoverlabel": {
           "align": "left"
          },
          "hovermode": "closest",
          "mapbox": {
           "style": "light"
          },
          "paper_bgcolor": "white",
          "plot_bgcolor": "#E5ECF6",
          "polar": {
           "angularaxis": {
            "gridcolor": "white",
            "linecolor": "white",
            "ticks": ""
           },
           "bgcolor": "#E5ECF6",
           "radialaxis": {
            "gridcolor": "white",
            "linecolor": "white",
            "ticks": ""
           }
          },
          "scene": {
           "xaxis": {
            "backgroundcolor": "#E5ECF6",
            "gridcolor": "white",
            "gridwidth": 2,
            "linecolor": "white",
            "showbackground": true,
            "ticks": "",
            "zerolinecolor": "white"
           },
           "yaxis": {
            "backgroundcolor": "#E5ECF6",
            "gridcolor": "white",
            "gridwidth": 2,
            "linecolor": "white",
            "showbackground": true,
            "ticks": "",
            "zerolinecolor": "white"
           },
           "zaxis": {
            "backgroundcolor": "#E5ECF6",
            "gridcolor": "white",
            "gridwidth": 2,
            "linecolor": "white",
            "showbackground": true,
            "ticks": "",
            "zerolinecolor": "white"
           }
          },
          "shapedefaults": {
           "line": {
            "color": "#2a3f5f"
           }
          },
          "ternary": {
           "aaxis": {
            "gridcolor": "white",
            "linecolor": "white",
            "ticks": ""
           },
           "baxis": {
            "gridcolor": "white",
            "linecolor": "white",
            "ticks": ""
           },
           "bgcolor": "#E5ECF6",
           "caxis": {
            "gridcolor": "white",
            "linecolor": "white",
            "ticks": ""
           }
          },
          "title": {
           "x": 0.05
          },
          "xaxis": {
           "automargin": true,
           "gridcolor": "white",
           "linecolor": "white",
           "ticks": "",
           "title": {
            "standoff": 15
           },
           "zerolinecolor": "white",
           "zerolinewidth": 2
          },
          "yaxis": {
           "automargin": true,
           "gridcolor": "white",
           "linecolor": "white",
           "ticks": "",
           "title": {
            "standoff": 15
           },
           "zerolinecolor": "white",
           "zerolinewidth": 2
          }
         }
        },
        "xaxis": {
         "anchor": "y",
         "domain": [
          0,
          1
         ],
         "title": {
          "text": "Date"
         }
        },
        "yaxis": {
         "anchor": "x",
         "domain": [
          0,
          1
         ],
         "title": {
          "text": "Cases"
         }
        }
       }
      },
      "text/html": [
       "<div>                            <div id=\"00c092be-0a8b-4495-8d5c-2e8e97924eba\" class=\"plotly-graph-div\" style=\"height:525px; width:100%;\"></div>            <script type=\"text/javascript\">                require([\"plotly\"], function(Plotly) {                    window.PLOTLYENV=window.PLOTLYENV || {};                                    if (document.getElementById(\"00c092be-0a8b-4495-8d5c-2e8e97924eba\")) {                    Plotly.newPlot(                        \"00c092be-0a8b-4495-8d5c-2e8e97924eba\",                        [{\"hovertemplate\":\"Date=%{x}<br>Cases=%{y}<extra></extra>\",\"legendgroup\":\"\",\"line\":{\"color\":\"#636efa\",\"dash\":\"solid\"},\"marker\":{\"symbol\":\"circle\"},\"mode\":\"lines\",\"name\":\"\",\"orientation\":\"v\",\"showlegend\":false,\"x\":[\"2022-06-01T00:00:00\",\"2022-06-02T00:00:00\",\"2022-06-03T00:00:00\",\"2022-06-04T00:00:00\",\"2022-06-05T00:00:00\",\"2022-06-06T00:00:00\",\"2022-06-07T00:00:00\",\"2022-06-08T00:00:00\",\"2022-06-09T00:00:00\",\"2022-06-10T00:00:00\",\"2022-06-11T00:00:00\",\"2022-06-12T00:00:00\",\"2022-06-13T00:00:00\",\"2022-06-14T00:00:00\",\"2022-06-15T00:00:00\",\"2022-06-16T00:00:00\",\"2022-06-17T00:00:00\",\"2022-06-18T00:00:00\",\"2022-06-19T00:00:00\",\"2022-06-20T00:00:00\",\"2022-06-21T00:00:00\",\"2022-06-22T00:00:00\",\"2022-06-23T00:00:00\",\"2022-06-24T00:00:00\",\"2022-06-25T00:00:00\",\"2022-06-26T00:00:00\",\"2022-06-27T00:00:00\",\"2022-06-28T00:00:00\",\"2022-06-29T00:00:00\",\"2022-06-30T00:00:00\",\"2022-07-01T00:00:00\",\"2022-07-02T00:00:00\",\"2022-07-03T00:00:00\",\"2022-07-04T00:00:00\",\"2022-07-05T00:00:00\",\"2022-07-06T00:00:00\",\"2022-07-07T00:00:00\",\"2022-07-08T00:00:00\",\"2022-07-09T00:00:00\",\"2022-07-10T00:00:00\",\"2022-07-11T00:00:00\",\"2022-07-12T00:00:00\",\"2022-07-13T00:00:00\",\"2022-07-14T00:00:00\",\"2022-07-15T00:00:00\",\"2022-07-16T00:00:00\",\"2022-07-17T00:00:00\",\"2022-07-18T00:00:00\",\"2022-07-19T00:00:00\",\"2022-07-20T00:00:00\",\"2022-07-21T00:00:00\",\"2022-07-22T00:00:00\",\"2022-07-23T00:00:00\",\"2022-07-24T00:00:00\",\"2022-07-25T00:00:00\",\"2022-07-26T00:00:00\",\"2022-07-27T00:00:00\",\"2022-07-28T00:00:00\",\"2022-07-29T00:00:00\",\"2022-07-30T00:00:00\",\"2022-07-31T00:00:00\",\"2022-08-01T00:00:00\",\"2022-08-02T00:00:00\",\"2022-08-03T00:00:00\",\"2022-08-04T00:00:00\",\"2022-08-05T00:00:00\",\"2022-08-06T00:00:00\",\"2022-08-07T00:00:00\",\"2022-08-08T00:00:00\",\"2022-08-09T00:00:00\",\"2022-08-10T00:00:00\",\"2022-08-11T00:00:00\",\"2022-08-12T00:00:00\",\"2022-08-13T00:00:00\",\"2022-08-14T00:00:00\",\"2022-08-15T00:00:00\",\"2022-08-16T00:00:00\",\"2022-08-17T00:00:00\",\"2022-08-18T00:00:00\",\"2022-08-19T00:00:00\",\"2022-08-20T00:00:00\",\"2022-08-21T00:00:00\",\"2022-08-22T00:00:00\",\"2022-08-23T00:00:00\",\"2022-08-24T00:00:00\",\"2022-08-25T00:00:00\",\"2022-08-26T00:00:00\",\"2022-08-27T00:00:00\",\"2022-08-28T00:00:00\",\"2022-08-29T00:00:00\",\"2022-08-30T00:00:00\",\"2022-08-31T00:00:00\",\"2022-09-01T00:00:00\",\"2022-09-02T00:00:00\",\"2022-09-03T00:00:00\",\"2022-09-04T00:00:00\",\"2022-09-05T00:00:00\",\"2022-09-06T00:00:00\",\"2022-09-07T00:00:00\",\"2022-09-08T00:00:00\",\"2022-09-09T00:00:00\",\"2022-09-10T00:00:00\",\"2022-09-11T00:00:00\",\"2022-09-12T00:00:00\",\"2022-09-13T00:00:00\",\"2022-09-14T00:00:00\",\"2022-09-15T00:00:00\",\"2022-09-16T00:00:00\",\"2022-09-17T00:00:00\",\"2022-09-18T00:00:00\",\"2022-09-19T00:00:00\",\"2022-09-20T00:00:00\",\"2022-09-21T00:00:00\",\"2022-09-22T00:00:00\",\"2022-09-23T00:00:00\",\"2022-09-24T00:00:00\",\"2022-09-25T00:00:00\",\"2022-09-26T00:00:00\",\"2022-09-27T00:00:00\",\"2022-09-28T00:00:00\",\"2022-09-29T00:00:00\",\"2022-09-30T00:00:00\",\"2022-10-01T00:00:00\",\"2022-10-02T00:00:00\",\"2022-10-03T00:00:00\",\"2022-10-04T00:00:00\",\"2022-10-05T00:00:00\",\"2022-10-06T00:00:00\",\"2022-10-07T00:00:00\",\"2022-10-08T00:00:00\",\"2022-10-09T00:00:00\",\"2022-10-10T00:00:00\",\"2022-10-11T00:00:00\",\"2022-10-12T00:00:00\",\"2022-10-13T00:00:00\",\"2022-10-14T00:00:00\",\"2022-10-15T00:00:00\",\"2022-10-16T00:00:00\",\"2022-10-17T00:00:00\",\"2022-10-18T00:00:00\",\"2022-10-19T00:00:00\",\"2022-10-20T00:00:00\",\"2022-10-21T00:00:00\",\"2022-10-22T00:00:00\",\"2022-10-23T00:00:00\",\"2022-10-24T00:00:00\",\"2022-10-25T00:00:00\",\"2022-10-26T00:00:00\",\"2022-10-27T00:00:00\",\"2022-10-28T00:00:00\",\"2022-10-29T00:00:00\",\"2022-10-30T00:00:00\",\"2022-10-31T00:00:00\",\"2022-11-01T00:00:00\",\"2022-11-02T00:00:00\",\"2022-11-03T00:00:00\",\"2022-11-04T00:00:00\",\"2022-11-05T00:00:00\",\"2022-11-06T00:00:00\",\"2022-11-07T00:00:00\",\"2022-11-08T00:00:00\",\"2022-11-09T00:00:00\",\"2022-11-10T00:00:00\",\"2022-11-11T00:00:00\",\"2022-11-12T00:00:00\",\"2022-11-13T00:00:00\",\"2022-11-14T00:00:00\",\"2022-11-15T00:00:00\",\"2022-11-16T00:00:00\",\"2022-11-17T00:00:00\",\"2022-11-18T00:00:00\",\"2022-11-19T00:00:00\",\"2022-11-20T00:00:00\",\"2022-11-21T00:00:00\",\"2022-11-22T00:00:00\",\"2022-11-23T00:00:00\",\"2022-11-24T00:00:00\",\"2022-11-25T00:00:00\",\"2022-11-26T00:00:00\",\"2022-11-27T00:00:00\",\"2022-11-28T00:00:00\",\"2022-11-29T00:00:00\",\"2022-11-30T00:00:00\",\"2022-12-01T00:00:00\",\"2022-12-02T00:00:00\",\"2022-12-03T00:00:00\",\"2022-12-04T00:00:00\",\"2022-12-05T00:00:00\",\"2022-12-06T00:00:00\",\"2022-12-07T00:00:00\",\"2022-12-08T00:00:00\",\"2022-12-09T00:00:00\",\"2022-12-10T00:00:00\",\"2022-12-11T00:00:00\",\"2022-12-12T00:00:00\",\"2022-12-13T00:00:00\",\"2022-12-14T00:00:00\",\"2022-12-15T00:00:00\",\"2022-12-16T00:00:00\",\"2022-12-17T00:00:00\",\"2022-12-18T00:00:00\",\"2022-12-19T00:00:00\",\"2022-12-20T00:00:00\",\"2022-12-21T00:00:00\",\"2022-12-22T00:00:00\",\"2022-12-23T00:00:00\",\"2022-12-24T00:00:00\",\"2022-12-25T00:00:00\",\"2022-12-26T00:00:00\",\"2022-12-27T00:00:00\",\"2022-12-28T00:00:00\",\"2022-12-29T00:00:00\",\"2022-12-30T00:00:00\",\"2022-12-31T00:00:00\"],\"xaxis\":\"x\",\"y\":[4608,4608,4608,4608,4608,4608,4608,4608,4608,4631,4631,4631,4631,4631,4631,4631,4631,4631,4631,4631,4631,4631,4648,4648,4648,4648,4648,4648,4648,4648,4648,4648,4648,4648,4648,4648,4727,4727,4727,4727,4727,4727,4727,4799,4799,4799,4799,4799,4799,4799,4855,4855,4855,4855,4855,4855,4855,4899,4899,4899,4899,4899,4899,4899,4955,4955,4955,4955,4955,4955,4955,4989,4989,4989,4989,4989,4989,4989,5026,5026,5026,5026,5026,5026,5026,5064,5064,5064,5064,5064,5064,5064,5097,5097,5097,5097,5097,5097,5097,5143,5143,5143,5143,5143,5143,5143,5180,5180,5180,5180,5180,5180,5180,5200,5200,5200,5200,5200,5200,5200,5226,5226,5226,5226,5226,5226,5226,5236,5236,5236,5236,5236,5236,5236,5247,5247,5247,5247,5247,5247,5247,5262,5262,5262,5262,5262,5262,5262,5274,5274,5274,5274,5274,5274,5274,5288,5288,5288,5288,5288,5288,5288,5304,5304,5304,5304,5304,5304,5304,5304,5304,5304,5304,5304,5304,5304,5304,5304,5304,5304,5304,5304,5304,5328,5328,5328,5328,5328,5328,5328,5328,5328,5328,5328,5328,5328,5328,5328,5408,5408,5408,5408,5408,5408,5408,5408,5408,5408,5408,5408,5408,5408,2571,2571],\"yaxis\":\"y\",\"type\":\"scatter\"}],                        {\"template\":{\"data\":{\"histogram2dcontour\":[{\"type\":\"histogram2dcontour\",\"colorbar\":{\"outlinewidth\":0,\"ticks\":\"\"},\"colorscale\":[[0.0,\"#0d0887\"],[0.1111111111111111,\"#46039f\"],[0.2222222222222222,\"#7201a8\"],[0.3333333333333333,\"#9c179e\"],[0.4444444444444444,\"#bd3786\"],[0.5555555555555556,\"#d8576b\"],[0.6666666666666666,\"#ed7953\"],[0.7777777777777778,\"#fb9f3a\"],[0.8888888888888888,\"#fdca26\"],[1.0,\"#f0f921\"]]}],\"choropleth\":[{\"type\":\"choropleth\",\"colorbar\":{\"outlinewidth\":0,\"ticks\":\"\"}}],\"histogram2d\":[{\"type\":\"histogram2d\",\"colorbar\":{\"outlinewidth\":0,\"ticks\":\"\"},\"colorscale\":[[0.0,\"#0d0887\"],[0.1111111111111111,\"#46039f\"],[0.2222222222222222,\"#7201a8\"],[0.3333333333333333,\"#9c179e\"],[0.4444444444444444,\"#bd3786\"],[0.5555555555555556,\"#d8576b\"],[0.6666666666666666,\"#ed7953\"],[0.7777777777777778,\"#fb9f3a\"],[0.8888888888888888,\"#fdca26\"],[1.0,\"#f0f921\"]]}],\"heatmap\":[{\"type\":\"heatmap\",\"colorbar\":{\"outlinewidth\":0,\"ticks\":\"\"},\"colorscale\":[[0.0,\"#0d0887\"],[0.1111111111111111,\"#46039f\"],[0.2222222222222222,\"#7201a8\"],[0.3333333333333333,\"#9c179e\"],[0.4444444444444444,\"#bd3786\"],[0.5555555555555556,\"#d8576b\"],[0.6666666666666666,\"#ed7953\"],[0.7777777777777778,\"#fb9f3a\"],[0.8888888888888888,\"#fdca26\"],[1.0,\"#f0f921\"]]}],\"heatmapgl\":[{\"type\":\"heatmapgl\",\"colorbar\":{\"outlinewidth\":0,\"ticks\":\"\"},\"colorscale\":[[0.0,\"#0d0887\"],[0.1111111111111111,\"#46039f\"],[0.2222222222222222,\"#7201a8\"],[0.3333333333333333,\"#9c179e\"],[0.4444444444444444,\"#bd3786\"],[0.5555555555555556,\"#d8576b\"],[0.6666666666666666,\"#ed7953\"],[0.7777777777777778,\"#fb9f3a\"],[0.8888888888888888,\"#fdca26\"],[1.0,\"#f0f921\"]]}],\"contourcarpet\":[{\"type\":\"contourcarpet\",\"colorbar\":{\"outlinewidth\":0,\"ticks\":\"\"}}],\"contour\":[{\"type\":\"contour\",\"colorbar\":{\"outlinewidth\":0,\"ticks\":\"\"},\"colorscale\":[[0.0,\"#0d0887\"],[0.1111111111111111,\"#46039f\"],[0.2222222222222222,\"#7201a8\"],[0.3333333333333333,\"#9c179e\"],[0.4444444444444444,\"#bd3786\"],[0.5555555555555556,\"#d8576b\"],[0.6666666666666666,\"#ed7953\"],[0.7777777777777778,\"#fb9f3a\"],[0.8888888888888888,\"#fdca26\"],[1.0,\"#f0f921\"]]}],\"surface\":[{\"type\":\"surface\",\"colorbar\":{\"outlinewidth\":0,\"ticks\":\"\"},\"colorscale\":[[0.0,\"#0d0887\"],[0.1111111111111111,\"#46039f\"],[0.2222222222222222,\"#7201a8\"],[0.3333333333333333,\"#9c179e\"],[0.4444444444444444,\"#bd3786\"],[0.5555555555555556,\"#d8576b\"],[0.6666666666666666,\"#ed7953\"],[0.7777777777777778,\"#fb9f3a\"],[0.8888888888888888,\"#fdca26\"],[1.0,\"#f0f921\"]]}],\"mesh3d\":[{\"type\":\"mesh3d\",\"colorbar\":{\"outlinewidth\":0,\"ticks\":\"\"}}],\"scatter\":[{\"fillpattern\":{\"fillmode\":\"overlay\",\"size\":10,\"solidity\":0.2},\"type\":\"scatter\"}],\"parcoords\":[{\"type\":\"parcoords\",\"line\":{\"colorbar\":{\"outlinewidth\":0,\"ticks\":\"\"}}}],\"scatterpolargl\":[{\"type\":\"scatterpolargl\",\"marker\":{\"colorbar\":{\"outlinewidth\":0,\"ticks\":\"\"}}}],\"bar\":[{\"error_x\":{\"color\":\"#2a3f5f\"},\"error_y\":{\"color\":\"#2a3f5f\"},\"marker\":{\"line\":{\"color\":\"#E5ECF6\",\"width\":0.5},\"pattern\":{\"fillmode\":\"overlay\",\"size\":10,\"solidity\":0.2}},\"type\":\"bar\"}],\"scattergeo\":[{\"type\":\"scattergeo\",\"marker\":{\"colorbar\":{\"outlinewidth\":0,\"ticks\":\"\"}}}],\"scatterpolar\":[{\"type\":\"scatterpolar\",\"marker\":{\"colorbar\":{\"outlinewidth\":0,\"ticks\":\"\"}}}],\"histogram\":[{\"marker\":{\"pattern\":{\"fillmode\":\"overlay\",\"size\":10,\"solidity\":0.2}},\"type\":\"histogram\"}],\"scattergl\":[{\"type\":\"scattergl\",\"marker\":{\"colorbar\":{\"outlinewidth\":0,\"ticks\":\"\"}}}],\"scatter3d\":[{\"type\":\"scatter3d\",\"line\":{\"colorbar\":{\"outlinewidth\":0,\"ticks\":\"\"}},\"marker\":{\"colorbar\":{\"outlinewidth\":0,\"ticks\":\"\"}}}],\"scattermapbox\":[{\"type\":\"scattermapbox\",\"marker\":{\"colorbar\":{\"outlinewidth\":0,\"ticks\":\"\"}}}],\"scatterternary\":[{\"type\":\"scatterternary\",\"marker\":{\"colorbar\":{\"outlinewidth\":0,\"ticks\":\"\"}}}],\"scattercarpet\":[{\"type\":\"scattercarpet\",\"marker\":{\"colorbar\":{\"outlinewidth\":0,\"ticks\":\"\"}}}],\"carpet\":[{\"aaxis\":{\"endlinecolor\":\"#2a3f5f\",\"gridcolor\":\"white\",\"linecolor\":\"white\",\"minorgridcolor\":\"white\",\"startlinecolor\":\"#2a3f5f\"},\"baxis\":{\"endlinecolor\":\"#2a3f5f\",\"gridcolor\":\"white\",\"linecolor\":\"white\",\"minorgridcolor\":\"white\",\"startlinecolor\":\"#2a3f5f\"},\"type\":\"carpet\"}],\"table\":[{\"cells\":{\"fill\":{\"color\":\"#EBF0F8\"},\"line\":{\"color\":\"white\"}},\"header\":{\"fill\":{\"color\":\"#C8D4E3\"},\"line\":{\"color\":\"white\"}},\"type\":\"table\"}],\"barpolar\":[{\"marker\":{\"line\":{\"color\":\"#E5ECF6\",\"width\":0.5},\"pattern\":{\"fillmode\":\"overlay\",\"size\":10,\"solidity\":0.2}},\"type\":\"barpolar\"}],\"pie\":[{\"automargin\":true,\"type\":\"pie\"}]},\"layout\":{\"autotypenumbers\":\"strict\",\"colorway\":[\"#636efa\",\"#EF553B\",\"#00cc96\",\"#ab63fa\",\"#FFA15A\",\"#19d3f3\",\"#FF6692\",\"#B6E880\",\"#FF97FF\",\"#FECB52\"],\"font\":{\"color\":\"#2a3f5f\"},\"hovermode\":\"closest\",\"hoverlabel\":{\"align\":\"left\"},\"paper_bgcolor\":\"white\",\"plot_bgcolor\":\"#E5ECF6\",\"polar\":{\"bgcolor\":\"#E5ECF6\",\"angularaxis\":{\"gridcolor\":\"white\",\"linecolor\":\"white\",\"ticks\":\"\"},\"radialaxis\":{\"gridcolor\":\"white\",\"linecolor\":\"white\",\"ticks\":\"\"}},\"ternary\":{\"bgcolor\":\"#E5ECF6\",\"aaxis\":{\"gridcolor\":\"white\",\"linecolor\":\"white\",\"ticks\":\"\"},\"baxis\":{\"gridcolor\":\"white\",\"linecolor\":\"white\",\"ticks\":\"\"},\"caxis\":{\"gridcolor\":\"white\",\"linecolor\":\"white\",\"ticks\":\"\"}},\"coloraxis\":{\"colorbar\":{\"outlinewidth\":0,\"ticks\":\"\"}},\"colorscale\":{\"sequential\":[[0.0,\"#0d0887\"],[0.1111111111111111,\"#46039f\"],[0.2222222222222222,\"#7201a8\"],[0.3333333333333333,\"#9c179e\"],[0.4444444444444444,\"#bd3786\"],[0.5555555555555556,\"#d8576b\"],[0.6666666666666666,\"#ed7953\"],[0.7777777777777778,\"#fb9f3a\"],[0.8888888888888888,\"#fdca26\"],[1.0,\"#f0f921\"]],\"sequentialminus\":[[0.0,\"#0d0887\"],[0.1111111111111111,\"#46039f\"],[0.2222222222222222,\"#7201a8\"],[0.3333333333333333,\"#9c179e\"],[0.4444444444444444,\"#bd3786\"],[0.5555555555555556,\"#d8576b\"],[0.6666666666666666,\"#ed7953\"],[0.7777777777777778,\"#fb9f3a\"],[0.8888888888888888,\"#fdca26\"],[1.0,\"#f0f921\"]],\"diverging\":[[0,\"#8e0152\"],[0.1,\"#c51b7d\"],[0.2,\"#de77ae\"],[0.3,\"#f1b6da\"],[0.4,\"#fde0ef\"],[0.5,\"#f7f7f7\"],[0.6,\"#e6f5d0\"],[0.7,\"#b8e186\"],[0.8,\"#7fbc41\"],[0.9,\"#4d9221\"],[1,\"#276419\"]]},\"xaxis\":{\"gridcolor\":\"white\",\"linecolor\":\"white\",\"ticks\":\"\",\"title\":{\"standoff\":15},\"zerolinecolor\":\"white\",\"automargin\":true,\"zerolinewidth\":2},\"yaxis\":{\"gridcolor\":\"white\",\"linecolor\":\"white\",\"ticks\":\"\",\"title\":{\"standoff\":15},\"zerolinecolor\":\"white\",\"automargin\":true,\"zerolinewidth\":2},\"scene\":{\"xaxis\":{\"backgroundcolor\":\"#E5ECF6\",\"gridcolor\":\"white\",\"linecolor\":\"white\",\"showbackground\":true,\"ticks\":\"\",\"zerolinecolor\":\"white\",\"gridwidth\":2},\"yaxis\":{\"backgroundcolor\":\"#E5ECF6\",\"gridcolor\":\"white\",\"linecolor\":\"white\",\"showbackground\":true,\"ticks\":\"\",\"zerolinecolor\":\"white\",\"gridwidth\":2},\"zaxis\":{\"backgroundcolor\":\"#E5ECF6\",\"gridcolor\":\"white\",\"linecolor\":\"white\",\"showbackground\":true,\"ticks\":\"\",\"zerolinecolor\":\"white\",\"gridwidth\":2}},\"shapedefaults\":{\"line\":{\"color\":\"#2a3f5f\"}},\"annotationdefaults\":{\"arrowcolor\":\"#2a3f5f\",\"arrowhead\":0,\"arrowwidth\":1},\"geo\":{\"bgcolor\":\"white\",\"landcolor\":\"#E5ECF6\",\"subunitcolor\":\"white\",\"showland\":true,\"showlakes\":true,\"lakecolor\":\"white\"},\"title\":{\"x\":0.05},\"mapbox\":{\"style\":\"light\"}}},\"xaxis\":{\"anchor\":\"y\",\"domain\":[0.0,1.0],\"title\":{\"text\":\"Date\"}},\"yaxis\":{\"anchor\":\"x\",\"domain\":[0.0,1.0],\"title\":{\"text\":\"Cases\"}},\"legend\":{\"tracegroupgap\":0},\"margin\":{\"t\":60}},                        {\"responsive\": true}                    ).then(function(){\n",
       "                            \n",
       "var gd = document.getElementById('00c092be-0a8b-4495-8d5c-2e8e97924eba');\n",
       "var x = new MutationObserver(function (mutations, observer) {{\n",
       "        var display = window.getComputedStyle(gd).display;\n",
       "        if (!display || display === 'none') {{\n",
       "            console.log([gd, 'removed!']);\n",
       "            Plotly.purge(gd);\n",
       "            observer.disconnect();\n",
       "        }}\n",
       "}});\n",
       "\n",
       "// Listen for the removal of the full notebook cells\n",
       "var notebookContainer = gd.closest('#notebook-container');\n",
       "if (notebookContainer) {{\n",
       "    x.observe(notebookContainer, {childList: true});\n",
       "}}\n",
       "\n",
       "// Listen for the clearing of the current output cell\n",
       "var outputEl = gd.closest('.output');\n",
       "if (outputEl) {{\n",
       "    x.observe(outputEl, {childList: true});\n",
       "}}\n",
       "\n",
       "                        })                };                });            </script>        </div>"
      ]
     },
     "metadata": {},
     "output_type": "display_data"
    }
   ],
   "source": [
    "#plotting series of cases for a county\n",
    "px.line(transformed_df.query('countyFIPS==40095'),x='Date',y='Cases')"
   ]
  },
  {
   "cell_type": "code",
   "execution_count": null,
   "id": "441b5dcc",
   "metadata": {},
   "outputs": [],
   "source": [
    "states_list = list(transformed_df['State'].unique())\n",
    "\n",
    "def get_week_range_string(weekNumber):\n",
    "    week_start = dt.datetime.strptime(f'2022-W{weekNumber}-1', \"%Y-W%W-%w\")\n",
    "    week_end = dt.datetime.strptime(f'2022-W{weekNumber}-0', \"%Y-W%W-%w\")\n",
    "    start_date = dt.datetime(2022, 6, 1)\n",
    "    end_date = dt.datetime(2022, 12, 31)\n",
    "    output_format = '%b-%d'\n",
    "    if week_start < start_date:\n",
    "        week_start = start_date\n",
    "    if week_end > end_date:\n",
    "        week_end = end_date\n",
    "    return ' to '.join([week_start.strftime(output_format), week_end.strftime(output_format)])\n",
    "\n",
    "def aggregate_state_df(state):\n",
    "    if state in states_list:\n",
    "        State_Covid = transformed_df.query(f\"State=='{state}'\").copy()\n",
    "        State_aggregate_df = State_Covid.groupby(by=['State','Date','Week']).sum().reset_index()\n",
    "        State_aggregate_df.drop(columns=['countyFIPS', 'StateFIPS', 'County_Name'], inplace=True)\n",
    "        aggregations = ['mean', 'median', pd.Series.mode]\n",
    "        State_Covid_Statistics = State_aggregate_df.groupby(by='Week').agg({'New_Cases': aggregations, 'New_Deaths': aggregations}).reset_index()\n",
    "        State_Covid_Statistics.columns = ['_'.join(col) for col in State_Covid_Statistics.columns.values]\n",
    "        cols = list(State_Covid_Statistics.columns)\n",
    "        cols[cols.index('Week_')] = 'Week_Number'\n",
    "        State_Covid_Statistics.columns = cols\n",
    "        State_Covid_Statistics['Week_Dates'] = State_Covid_Statistics['Week_Number'].apply(get_week_range_string)\n",
    "        State_Covid_Statistics['State'] = state\n",
    "        State_Covid_Statistics['Population'] = State_aggregate_df['population'].unique()[0] \n",
    "        return State_Covid_Statistics"
   ]
  },
  {
   "cell_type": "code",
   "execution_count": null,
   "id": "fb15f663",
   "metadata": {},
   "outputs": [],
   "source": [
    "NC_Covid_Statistics = aggregate_state_df('NC')\n",
    "NC_Covid_Statistics.head()"
   ]
  },
  {
   "cell_type": "code",
   "execution_count": null,
   "id": "c0a2ca92",
   "metadata": {},
   "outputs": [],
   "source": [
    "px.line(NC_Covid_Statistics, x='Week_Dates', y='New_Cases_mean', title='Weekly Average of New Cases in NC from Jun-22 to Dec-22')"
   ]
  },
  {
   "cell_type": "code",
   "execution_count": null,
   "id": "36edb84c",
   "metadata": {},
   "outputs": [],
   "source": [
    "px.line(NC_Covid_Statistics, x='Week_Dates', y='New_Deaths_mean', title='Weekly Average of New Deaths in NC from Jun-22 to Dec-22')"
   ]
  },
  {
   "cell_type": "code",
   "execution_count": null,
   "id": "1c6ff173",
   "metadata": {},
   "outputs": [],
   "source": [
    "CA_Covid_Statistics = aggregate_state_df('CA')\n",
    "CA_Covid_Statistics.head()"
   ]
  },
  {
   "cell_type": "code",
   "execution_count": null,
   "id": "27915241",
   "metadata": {},
   "outputs": [],
   "source": [
    "NY_Covid_Statistics = aggregate_state_df('NY')\n",
    "NY_Covid_Statistics.head()"
   ]
  },
  {
   "cell_type": "code",
   "execution_count": null,
   "id": "b2617518",
   "metadata": {},
   "outputs": [],
   "source": [
    "WA_Covid_Statistics = aggregate_state_df('WA')\n",
    "WA_Covid_Statistics.head()"
   ]
  },
  {
   "cell_type": "code",
   "execution_count": null,
   "id": "e3b929b5",
   "metadata": {},
   "outputs": [],
   "source": [
    "Four_states_covid_stats = pd.concat([CA_Covid_Statistics,NC_Covid_Statistics,NY_Covid_Statistics,WA_Covid_Statistics],axis=0)\n",
    "Four_states_covid_stats.head()"
   ]
  },
  {
   "cell_type": "code",
   "execution_count": null,
   "id": "f3fd08d5",
   "metadata": {},
   "outputs": [],
   "source": [
    "px.line(Four_states_covid_stats,x='Week_Dates',y='New_Cases_mean',color='State', title = 'Weekly Average New Cases from Jun22 to Dec22')"
   ]
  },
  {
   "cell_type": "markdown",
   "id": "3d3cf16e",
   "metadata": {},
   "source": []
  },
  {
   "cell_type": "code",
   "execution_count": null,
   "id": "fea436e7",
   "metadata": {},
   "outputs": [],
   "source": [
    "px.line(Four_states_covid_stats,x='Week_Dates',y='New_Deaths_mean',color='State', title='Weekly Average New Deaths from Jun22 to Dec22')"
   ]
  },
  {
   "cell_type": "code",
   "execution_count": null,
   "id": "0be89014",
   "metadata": {},
   "outputs": [],
   "source": [
    "Four_states_covid_stats['normalized_cases_mean'] =  100 * Four_states_covid_stats['New_Cases_mean']/Four_states_covid_stats['Population']\n",
    "Four_states_covid_stats['normalized_deaths_mean'] =  100 * Four_states_covid_stats['New_Deaths_mean']/Four_states_covid_stats['Population']\n",
    "Four_states_covid_stats['cases_mean_per_1M_population'] =  Four_states_covid_stats['New_Cases_mean']/100\n",
    "Four_states_covid_stats['deaths_mean_per_1M_population'] =  Four_states_covid_stats['New_Deaths_mean']/100\n",
    "\n",
    "Four_states_covid_stats.head()"
   ]
  },
  {
   "cell_type": "code",
   "execution_count": null,
   "id": "d38c7229",
   "metadata": {},
   "outputs": [],
   "source": [
    "px.line(Four_states_covid_stats,x='Week_Dates',y='normalized_cases_mean',color='State')"
   ]
  },
  {
   "cell_type": "code",
   "execution_count": null,
   "id": "090e9c09",
   "metadata": {},
   "outputs": [],
   "source": [
    "px.line(Four_states_covid_stats,x='Week_Dates',y='normalized_deaths_mean',color='State')"
   ]
  },
  {
   "cell_type": "code",
   "execution_count": null,
   "id": "1cc6e4c6",
   "metadata": {},
   "outputs": [],
   "source": [
    "US_covid_statistics = pd.read_csv('../../Team/Stage 2/US_level_covid_statistics.CSV')\n",
    "US_covid_statistics.head()"
   ]
  },
  {
   "cell_type": "code",
   "execution_count": null,
   "id": "45eb5762",
   "metadata": {},
   "outputs": [],
   "source": [
    "US_covid_statistics['normalized_cases_mean'] =  100 * US_covid_statistics['New_Cases_mean']/10000\n",
    "US_covid_statistics['normalized_deaths_mean'] =  100 * US_covid_statistics['New_Deaths_mean']/US_covid_statistics['Population']\n",
    "US_covid_statistics.head()"
   ]
  },
  {
   "cell_type": "code",
   "execution_count": null,
   "id": "b60271e9",
   "metadata": {},
   "outputs": [],
   "source": [
    "px.line(US_covid_statistics,x='Week_Dates',y='normalized_cases_mean')"
   ]
  },
  {
   "cell_type": "code",
   "execution_count": null,
   "id": "cfc4001a",
   "metadata": {
    "scrolled": true
   },
   "outputs": [],
   "source": [
    "px.line(US_covid_statistics,x='Week_Dates',y='normalized_deaths_mean')"
   ]
  },
  {
   "cell_type": "code",
   "execution_count": null,
   "id": "44a74608",
   "metadata": {},
   "outputs": [],
   "source": [
    "#Identifying 3 counties within CA state of high cases and death rates\n",
    "CA_covid = transformed_df.query(\"State=='CA'\").reset_index().drop(columns=['index','State','StateFIPS'])\n",
    "CA_covid['case_rate'] = CA_covid['New_Cases']/CA_covid['population']\n",
    "try:\n",
    "    CA_covid['death_rate'] = CA_covid['New_Deaths']/CA_covid['New_Cases']\n",
    "except ZeroDivisionError:\n",
    "    CA_covid['death_rate'] = 0\n",
    "CA_covid.head()"
   ]
  },
  {
   "cell_type": "code",
   "execution_count": null,
   "id": "2b71a021",
   "metadata": {},
   "outputs": [],
   "source": [
    "CA_covid.groupby(['County_Name','population','countyFIPS']).agg({'New_Cases': sum,'New_Deaths': sum, \"case_rate\": sum, \"death_rate\": sum}).reset_index().sort_values('New_Cases',ascending=False)"
   ]
  },
  {
   "cell_type": "code",
   "execution_count": null,
   "id": "80c6d453",
   "metadata": {},
   "outputs": [],
   "source": [
    "px.line(US_covid_statistics,x='Week_Dates',y='normalized_deaths_mean') "
   ]
  }
 ],
 "metadata": {
  "kernelspec": {
   "display_name": "Python 3 (ipykernel)",
   "language": "python",
   "name": "python3"
  },
  "language_info": {
   "codemirror_mode": {
    "name": "ipython",
    "version": 3
   },
   "file_extension": ".py",
   "mimetype": "text/x-python",
   "name": "python",
   "nbconvert_exporter": "python",
   "pygments_lexer": "ipython3",
   "version": "3.9.13"
  }
 },
 "nbformat": 4,
 "nbformat_minor": 5
}
