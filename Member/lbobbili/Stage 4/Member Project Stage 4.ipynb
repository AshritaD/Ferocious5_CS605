{
 "cells": [
  {
   "cell_type": "markdown",
   "metadata": {
    "id": "1GDXtqg18EMB"
   },
   "source": [
    "<h1><center>Project Stage - IV (Basic Machine Learning)</center></h1>"
   ]
  },
  {
   "cell_type": "code",
   "execution_count": 1,
   "metadata": {
    "id": "c5jUEMuf6L5w"
   },
   "outputs": [],
   "source": [
    "# Loading libraries\n",
    "import numpy as np\n",
    "import pandas as pd\n",
    "import warnings\n",
    "warnings.filterwarnings(\"ignore\")\n",
    "\n",
    "# For visvalization\n",
    "import matplotlib.pyplot as plt\n",
    "# import seaborn as sns\n",
    "import seaborn as sns\n",
    "\n",
    "# Plotting using plotly\n",
    "import plotly.express as px\n",
    "import plotly.graph_objects as go\n",
    "from plotly.subplots import make_subplots\n",
    "\n",
    "# For creating widgets\n",
    "from ipywidgets import widgets, interact\n",
    "from IPython.display import display"
   ]
  },
  {
   "cell_type": "code",
   "execution_count": 2,
   "metadata": {
    "id": "Ftgc6a-e8OTf"
   },
   "outputs": [],
   "source": [
    "import os\n",
    "os.chdir(r'C:\\Users\\manog\\OneDrive\\Desktop\\Data Science')"
   ]
  },
  {
   "cell_type": "code",
   "execution_count": 37,
   "metadata": {
    "colab": {
     "base_uri": "https://localhost:8080/",
     "height": 366
    },
    "id": "v3GnsCl17xq0",
    "outputId": "9ee9a52f-5fcc-4d45-d761-81f04f0d2288"
   },
   "outputs": [],
   "source": [
    "# Reading the files\n",
    "df_cases = pd.read_csv('covid_confirmed_usafacts.csv')\n",
    "df_deaths = pd.read_csv('covid_deaths_usafacts.csv')"
   ]
  },
  {
   "cell_type": "code",
   "execution_count": 4,
   "metadata": {
    "colab": {
     "base_uri": "https://localhost:8080/",
     "height": 206
    },
    "id": "doKuJU7e75fi",
    "outputId": "c68bac4d-c69e-4fcd-fe42-ab12454d5221"
   },
   "outputs": [
    {
     "data": {
      "text/html": [
       "<div>\n",
       "<style scoped>\n",
       "    .dataframe tbody tr th:only-of-type {\n",
       "        vertical-align: middle;\n",
       "    }\n",
       "\n",
       "    .dataframe tbody tr th {\n",
       "        vertical-align: top;\n",
       "    }\n",
       "\n",
       "    .dataframe thead th {\n",
       "        text-align: right;\n",
       "    }\n",
       "</style>\n",
       "<table border=\"1\" class=\"dataframe\">\n",
       "  <thead>\n",
       "    <tr style=\"text-align: right;\">\n",
       "      <th></th>\n",
       "      <th>countyFIPS</th>\n",
       "      <th>County Name</th>\n",
       "      <th>State</th>\n",
       "      <th>population</th>\n",
       "    </tr>\n",
       "  </thead>\n",
       "  <tbody>\n",
       "    <tr>\n",
       "      <th>0</th>\n",
       "      <td>0</td>\n",
       "      <td>Statewide Unallocated</td>\n",
       "      <td>AL</td>\n",
       "      <td>0</td>\n",
       "    </tr>\n",
       "    <tr>\n",
       "      <th>1</th>\n",
       "      <td>1001</td>\n",
       "      <td>Autauga County</td>\n",
       "      <td>AL</td>\n",
       "      <td>55869</td>\n",
       "    </tr>\n",
       "    <tr>\n",
       "      <th>2</th>\n",
       "      <td>1003</td>\n",
       "      <td>Baldwin County</td>\n",
       "      <td>AL</td>\n",
       "      <td>223234</td>\n",
       "    </tr>\n",
       "    <tr>\n",
       "      <th>3</th>\n",
       "      <td>1005</td>\n",
       "      <td>Barbour County</td>\n",
       "      <td>AL</td>\n",
       "      <td>24686</td>\n",
       "    </tr>\n",
       "    <tr>\n",
       "      <th>4</th>\n",
       "      <td>1007</td>\n",
       "      <td>Bibb County</td>\n",
       "      <td>AL</td>\n",
       "      <td>22394</td>\n",
       "    </tr>\n",
       "  </tbody>\n",
       "</table>\n",
       "</div>"
      ],
      "text/plain": [
       "   countyFIPS            County Name State  population\n",
       "0           0  Statewide Unallocated    AL           0\n",
       "1        1001         Autauga County    AL       55869\n",
       "2        1003         Baldwin County    AL      223234\n",
       "3        1005         Barbour County    AL       24686\n",
       "4        1007            Bibb County    AL       22394"
      ]
     },
     "execution_count": 4,
     "metadata": {},
     "output_type": "execute_result"
    }
   ],
   "source": [
    "# County wise population\n",
    "df_population = pd.read_csv('covid_county_population_usafacts.csv')\n",
    "df_population.head()"
   ]
  },
  {
   "cell_type": "markdown",
   "metadata": {
    "id": "DMdq2T1H9Fmj"
   },
   "source": [
    "# Data Prepration"
   ]
  },
  {
   "cell_type": "code",
   "execution_count": 5,
   "metadata": {
    "id": "JOz-RpH-9Bi7"
   },
   "outputs": [],
   "source": [
    "df_cases_modified = df_cases.melt(id_vars=['countyFIPS', 'County Name', 'State', 'StateFIPS'],\n",
    "                                  var_name=\"Date\",\n",
    "                                  value_name=\"Cases\")\n",
    "\n",
    "df_deaths_modified = df_deaths.melt(id_vars=['countyFIPS', 'County Name', 'State', 'StateFIPS'],\n",
    "                                    var_name=\"Date\",\n",
    "                                    value_name=\"Deaths\")"
   ]
  },
  {
   "cell_type": "code",
   "execution_count": 6,
   "metadata": {
    "id": "9eUFiXdGWNJI"
   },
   "outputs": [],
   "source": [
    "# Modifying the data for the 2nd half of 2022\n",
    "df_cases_modified['Date'] = pd.to_datetime(df_cases_modified['Date'])\n",
    "df_cases_modified = df_cases_modified[(df_cases_modified['Date']>\"6/1/2022\") & (df_cases_modified['Date']<\"12/31/2022\")]\n",
    "\n",
    "df_deaths_modified['Date'] = pd.to_datetime(df_deaths_modified['Date'])\n",
    "df_deaths_modified = df_deaths_modified[(df_deaths_modified['Date']>\"6/1/2022\") & (df_deaths_modified['Date']<\"12/31/2022\")]"
   ]
  },
  {
   "cell_type": "code",
   "execution_count": 7,
   "metadata": {
    "id": "dGtdrz_wU8gO"
   },
   "outputs": [],
   "source": [
    "# Saving a copy\n",
    "df_cases_modified_copy = df_cases_modified.copy()"
   ]
  },
  {
   "cell_type": "code",
   "execution_count": 8,
   "metadata": {
    "id": "fAQ52duY9KMG"
   },
   "outputs": [],
   "source": [
    "# Selecting a state - 'TX'\n",
    "df_cases_modified = df_cases_modified[df_cases_modified['State']=='TX']\n",
    "df_deaths_modified = df_deaths_modified[df_deaths_modified['State']=='TX']"
   ]
  },
  {
   "cell_type": "code",
   "execution_count": 9,
   "metadata": {
    "colab": {
     "base_uri": "https://localhost:8080/",
     "height": 624
    },
    "id": "Y9OcqQ179NF_",
    "outputId": "e5b6b89b-8058-45cf-f978-c5e34a2e37ed"
   },
   "outputs": [
    {
     "data": {
      "text/plain": [
       "<AxesSubplot:xlabel='County Name'>"
      ]
     },
     "execution_count": 9,
     "metadata": {},
     "output_type": "execute_result"
    },
    {
     "data": {
      "image/png": "[encoded data removed]",
      "text/plain": [
       "<Figure size 640x480 with 1 Axes>"
      ]
     },
     "metadata": {},
     "output_type": "display_data"
    }
   ],
   "source": [
    "# Selecting top 5 counties based on number of cases\n",
    "df_cases_modified.groupby(['County Name'])['Cases'].max().sort_values(ascending=False)[:6].plot(kind='bar')"
   ]
  },
  {
   "cell_type": "code",
   "execution_count": 10,
   "metadata": {
    "id": "IEfSYQJg9Pdg"
   },
   "outputs": [],
   "source": [
    "# Filtering the data based on the top 5 counties\n",
    "top_five_counties = ['Harris County ', 'Bexar County ', 'Dallas County ',\n",
    "                     'Tarrant County ', 'Travis County ']\n",
    "\n",
    "df_deaths_top5 = df_deaths_modified[df_deaths_modified['County Name'].isin(top_five_counties)]\n",
    "df_cases_top5 = df_cases_modified[df_cases_modified['County Name'].isin(top_five_counties)]"
   ]
  },
  {
   "cell_type": "code",
   "execution_count": 11,
   "metadata": {
    "colab": {
     "base_uri": "https://localhost:8080/",
     "height": 206
    },
    "id": "VrdtxVos9STE",
    "outputId": "01ea36c3-ea23-4eee-a894-852bd7ea8cd1"
   },
   "outputs": [
    {
     "data": {
      "text/html": [
       "<div>\n",
       "<style scoped>\n",
       "    .dataframe tbody tr th:only-of-type {\n",
       "        vertical-align: middle;\n",
       "    }\n",
       "\n",
       "    .dataframe tbody tr th {\n",
       "        vertical-align: top;\n",
       "    }\n",
       "\n",
       "    .dataframe thead th {\n",
       "        text-align: right;\n",
       "    }\n",
       "</style>\n",
       "<table border=\"1\" class=\"dataframe\">\n",
       "  <thead>\n",
       "    <tr style=\"text-align: right;\">\n",
       "      <th></th>\n",
       "      <th>countyFIPS_x</th>\n",
       "      <th>County Name</th>\n",
       "      <th>State</th>\n",
       "      <th>StateFIPS</th>\n",
       "      <th>Date</th>\n",
       "      <th>Deaths</th>\n",
       "      <th>Cases</th>\n",
       "      <th>countyFIPS_y</th>\n",
       "      <th>population</th>\n",
       "    </tr>\n",
       "  </thead>\n",
       "  <tbody>\n",
       "    <tr>\n",
       "      <th>0</th>\n",
       "      <td>48029</td>\n",
       "      <td>Bexar County</td>\n",
       "      <td>TX</td>\n",
       "      <td>48</td>\n",
       "      <td>2022-06-02</td>\n",
       "      <td>6146</td>\n",
       "      <td>573582</td>\n",
       "      <td>48029</td>\n",
       "      <td>2003554</td>\n",
       "    </tr>\n",
       "    <tr>\n",
       "      <th>1</th>\n",
       "      <td>48029</td>\n",
       "      <td>Bexar County</td>\n",
       "      <td>TX</td>\n",
       "      <td>48</td>\n",
       "      <td>2022-06-03</td>\n",
       "      <td>6146</td>\n",
       "      <td>574304</td>\n",
       "      <td>48029</td>\n",
       "      <td>2003554</td>\n",
       "    </tr>\n",
       "    <tr>\n",
       "      <th>2</th>\n",
       "      <td>48029</td>\n",
       "      <td>Bexar County</td>\n",
       "      <td>TX</td>\n",
       "      <td>48</td>\n",
       "      <td>2022-06-04</td>\n",
       "      <td>6149</td>\n",
       "      <td>574974</td>\n",
       "      <td>48029</td>\n",
       "      <td>2003554</td>\n",
       "    </tr>\n",
       "    <tr>\n",
       "      <th>3</th>\n",
       "      <td>48029</td>\n",
       "      <td>Bexar County</td>\n",
       "      <td>TX</td>\n",
       "      <td>48</td>\n",
       "      <td>2022-06-05</td>\n",
       "      <td>6149</td>\n",
       "      <td>575487</td>\n",
       "      <td>48029</td>\n",
       "      <td>2003554</td>\n",
       "    </tr>\n",
       "    <tr>\n",
       "      <th>4</th>\n",
       "      <td>48029</td>\n",
       "      <td>Bexar County</td>\n",
       "      <td>TX</td>\n",
       "      <td>48</td>\n",
       "      <td>2022-06-06</td>\n",
       "      <td>6153</td>\n",
       "      <td>575980</td>\n",
       "      <td>48029</td>\n",
       "      <td>2003554</td>\n",
       "    </tr>\n",
       "  </tbody>\n",
       "</table>\n",
       "</div>"
      ],
      "text/plain": [
       "   countyFIPS_x   County Name State  StateFIPS       Date  Deaths   Cases  \\\n",
       "0         48029  Bexar County    TX         48 2022-06-02    6146  573582   \n",
       "1         48029  Bexar County    TX         48 2022-06-03    6146  574304   \n",
       "2         48029  Bexar County    TX         48 2022-06-04    6149  574974   \n",
       "3         48029  Bexar County    TX         48 2022-06-05    6149  575487   \n",
       "4         48029  Bexar County    TX         48 2022-06-06    6153  575980   \n",
       "\n",
       "   countyFIPS_y  population  \n",
       "0         48029     2003554  \n",
       "1         48029     2003554  \n",
       "2         48029     2003554  \n",
       "3         48029     2003554  \n",
       "4         48029     2003554  "
      ]
     },
     "execution_count": 11,
     "metadata": {},
     "output_type": "execute_result"
    }
   ],
   "source": [
    "# Merging the cases and deaths data along with population data\n",
    "cols_to_use = df_cases_top5.columns.difference(df_deaths_top5.columns).to_list() + ['Date', 'County Name']\n",
    "df_merged = pd.merge(df_deaths_top5, df_cases_top5[cols_to_use], on=['County Name', 'Date'])\n",
    "\n",
    "# Removing leading and training spaces\n",
    "df_merged['County Name'] = df_merged['County Name'].apply(lambda x: x.strip())\n",
    "\n",
    "# Merging with population\n",
    "df_merged = pd.merge(df_merged, df_population, on=['State', 'County Name'])\n",
    "\n",
    "df_merged.head()"
   ]
  },
  {
   "cell_type": "code",
   "execution_count": 12,
   "metadata": {
    "id": "GYME6zIR9Ub3"
   },
   "outputs": [],
   "source": [
    "# Removing unecessary or duplicate information columns and renaming others\n",
    "columns_to_remove = ['countyFIPS_y', 'State', 'countyFIPS_x', 'StateFIPS']\n",
    "df_merged = df_merged.drop(columns=columns_to_remove)\n",
    "df_merged = df_merged.rename(columns={'countyFIPS_x':'countyFIPS'})"
   ]
  },
  {
   "cell_type": "markdown",
   "metadata": {
    "id": "lDuuglbk9a7l"
   },
   "source": [
    "<h1><center> Task 1 </center></h1>"
   ]
  },
  {
   "cell_type": "code",
   "execution_count": 13,
   "metadata": {
    "id": "alZhVgmj9XLe"
   },
   "outputs": [],
   "source": [
    "# Extracting Day, Month and Year from the Date\n",
    "df_merged['Date'] = pd.to_datetime(df_merged['Date'])\n",
    "df_merged_copy = df_merged.copy()\n",
    "df_merged['day'] = df_merged['Date'].dt.day\n",
    "df_merged['month'] = df_merged['Date'].dt.month\n",
    "# Droping year as it is same for all the present data\n",
    "# df_merged['year'] = df_merged['Date'].dt.year"
   ]
  },
  {
   "cell_type": "markdown",
   "metadata": {
    "id": "CswzekQP9klL"
   },
   "source": [
    "The features `day` and `month` are cyclic in nature. If I do not do any preprocessing on them and directly feed them to model, the model can give more or less importance based on the values. Eg. days will have values from 1 to 31, so model thinks that value 31 is more than 1, but actually they are just days so our model can go wrong. Thus, I will be performing a transformation on these features to make them cyclic.\n",
    "\n",
    "<center><img src = \"https://www.math.hkust.edu.hk/~machiang/1013/Notes/sine_2.gif\"></center>"
   ]
  },
  {
   "cell_type": "code",
   "execution_count": 14,
   "metadata": {
    "id": "cn8iaf4j9hyH"
   },
   "outputs": [],
   "source": [
    "# months and days in a cyclic continuous feature.\n",
    "def encode(data, col, max_val):\n",
    "    data[col + '_sin'] = np.sin(2 * np.pi * data[col]/max_val)\n",
    "    data[col + '_cos'] = np.cos(2 * np.pi * data[col]/max_val)\n",
    "    return data\n",
    "\n",
    "df_merged = encode(df_merged, 'month', 6)\n",
    "df_merged = encode(df_merged, 'day', 31)"
   ]
  },
  {
   "cell_type": "code",
   "execution_count": 15,
   "metadata": {
    "id": "KxgZ8Jvg9oa1"
   },
   "outputs": [],
   "source": [
    "# Normalizing the year and population column\n",
    "# def normalize_data(df, col):\n",
    "#     normalized_df = (df[col]-df[col].min())/(df[col].max()-df[col].min())\n",
    "#     return normalized_df\n",
    "    \n",
    "# df_merged['year'] = normalize_data(df_merged, 'year')\n",
    "\n",
    "# Removing unecessary or duplicate information columns\n",
    "df_merged = df_merged.drop(columns=['day', 'month', 'Date'])"
   ]
  },
  {
   "cell_type": "markdown",
   "metadata": {
    "id": "kMucbm1_9vaO"
   },
   "source": [
    "##  Linear and Non-Linear (polynomial) regression models"
   ]
  },
  {
   "cell_type": "code",
   "execution_count": 16,
   "metadata": {
    "id": "DARK9meU9sBR"
   },
   "outputs": [],
   "source": [
    "# 5 models for top 5 counties\n",
    "# Statewide Unallocated County which is not a countie so not considering it\n",
    "df_harris = df_merged[df_merged['County Name']=='Harris County']\n",
    "df_bexar = df_merged[df_merged['County Name']=='Bexar County']\n",
    "df_dallas = df_merged[df_merged['County Name']=='Dallas County']\n",
    "df_tarrant = df_merged[df_merged['County Name']=='Tarrant County']\n",
    "df_travis = df_merged[df_merged['County Name']=='Travis County']\n"
   ]
  },
  {
   "cell_type": "code",
   "execution_count": 17,
   "metadata": {
    "id": "Q07KMTkV9y4a"
   },
   "outputs": [],
   "source": [
    "# Linear Model\n",
    "from sklearn.linear_model import LinearRegression\n",
    "from sklearn.ensemble import RandomForestRegressor\n",
    "from sklearn.metrics import mean_squared_error\n",
    "\n",
    "\n",
    "def create_linear_model(data, name=None):\n",
    "    lr = LinearRegression() #RandomForestRegressor(max_depth=3, min_samples_leaf=50)\n",
    "    data_fn = data.copy()\n",
    "    \n",
    "    # Cumulative to normal values\n",
    "    data_fn['Cases'] = data_fn['Cases'].diff().fillna(0)\n",
    "    data_fn['Deaths'] = data_fn['Deaths'].diff().fillna(0)\n",
    "    \n",
    "    # From start of infection\n",
    "    start_of_infection = data_fn[data_fn['Cases']>0].index[0]\n",
    "    data_fn = data_fn.loc[start_of_infection:, :]\n",
    "    data_fn.reset_index(drop=True, inplace=True)\n",
    "    \n",
    "    X = data_fn.drop(columns=['County Name', 'population', 'Deaths'])\n",
    "    y = data_fn['Deaths']\n",
    "    \n",
    "    # Fitting the model\n",
    "    lr.fit(X, y)\n",
    "    \n",
    "    # Prediction\n",
    "    y_predict = lr.predict(X)\n",
    "    data_fn['prediction'] = y_predict\n",
    "    \n",
    "    # RMSE\n",
    "    rmse = mean_squared_error(y, y_predict)**0.5\n",
    "    print(f\"The RMSE for {name} county is {rmse}\")\n",
    "    \n",
    "    return data_fn"
   ]
  },
  {
   "cell_type": "code",
   "execution_count": 18,
   "metadata": {
    "colab": {
     "base_uri": "https://localhost:8080/"
    },
    "id": "FQv0WSyU9258",
    "outputId": "0afbc2a6-e072-401c-95cc-9ade7b0a1f81"
   },
   "outputs": [
    {
     "name": "stdout",
     "output_type": "stream",
     "text": [
      "The RMSE for Harris County county is 2.9558204441911546\n",
      "The RMSE for Bexar County county is 1.9807025618971916\n",
      "The RMSE for Dallas County county is 1.522824329172117\n",
      "The RMSE for Tarrant County county is 1.590593273543241\n",
      "The RMSE for Travis County county is 0.7607077342890752\n"
     ]
    }
   ],
   "source": [
    "# RMSE for top 5 counties\n",
    "df1 = create_linear_model(df_harris, 'Harris County')\n",
    "df2 = create_linear_model(df_bexar, 'Bexar County')\n",
    "df3 = create_linear_model(df_dallas, 'Dallas County')\n",
    "df4 = create_linear_model(df_tarrant, 'Tarrant County')\n",
    "df5 = create_linear_model(df_travis, 'Travis County')\n"
   ]
  },
  {
   "cell_type": "code",
   "execution_count": 19,
   "metadata": {
    "colab": {
     "base_uri": "https://localhost:8080/",
     "height": 1000
    },
    "id": "lFJjF4rh95Ap",
    "outputId": "c6ca2084-0de9-45b7-ce77-64bee1498390"
   },
   "outputs": [
    {
     "data": {
      "image/png": "[encoded data removed]",
      "text/plain": [
       "<Figure size 800x1000 with 5 Axes>"
      ]
     },
     "metadata": {},
     "output_type": "display_data"
    }
   ],
   "source": [
    "# Plotting data\n",
    "fig, axis = plt.subplots(5, 1, figsize=(8, 10), sharey=True, sharex=True)\n",
    "df_list = [df1, df2, df3, df4, df5]\n",
    "i = 0\n",
    "top_five_counties = ['Harris County ', 'Bexar County ', 'Dallas County ',\n",
    "                     'Tarrant County ', 'Travis County ']\n",
    "for data_frame, ax, name in zip(df_list, axis.ravel(), top_five_counties):\n",
    "  ax.set(yscale=\"log\")\n",
    "  sns.scatterplot(x=data_frame.index, y=data_frame['Cases'], ax=ax, legend='brief')\n",
    "  sns.scatterplot(x=data_frame.index, y=data_frame['Deaths'], ax=ax)\n",
    "  sns.lineplot(x=data_frame.index, y=data_frame['prediction'], ax=ax)\n",
    "  ax.set_title(name)\n",
    "  ax.set_ylabel(\"\")\n",
    "  if i == 2: \n",
    "    ax.set_ylabel(\"Cases and Deaths (log scale)\")\n",
    "  else: ax.set_ylabel(\"\")\n",
    "  ax.set_xlabel(\"number of days since the first case\")\n",
    "  i+=1\n",
    "\n",
    "fig.suptitle(\"Cases and Deaths during COVID 19\")\n",
    "plt.tight_layout()\n",
    "plt.show()"
   ]
  },
  {
   "cell_type": "markdown",
   "metadata": {
    "id": "y1XRJsVJ6Ot0"
   },
   "source": [
    "For all the top 5 counties in TX, the trend of cases and deaths is similar. It has got peaks after around 90 days of the first case from 1st June 2022."
   ]
  },
  {
   "cell_type": "markdown",
   "metadata": {
    "id": "Us1pSpQLFjOH"
   },
   "source": [
    "##  Identify which counties are most at risk."
   ]
  },
  {
   "cell_type": "code",
   "execution_count": 20,
   "metadata": {
    "id": "px3kKW9LFm_p"
   },
   "outputs": [],
   "source": [
    "df_merged_copy['per_capita_cases'] = df_merged_copy['Cases']*100000/df_merged_copy['population']\n",
    "df_merged_copy['per_capita_deaths'] = df_merged_copy['Deaths']*100000/df_merged_copy['population']"
   ]
  },
  {
   "cell_type": "code",
   "execution_count": 21,
   "metadata": {
    "colab": {
     "base_uri": "https://localhost:8080/",
     "height": 207
    },
    "id": "tsgR-seWG11s",
    "outputId": "ff572873-7459-45ee-cf18-caf1bc0ae743"
   },
   "outputs": [
    {
     "data": {
      "text/html": [
       "<div>\n",
       "<style scoped>\n",
       "    .dataframe tbody tr th:only-of-type {\n",
       "        vertical-align: middle;\n",
       "    }\n",
       "\n",
       "    .dataframe tbody tr th {\n",
       "        vertical-align: top;\n",
       "    }\n",
       "\n",
       "    .dataframe thead th {\n",
       "        text-align: right;\n",
       "    }\n",
       "</style>\n",
       "<table border=\"1\" class=\"dataframe\">\n",
       "  <thead>\n",
       "    <tr style=\"text-align: right;\">\n",
       "      <th></th>\n",
       "      <th>County Name</th>\n",
       "      <th>Date</th>\n",
       "      <th>Deaths</th>\n",
       "      <th>Cases</th>\n",
       "      <th>population</th>\n",
       "      <th>per_capita_cases</th>\n",
       "      <th>per_capita_deaths</th>\n",
       "    </tr>\n",
       "  </thead>\n",
       "  <tbody>\n",
       "    <tr>\n",
       "      <th>0</th>\n",
       "      <td>Bexar County</td>\n",
       "      <td>2022-06-02</td>\n",
       "      <td>6146</td>\n",
       "      <td>573582</td>\n",
       "      <td>2003554</td>\n",
       "      <td>28628.227639</td>\n",
       "      <td>306.754897</td>\n",
       "    </tr>\n",
       "    <tr>\n",
       "      <th>1</th>\n",
       "      <td>Bexar County</td>\n",
       "      <td>2022-06-03</td>\n",
       "      <td>6146</td>\n",
       "      <td>574304</td>\n",
       "      <td>2003554</td>\n",
       "      <td>28664.263604</td>\n",
       "      <td>306.754897</td>\n",
       "    </tr>\n",
       "    <tr>\n",
       "      <th>2</th>\n",
       "      <td>Bexar County</td>\n",
       "      <td>2022-06-04</td>\n",
       "      <td>6149</td>\n",
       "      <td>574974</td>\n",
       "      <td>2003554</td>\n",
       "      <td>28697.704180</td>\n",
       "      <td>306.904630</td>\n",
       "    </tr>\n",
       "    <tr>\n",
       "      <th>3</th>\n",
       "      <td>Bexar County</td>\n",
       "      <td>2022-06-05</td>\n",
       "      <td>6149</td>\n",
       "      <td>575487</td>\n",
       "      <td>2003554</td>\n",
       "      <td>28723.308680</td>\n",
       "      <td>306.904630</td>\n",
       "    </tr>\n",
       "    <tr>\n",
       "      <th>4</th>\n",
       "      <td>Bexar County</td>\n",
       "      <td>2022-06-06</td>\n",
       "      <td>6153</td>\n",
       "      <td>575980</td>\n",
       "      <td>2003554</td>\n",
       "      <td>28747.914955</td>\n",
       "      <td>307.104276</td>\n",
       "    </tr>\n",
       "  </tbody>\n",
       "</table>\n",
       "</div>"
      ],
      "text/plain": [
       "    County Name       Date  Deaths   Cases  population  per_capita_cases  \\\n",
       "0  Bexar County 2022-06-02    6146  573582     2003554      28628.227639   \n",
       "1  Bexar County 2022-06-03    6146  574304     2003554      28664.263604   \n",
       "2  Bexar County 2022-06-04    6149  574974     2003554      28697.704180   \n",
       "3  Bexar County 2022-06-05    6149  575487     2003554      28723.308680   \n",
       "4  Bexar County 2022-06-06    6153  575980     2003554      28747.914955   \n",
       "\n",
       "   per_capita_deaths  \n",
       "0         306.754897  \n",
       "1         306.754897  \n",
       "2         306.904630  \n",
       "3         306.904630  \n",
       "4         307.104276  "
      ]
     },
     "execution_count": 21,
     "metadata": {},
     "output_type": "execute_result"
    }
   ],
   "source": [
    "df_merged_copy.head()"
   ]
  },
  {
   "cell_type": "code",
   "execution_count": 23,
   "metadata": {},
   "outputs": [
    {
     "data": {
      "image/png": "[encoded data removed]",
      "text/plain": [
       "<Figure size 1000x500 with 1 Axes>"
      ]
     },
     "metadata": {},
     "output_type": "display_data"
    }
   ],
   "source": [
    "fig, ax = plt.subplots(1, 1, figsize=(10, 5))\n",
    "sns.lineplot(data=df_merged_copy, x='Date', y='per_capita_cases', hue='County Name', ax=ax)\n",
    "ax.set_ylabel(\"Cases per  100K population (Cumulative)\");"
   ]
  },
  {
   "cell_type": "markdown",
   "metadata": {
    "id": "nmbRXOZTJumc"
   },
   "source": [
    "For Bexar county, the cases are rising faster than others. Specially in July-2022 to Sept-2022, the rise in COVID cases were highest (which is true for all other counties as well)."
   ]
  },
  {
   "cell_type": "code",
   "execution_count": 25,
   "metadata": {
    "colab": {
     "base_uri": "https://localhost:8080/",
     "height": 466
    },
    "id": "OoNFeoMdJNHw",
    "outputId": "7703d73d-29eb-4b63-b61b-c24507cc3f36"
   },
   "outputs": [
    {
     "data": {
      "image/png": "[encoded data removed]",
      "text/plain": [
       "<Figure size 1000x500 with 1 Axes>"
      ]
     },
     "metadata": {},
     "output_type": "display_data"
    }
   ],
   "source": [
    "fig, ax = plt.subplots(1, 1, figsize=(10, 5))\n",
    "sns.lineplot(data=df_merged_copy, x='Date', y='per_capita_deaths', hue='County Name', ax=ax)\n",
    "ax.set_ylabel(\"Deaths per  100K population (Cumulative)\");"
   ]
  },
  {
   "cell_type": "markdown",
   "metadata": {
    "id": "6q5sAVShqtbP"
   },
   "source": [
    "The deaths per 100K population is almost constant except Bexar county which is a concern as deaths other counties are very less compared to Bexar"
   ]
  },
  {
   "cell_type": "markdown",
   "metadata": {
    "id": "cM3BqnkaA8Ft"
   },
   "source": [
    "## Hypothesis Testing"
   ]
  },
  {
   "cell_type": "code",
   "execution_count": 27,
   "metadata": {
    "colab": {
     "base_uri": "https://localhost:8080/",
     "height": 522
    },
    "id": "_irLdzKv70Oi",
    "outputId": "3d55dc41-3cd1-41c5-f047-92170e89a0b3"
   },
   "outputs": [
    {
     "data": {
      "text/html": [
       "<div>\n",
       "<style scoped>\n",
       "    .dataframe tbody tr th:only-of-type {\n",
       "        vertical-align: middle;\n",
       "    }\n",
       "\n",
       "    .dataframe tbody tr th {\n",
       "        vertical-align: top;\n",
       "    }\n",
       "\n",
       "    .dataframe thead th {\n",
       "        text-align: right;\n",
       "    }\n",
       "</style>\n",
       "<table border=\"1\" class=\"dataframe\">\n",
       "  <thead>\n",
       "    <tr style=\"text-align: right;\">\n",
       "      <th></th>\n",
       "      <th>Area\\nCode</th>\n",
       "      <th>St</th>\n",
       "      <th>Cnty</th>\n",
       "      <th>Own</th>\n",
       "      <th>NAICS</th>\n",
       "      <th>Year</th>\n",
       "      <th>Qtr</th>\n",
       "      <th>Area Type</th>\n",
       "      <th>St Name</th>\n",
       "      <th>Area</th>\n",
       "      <th>...</th>\n",
       "      <th>Industry</th>\n",
       "      <th>Status Code</th>\n",
       "      <th>Establishment Count</th>\n",
       "      <th>January Employment</th>\n",
       "      <th>February Employment</th>\n",
       "      <th>March Employment</th>\n",
       "      <th>Total Quarterly Wages</th>\n",
       "      <th>Average Weekly Wage</th>\n",
       "      <th>Employment Location Quotient Relative to U.S.</th>\n",
       "      <th>Total Wage Location Quotient Relative to U.S.</th>\n",
       "    </tr>\n",
       "  </thead>\n",
       "  <tbody>\n",
       "    <tr>\n",
       "      <th>0</th>\n",
       "      <td>US000</td>\n",
       "      <td>US</td>\n",
       "      <td>0.0</td>\n",
       "      <td>0</td>\n",
       "      <td>10</td>\n",
       "      <td>2022</td>\n",
       "      <td>1</td>\n",
       "      <td>Nation</td>\n",
       "      <td>NaN</td>\n",
       "      <td>U.S. TOTAL</td>\n",
       "      <td>...</td>\n",
       "      <td>10 Total, all industries</td>\n",
       "      <td>NaN</td>\n",
       "      <td>11,294,919</td>\n",
       "      <td>145,582,488</td>\n",
       "      <td>147,172,213</td>\n",
       "      <td>147,781,400</td>\n",
       "      <td>2,622,652,420,011</td>\n",
       "      <td>1,374</td>\n",
       "      <td>1.0</td>\n",
       "      <td>1.0</td>\n",
       "    </tr>\n",
       "    <tr>\n",
       "      <th>1</th>\n",
       "      <td>US000</td>\n",
       "      <td>US</td>\n",
       "      <td>0.0</td>\n",
       "      <td>1</td>\n",
       "      <td>10</td>\n",
       "      <td>2022</td>\n",
       "      <td>1</td>\n",
       "      <td>Nation</td>\n",
       "      <td>NaN</td>\n",
       "      <td>U.S. TOTAL</td>\n",
       "      <td>...</td>\n",
       "      <td>10 Total, all industries</td>\n",
       "      <td>NaN</td>\n",
       "      <td>60,882</td>\n",
       "      <td>2,860,360</td>\n",
       "      <td>2,858,451</td>\n",
       "      <td>2,853,067</td>\n",
       "      <td>60,805,753,244</td>\n",
       "      <td>1,637</td>\n",
       "      <td>1.0</td>\n",
       "      <td>1.0</td>\n",
       "    </tr>\n",
       "    <tr>\n",
       "      <th>2</th>\n",
       "      <td>US000</td>\n",
       "      <td>US</td>\n",
       "      <td>0.0</td>\n",
       "      <td>2</td>\n",
       "      <td>10</td>\n",
       "      <td>2022</td>\n",
       "      <td>1</td>\n",
       "      <td>Nation</td>\n",
       "      <td>NaN</td>\n",
       "      <td>U.S. TOTAL</td>\n",
       "      <td>...</td>\n",
       "      <td>10 Total, all industries</td>\n",
       "      <td>NaN</td>\n",
       "      <td>70,526</td>\n",
       "      <td>4,456,377</td>\n",
       "      <td>4,529,802</td>\n",
       "      <td>4,534,064</td>\n",
       "      <td>78,903,410,196</td>\n",
       "      <td>1,347</td>\n",
       "      <td>1.0</td>\n",
       "      <td>1.0</td>\n",
       "    </tr>\n",
       "    <tr>\n",
       "      <th>3</th>\n",
       "      <td>US000</td>\n",
       "      <td>US</td>\n",
       "      <td>0.0</td>\n",
       "      <td>3</td>\n",
       "      <td>10</td>\n",
       "      <td>2022</td>\n",
       "      <td>1</td>\n",
       "      <td>Nation</td>\n",
       "      <td>NaN</td>\n",
       "      <td>U.S. TOTAL</td>\n",
       "      <td>...</td>\n",
       "      <td>10 Total, all industries</td>\n",
       "      <td>NaN</td>\n",
       "      <td>171,395</td>\n",
       "      <td>13,954,426</td>\n",
       "      <td>14,065,705</td>\n",
       "      <td>14,114,268</td>\n",
       "      <td>203,425,519,443</td>\n",
       "      <td>1,114</td>\n",
       "      <td>1.0</td>\n",
       "      <td>1.0</td>\n",
       "    </tr>\n",
       "    <tr>\n",
       "      <th>4</th>\n",
       "      <td>US000</td>\n",
       "      <td>US</td>\n",
       "      <td>0.0</td>\n",
       "      <td>5</td>\n",
       "      <td>10</td>\n",
       "      <td>2022</td>\n",
       "      <td>1</td>\n",
       "      <td>Nation</td>\n",
       "      <td>NaN</td>\n",
       "      <td>U.S. TOTAL</td>\n",
       "      <td>...</td>\n",
       "      <td>10 Total, all industries</td>\n",
       "      <td>NaN</td>\n",
       "      <td>10,992,116</td>\n",
       "      <td>124,311,325</td>\n",
       "      <td>125,718,255</td>\n",
       "      <td>126,280,001</td>\n",
       "      <td>2,279,517,737,128</td>\n",
       "      <td>1,398</td>\n",
       "      <td>1.0</td>\n",
       "      <td>1.0</td>\n",
       "    </tr>\n",
       "  </tbody>\n",
       "</table>\n",
       "<p>5 rows × 21 columns</p>\n",
       "</div>"
      ],
      "text/plain": [
       "  Area\\nCode  St  Cnty  Own  NAICS  Year  Qtr Area Type St Name        Area  \\\n",
       "0      US000  US   0.0    0     10  2022    1    Nation     NaN  U.S. TOTAL   \n",
       "1      US000  US   0.0    1     10  2022    1    Nation     NaN  U.S. TOTAL   \n",
       "2      US000  US   0.0    2     10  2022    1    Nation     NaN  U.S. TOTAL   \n",
       "3      US000  US   0.0    3     10  2022    1    Nation     NaN  U.S. TOTAL   \n",
       "4      US000  US   0.0    5     10  2022    1    Nation     NaN  U.S. TOTAL   \n",
       "\n",
       "   ...                  Industry Status Code Establishment Count  \\\n",
       "0  ...  10 Total, all industries         NaN          11,294,919   \n",
       "1  ...  10 Total, all industries         NaN              60,882   \n",
       "2  ...  10 Total, all industries         NaN              70,526   \n",
       "3  ...  10 Total, all industries         NaN             171,395   \n",
       "4  ...  10 Total, all industries         NaN          10,992,116   \n",
       "\n",
       "  January Employment February Employment March Employment  \\\n",
       "0        145,582,488         147,172,213      147,781,400   \n",
       "1          2,860,360           2,858,451        2,853,067   \n",
       "2          4,456,377           4,529,802        4,534,064   \n",
       "3         13,954,426          14,065,705       14,114,268   \n",
       "4        124,311,325         125,718,255      126,280,001   \n",
       "\n",
       "  Total Quarterly Wages Average Weekly Wage  \\\n",
       "0     2,622,652,420,011               1,374   \n",
       "1        60,805,753,244               1,637   \n",
       "2        78,903,410,196               1,347   \n",
       "3       203,425,519,443               1,114   \n",
       "4     2,279,517,737,128               1,398   \n",
       "\n",
       "  Employment Location Quotient Relative to U.S.  \\\n",
       "0                                           1.0   \n",
       "1                                           1.0   \n",
       "2                                           1.0   \n",
       "3                                           1.0   \n",
       "4                                           1.0   \n",
       "\n",
       "   Total Wage Location Quotient Relative to U.S.  \n",
       "0                                            1.0  \n",
       "1                                            1.0  \n",
       "2                                            1.0  \n",
       "3                                            1.0  \n",
       "4                                            1.0  \n",
       "\n",
       "[5 rows x 21 columns]"
      ]
     },
     "execution_count": 27,
     "metadata": {},
     "output_type": "execute_result"
    }
   ],
   "source": [
    "# Loading employment data\n",
    "employment_data = pd.read_csv('EmployementEnrichment.csv')\n",
    "employment_data.head()"
   ]
  },
  {
   "cell_type": "code",
   "execution_count": 28,
   "metadata": {
    "colab": {
     "base_uri": "https://localhost:8080/"
    },
    "id": "52lM6mglDwR2",
    "outputId": "81d3236f-661b-44cd-ab91-f3c7610906f0"
   },
   "outputs": [
    {
     "name": "stdout",
     "output_type": "stream",
     "text": [
      "76.42421821967889\n"
     ]
    }
   ],
   "source": [
    "# Hypothesis 1: Higher Employment leads to lower COVID cases as the spread is lower.\n",
    "condition = ((df_cases_modified['Date']>=\"2022-6-1\") & ((df_cases_modified['Date']<=\"2022-12-31\")))\n",
    "cases = df_cases_modified[condition]['Cases'].values\n",
    "\n",
    "# Merging Jan, Feb and March employemnt\n",
    "employment = employment_data[['January Employment', 'February Employment', 'March Employment']].apply(lambda x : x.str.replace(',', '').astype(float)).values\n",
    "# Flattening data\n",
    "employment = np.reshape(employment, (-1, 1))\n",
    "\n",
    "# Print the variance of both data groups\n",
    "print(np.var(employment)/np.var(cases))"
   ]
  },
  {
   "cell_type": "markdown",
   "metadata": {
    "id": "UMvfaH2JYn4_"
   },
   "source": [
    "As the variance ratio is > 4:1, the Welch’s t-test will be conducted by not taking into consideration the equal population variances."
   ]
  },
  {
   "cell_type": "code",
   "execution_count": 29,
   "metadata": {
    "colab": {
     "base_uri": "https://localhost:8080/"
    },
    "id": "YU3r687yYmpa",
    "outputId": "cc24db9e-0f3b-4a9a-92b2-9fbe33d0c7f8"
   },
   "outputs": [
    {
     "data": {
      "text/plain": [
       "Ttest_indResult(statistic=array([1.51309677]), pvalue=array([0.13025662]))"
      ]
     },
     "execution_count": 29,
     "metadata": {},
     "output_type": "execute_result"
    }
   ],
   "source": [
    "import scipy.stats as stats\n",
    "\n",
    "# Performing the two sample t-test with unequal variances\n",
    "stats.ttest_ind(a=employment, b=cases, equal_var=False)"
   ]
  },
  {
   "cell_type": "markdown",
   "metadata": {
    "id": "7-GZ2xIpaaQT"
   },
   "source": [
    "p-value is > 0.05 (significance value), so the null hypothesis can't be rejected. Thus, higher Employment does lead to lower COVID cases."
   ]
  },
  {
   "cell_type": "code",
   "execution_count": 30,
   "metadata": {
    "colab": {
     "base_uri": "https://localhost:8080/"
    },
    "id": "osLWDkRGX8bY",
    "outputId": "9f98cf31-e74b-48ef-809a-f05a2a7e7fcb"
   },
   "outputs": [
    {
     "name": "stdout",
     "output_type": "stream",
     "text": [
      "42181.86466729231\n"
     ]
    }
   ],
   "source": [
    "# Hypothesis 2: Higher weekly wages might lead to lower COVID cases as people can spend\n",
    "# more on immunity build up or take better precautionary measure in controlling COVID.\n",
    "\n",
    "weekly_wages = employment_data['Average Weekly Wage'].str.replace(',', '').astype(float).values\n",
    "# Print the variance of both data groups\n",
    "print(np.var(cases)/np.var(weekly_wages))"
   ]
  },
  {
   "cell_type": "code",
   "execution_count": 31,
   "metadata": {
    "colab": {
     "base_uri": "https://localhost:8080/"
    },
    "id": "qgTozC1TbJOG",
    "outputId": "9fb44e9d-2479-49ca-cadb-92292ac0a05c"
   },
   "outputs": [
    {
     "data": {
      "text/plain": [
       "Ttest_indResult(statistic=63.60272393583431, pvalue=0.0)"
      ]
     },
     "execution_count": 31,
     "metadata": {},
     "output_type": "execute_result"
    }
   ],
   "source": [
    "# Performing the two sample t-test with unequal variances\n",
    "stats.ttest_ind(a=cases, b=weekly_wages, equal_var=False)"
   ]
  },
  {
   "cell_type": "markdown",
   "metadata": {
    "id": "cwVLjKftr3An"
   },
   "source": [
    "p-value is < 0.05 (significance value), so the null hypothesis can be rejected. Thus higher weekly wages might not lead to lower COVID cases."
   ]
  },
  {
   "cell_type": "markdown",
   "metadata": {
    "id": "IcgfQRG7sOvE"
   },
   "source": [
    "<h1><center> Task 2 </center></h1>"
   ]
  },
  {
   "cell_type": "code",
   "execution_count": 32,
   "metadata": {
    "id": "unItk5hn6qlk"
   },
   "outputs": [],
   "source": [
    "# Confidance Interval\n",
    "from statistics import NormalDist\n",
    "\n",
    "def confidence_interval(data, confidence=0.95):\n",
    "  dist = NormalDist.from_samples(data)\n",
    "  z = NormalDist().inv_cdf((1 + confidence) / 2.)\n",
    "  h = dist.stdev * z / ((len(data) - 1) ** .5)\n",
    "  return dist.mean - h, dist.mean + h"
   ]
  },
  {
   "cell_type": "code",
   "execution_count": 35,
   "metadata": {
    "id": "0YVpuji_bPyn"
   },
   "outputs": [],
   "source": [
    "def plot_results(data, name=None):\n",
    "  fig = go.Figure()\n",
    "  x = data.index.values\n",
    "  CI = confidence_interval(data['prediction'], 0.95)\n",
    "  \n",
    "  fig.add_trace(go.Scatter(x=x, y=data['Deaths'],\n",
    "                      mode='markers',\n",
    "                      name='Deaths'))\n",
    "  \n",
    "  fig.add_traces(go.Scatter(x=x, y = data['prediction'],\n",
    "                           mode='markers+lines',\n",
    "                            name='prediction'))\n",
    "  \n",
    "  fig.add_traces([go.Scatter(x=x, y = data['prediction']+CI[1],\n",
    "                           mode = 'lines', line_color = 'rgba(0,0,0,0)',\n",
    "                           showlegend = False),\n",
    "                go.Scatter(x=x, y = data['prediction']-CI[0],\n",
    "                           mode = 'lines', line_color = 'rgba(0,0,0,0)',\n",
    "                           name = '95% confidence interval',\n",
    "                           fill='tonexty', fillcolor = 'rgba(255, 0, 0, 0.2)')])\n",
    "\n",
    "  fig.update_yaxes(title_text=\"No. of deaths\")\n",
    "  fig.update_xaxes(title_text=\"number of days since the first case\")\n",
    "  fig.update_layout(\n",
    "      title=dict(text=f\"Analysis for {name}\") \n",
    "  )\n",
    "\n",
    "  fig.show()"
   ]
  },
  {
   "cell_type": "code",
   "execution_count": 36,
   "metadata": {
    "colab": {
     "base_uri": "https://localhost:8080/",
     "height": 542
    },
    "id": "QKaiAAuJ7aqx",
    "outputId": "ea038005-0ace-4030-cd9d-d4177c8958eb"
   },
   "outputs": [
    {
     "data": {
      "application/vnd.plotly.v1+json": {
       "config": {
        "plotlyServerURL": "https://plot.ly"
       },
       "data": [
        {
         "mode": "markers",
         "name": "Deaths",
         "type": "scatter",
         "x": [
          0,
          1,
          2,
          3,
          4,
          5,
          6,
          7,
          8,
          9,
          10,
          11,
          12,
          13,
          14,
          15,
          16,
          17,
          18,
          19,
          20,
          21,
          22,
          23,
          24,
          25,
          26,
          27,
          28,
          29,
          30,
          31,
          32,
          33,
          34,
          35,
          36,
          37,
          38,
          39,
          40,
          41,
          42,
          43,
          44,
          45,
          46,
          47,
          48,
          49,
          50,
          51,
          52,
          53,
          54,
          55,
          56,
          57,
          58,
          59,
          60,
          61,
          62,
          63,
          64,
          65,
          66,
          67,
          68,
          69,
          70,
          71,
          72,
          73,
          74,
          75,
          76,
          77,
          78,
          79,
          80,
          81,
          82,
          83,
          84,
          85,
          86,
          87,
          88,
          89,
          90,
          91,
          92,
          93,
          94,
          95,
          96,
          97,
          98,
          99,
          100,
          101,
          102,
          103,
          104,
          105,
          106,
          107,
          108,
          109,
          110,
          111,
          112,
          113,
          114,
          115,
          116,
          117,
          118,
          119,
          120,
          121,
          122,
          123,
          124,
          125,
          126,
          127,
          128,
          129,
          130,
          131,
          132,
          133,
          134,
          135,
          136,
          137,
          138,
          139,
          140,
          141,
          142,
          143,
          144,
          145,
          146,
          147,
          148,
          149,
          150,
          151,
          152,
          153,
          154,
          155,
          156,
          157,
          158,
          159,
          160,
          161,
          162,
          163,
          164,
          165,
          166,
          167,
          168,
          169,
          170,
          171,
          172,
          173,
          174,
          175,
          176,
          177,
          178,
          179,
          180,
          181,
          182,
          183,
          184,
          185,
          186,
          187,
          188,
          189,
          190,
          191,
          192,
          193,
          194,
          195,
          196,
          197,
          198,
          199,
          200,
          201,
          202,
          203,
          204,
          205,
          206,
          207,
          208,
          209,
          210
         ],
         "y": [
          0,
          4,
          0,
          2,
          0,
          0,
          0,
          5,
          1,
          1,
          2,
          3,
          4,
          1,
          1,
          3,
          1,
          0,
          0,
          1,
          3,
          4,
          2,
          0,
          1,
          0,
          0,
          0,
          6,
          0,
          0,
          0,
          5,
          7,
          2,
          2,
          0,
          0,
          3,
          4,
          4,
          1,
          0,
          0,
          0,
          7,
          4,
          5,
          1,
          6,
          0,
          0,
          8,
          3,
          3,
          1,
          9,
          0,
          0,
          11,
          0,
          10,
          3,
          2,
          0,
          0,
          0,
          20,
          5,
          6,
          8,
          0,
          0,
          11,
          3,
          2,
          0,
          0,
          0,
          0,
          0,
          0,
          27,
          0,
          0,
          17,
          0,
          0,
          0,
          0,
          0,
          0,
          0,
          0,
          12,
          2,
          5,
          6,
          0,
          0,
          4,
          3,
          2,
          0,
          8,
          0,
          0,
          0,
          0,
          7,
          2,
          7,
          0,
          0,
          1,
          0,
          5,
          6,
          1,
          0,
          0,
          4,
          0,
          5,
          0,
          0,
          0,
          0,
          11,
          0,
          3,
          0,
          4,
          0,
          0,
          3,
          0,
          2,
          0,
          4,
          0,
          0,
          4,
          0,
          4,
          0,
          2,
          0,
          0,
          1,
          0,
          3,
          0,
          2,
          0,
          0,
          1,
          0,
          3,
          0,
          0,
          0,
          0,
          3,
          0,
          2,
          0,
          0,
          0,
          0,
          0,
          0,
          9,
          0,
          0,
          0,
          0,
          0,
          0,
          0,
          4,
          0,
          0,
          0,
          0,
          0,
          0,
          0,
          0,
          0,
          0,
          0,
          0,
          0,
          0,
          0,
          0,
          0,
          0,
          0,
          0,
          0,
          0,
          0,
          0,
          0,
          0,
          0,
          0,
          0,
          0
         ]
        },
        {
         "mode": "markers+lines",
         "name": "prediction",
         "type": "scatter",
         "x": [
          0,
          1,
          2,
          3,
          4,
          5,
          6,
          7,
          8,
          9,
          10,
          11,
          12,
          13,
          14,
          15,
          16,
          17,
          18,
          19,
          20,
          21,
          22,
          23,
          24,
          25,
          26,
          27,
          28,
          29,
          30,
          31,
          32,
          33,
          34,
          35,
          36,
          37,
          38,
          39,
          40,
          41,
          42,
          43,
          44,
          45,
          46,
          47,
          48,
          49,
          50,
          51,
          52,
          53,
          54,
          55,
          56,
          57,
          58,
          59,
          60,
          61,
          62,
          63,
          64,
          65,
          66,
          67,
          68,
          69,
          70,
          71,
          72,
          73,
          74,
          75,
          76,
          77,
          78,
          79,
          80,
          81,
          82,
          83,
          84,
          85,
          86,
          87,
          88,
          89,
          90,
          91,
          92,
          93,
          94,
          95,
          96,
          97,
          98,
          99,
          100,
          101,
          102,
          103,
          104,
          105,
          106,
          107,
          108,
          109,
          110,
          111,
          112,
          113,
          114,
          115,
          116,
          117,
          118,
          119,
          120,
          121,
          122,
          123,
          124,
          125,
          126,
          127,
          128,
          129,
          130,
          131,
          132,
          133,
          134,
          135,
          136,
          137,
          138,
          139,
          140,
          141,
          142,
          143,
          144,
          145,
          146,
          147,
          148,
          149,
          150,
          151,
          152,
          153,
          154,
          155,
          156,
          157,
          158,
          159,
          160,
          161,
          162,
          163,
          164,
          165,
          166,
          167,
          168,
          169,
          170,
          171,
          172,
          173,
          174,
          175,
          176,
          177,
          178,
          179,
          180,
          181,
          182,
          183,
          184,
          185,
          186,
          187,
          188,
          189,
          190,
          191,
          192,
          193,
          194,
          195,
          196,
          197,
          198,
          199,
          200,
          201,
          202,
          203,
          204,
          205,
          206,
          207,
          208,
          209,
          210
         ],
         "y": [
          1.4545493764955362,
          1.7940552827711205,
          1.8344450562560226,
          1.3918805668566774,
          1.1818547378034012,
          1.5447040101919873,
          1.8307426034300867,
          1.0794007332181639,
          1.9379596294577155,
          1.6425480995670954,
          1.8906671822051275,
          1.4442764027323585,
          1.3700581218907695,
          1.8078584315660295,
          1.2330638599987447,
          1.4949555633451552,
          1.0828430140945282,
          0.9158054814484033,
          3.923968289698833,
          1.7998721735093124,
          2.415727144214398,
          2.232908974952678,
          2.1339811672371254,
          2.630966583998275,
          1.6834219254969573,
          1.761523703376743,
          1.8606324445689473,
          2.7667731443238246,
          3.3408123854407963,
          0.6930277175865462,
          0.6970344070361552,
          0.7027150142096863,
          9.724267216113748,
          2.3138165866942244,
          2.812739330991701,
          2.9037102669982024,
          0.7462853307264268,
          0.7555145027985632,
          8.836630385795942,
          3.251636539205776,
          2.5487550274946598,
          3.8173773825839863,
          0.7846180488757459,
          0.7853481215823382,
          0.7841365381629113,
          10.245152205424667,
          2.4039927936829844,
          2.9390208385298378,
          2.8268921912559195,
          3.1210219530977685,
          0.7439208916473314,
          0.7343247848062643,
          7.743237366218968,
          2.386234805943079,
          2.285298637948,
          2.7075502087164995,
          3.242582020901076,
          0.6923116340769615,
          0.6906169832331099,
          7.47186720103443,
          1.7898285258780118,
          6.428385759562312,
          3.5443552724469356,
          3.753378444447308,
          1.8149095219583493,
          1.823992394377555,
          1.8335145460670605,
          8.046959738825123,
          3.3814875574922185,
          3.389996465296645,
          4.055910023541834,
          1.8743315683855402,
          1.8787770175969878,
          6.482701588089328,
          3.088967536936897,
          3.044163646418233,
          2.920607581729283,
          2.9088559582058604,
          1.8665307856461046,
          1.858794242215097,
          4.444961624695786,
          2.4762516508066237,
          3.728538117890844,
          1.8216767315332436,
          1.8127619527479821,
          1.804746228832856,
          10.60933958839415,
          1.7926743618160526,
          1.789112442368427,
          1.7874177915245757,
          2.0783883405489445,
          2.080557077937798,
          2.084563767387407,
          2.090244374560938,
          10.695375327069655,
          2.793937659795565,
          3.026717897592435,
          2.934142277391622,
          2.1338146910776787,
          2.143043863149815,
          4.983905566428364,
          2.8564699723934854,
          2.8751558597723745,
          2.1695055696567738,
          3.7586779544439723,
          2.1728774819335896,
          2.171665898514163,
          3.916843209210934,
          2.1636936336706154,
          3.031399811643227,
          2.631332504319084,
          2.637523606110708,
          2.131450251998583,
          2.121854145157516,
          3.1081453510177113,
          2.1034905048077683,
          2.8457213293900407,
          2.442013397225625,
          2.4206697109067794,
          2.0798409944282135,
          1.272316084317264,
          2.0706180092553446,
          1.2784915111557265,
          1.6765028822223924,
          1.2912940785015836,
          1.2995658177864549,
          1.3086486902056607,
          1.3181708418951663,
          2.4726140791891225,
          1.3369716069181345,
          2.4708503374686583,
          1.3529208025740098,
          1.7593487899408506,
          1.3634333134250933,
          1.3660751529953172,
          1.869263923319433,
          1.3655936422824826,
          1.7215529556851417,
          1.357621377438935,
          1.7423706793910494,
          1.3434505380432027,
          1.3347284821429826,
          1.8278366933844261,
          1.3157818889258355,
          1.6608073140367254,
          1.2974182485760877,
          1.6587899690281822,
          1.2826140202948642,
          1.2773306576441583,
          1.756725614217029,
          1.2720740873526812,
          0.43706911862122244,
          0.1776840134146529,
          0.5487838152788908,
          0.18737131003779295,
          0.19449327021011908,
          0.6948992133258522,
          0.2118478819141959,
          0.578138652231669,
          0.23094162655453332,
          0.2401707986266699,
          0.24867970643109627,
          0.25611999428254506,
          1.3841153807393913,
          0.2666325051336287,
          0.6455447849288471,
          0.2700044174104449,
          0.26879283399101794,
          0.26568919681311787,
          0.2608205691474702,
          0.25438627318274565,
          0.24664972975173804,
          2.073393235924663,
          0.22857718747543798,
          0.21898108063437094,
          0.20953221906988462,
          0.20061744028462314,
          1.630000684668029,
          0.1858132120033995,
          0.18052984935269367,
          1.0683158934868393,
          -0.11521327603398723,
          -0.11304453864513375,
          -0.10903784919552484,
          -0.1033572420219937,
          -0.09623528184966745,
          -0.08796354256479622,
          -0.07888067014559064,
          -0.06935851845608498,
          -0.05978692550525322,
          -0.05055775343311675,
          -0.04204884562869027,
          -0.03460855777724148,
          -0.02854149613760537,
          -0.024096046926157966,
          -0.021454207355934063,
          -0.020724134649341863,
          -0.021935718068768706,
          -0.02503935524666856,
          -0.029907982912316333,
          -0.03634227887704067,
          -0.044078822308048604,
          -0.05280087820826873,
          -0.062151364584348556,
          -0.0717474714254156,
          -0.08119633298990192,
          -0.0901111117751634,
          -0.09812683569028935,
          -0.10491534005638714,
          -0.11019870270709298,
          -0.11376062215471827
         ]
        },
        {
         "line": {
          "color": "rgba(0,0,0,0)"
         },
         "mode": "lines",
         "showlegend": false,
         "type": "scatter",
         "x": [
          0,
          1,
          2,
          3,
          4,
          5,
          6,
          7,
          8,
          9,
          10,
          11,
          12,
          13,
          14,
          15,
          16,
          17,
          18,
          19,
          20,
          21,
          22,
          23,
          24,
          25,
          26,
          27,
          28,
          29,
          30,
          31,
          32,
          33,
          34,
          35,
          36,
          37,
          38,
          39,
          40,
          41,
          42,
          43,
          44,
          45,
          46,
          47,
          48,
          49,
          50,
          51,
          52,
          53,
          54,
          55,
          56,
          57,
          58,
          59,
          60,
          61,
          62,
          63,
          64,
          65,
          66,
          67,
          68,
          69,
          70,
          71,
          72,
          73,
          74,
          75,
          76,
          77,
          78,
          79,
          80,
          81,
          82,
          83,
          84,
          85,
          86,
          87,
          88,
          89,
          90,
          91,
          92,
          93,
          94,
          95,
          96,
          97,
          98,
          99,
          100,
          101,
          102,
          103,
          104,
          105,
          106,
          107,
          108,
          109,
          110,
          111,
          112,
          113,
          114,
          115,
          116,
          117,
          118,
          119,
          120,
          121,
          122,
          123,
          124,
          125,
          126,
          127,
          128,
          129,
          130,
          131,
          132,
          133,
          134,
          135,
          136,
          137,
          138,
          139,
          140,
          141,
          142,
          143,
          144,
          145,
          146,
          147,
          148,
          149,
          150,
          151,
          152,
          153,
          154,
          155,
          156,
          157,
          158,
          159,
          160,
          161,
          162,
          163,
          164,
          165,
          166,
          167,
          168,
          169,
          170,
          171,
          172,
          173,
          174,
          175,
          176,
          177,
          178,
          179,
          180,
          181,
          182,
          183,
          184,
          185,
          186,
          187,
          188,
          189,
          190,
          191,
          192,
          193,
          194,
          195,
          196,
          197,
          198,
          199,
          200,
          201,
          202,
          203,
          204,
          205,
          206,
          207,
          208,
          209,
          210
         ],
         "y": [
          3.5618192308308303,
          3.9013251371064146,
          3.9417149105913167,
          3.4991504211919713,
          3.2891245921386956,
          3.6519738645272817,
          3.938012457765381,
          3.186670587553458,
          4.04522948379301,
          3.7498179539023893,
          3.9979370365404217,
          3.5515462570676526,
          3.4773279762260634,
          3.9151282859013237,
          3.340333714334039,
          3.602225417680449,
          3.1901128684298223,
          3.0230753357836972,
          6.031238144034127,
          3.9071420278446065,
          4.522996998549692,
          4.3401788292879715,
          4.2412510215724195,
          4.738236438333569,
          3.7906917798322515,
          3.868793557712037,
          3.9679022989042414,
          4.874042998659119,
          5.44808223977609,
          2.80029757192184,
          2.804304261371449,
          2.8099848685449804,
          11.831537070449043,
          4.4210864410295185,
          4.920009185326995,
          5.010980121333496,
          2.8535551850617207,
          2.862784357133857,
          10.943900240131237,
          5.35890639354107,
          4.656024881829953,
          5.924647236919281,
          2.89188790321104,
          2.8926179759176325,
          2.8914063924982054,
          12.352422059759961,
          4.5112626480182785,
          5.046290692865131,
          4.934162045591213,
          5.228291807433063,
          2.851190745982626,
          2.8415946391415585,
          9.850507220554261,
          4.493504660278373,
          4.392568492283294,
          4.814820063051794,
          5.34985187523637,
          2.7995814884122554,
          2.797886837568404,
          9.579137055369724,
          3.897098380213306,
          8.535655613897607,
          5.65162512678223,
          5.860648298782602,
          3.922179376293643,
          3.931262248712849,
          3.9407844004023547,
          10.154229593160418,
          5.488757411827512,
          5.4972663196319385,
          6.163179877877129,
          3.9816014227208343,
          3.986046871932282,
          8.589971442424622,
          5.1962373912721915,
          5.151433500753527,
          5.027877436064577,
          5.016125812541155,
          3.9738006399813988,
          3.966064096550391,
          6.5522314790310805,
          4.583521505141918,
          5.835807972226139,
          3.9289465858685375,
          3.9200318070832765,
          3.91201608316815,
          12.716609442729444,
          3.8999442161513467,
          3.896382296703721,
          3.89468764585987,
          4.185658194884239,
          4.187826932273092,
          4.191833621722701,
          4.197514228896232,
          12.80264518140495,
          4.901207514130859,
          5.133987751927729,
          5.041412131726917,
          4.241084545412972,
          4.25031371748511,
          7.091175420763658,
          4.96373982672878,
          4.982425714107668,
          4.276775423992068,
          5.865947808779266,
          4.280147336268884,
          4.278935752849457,
          6.024113063546228,
          4.2709634880059095,
          5.1386696659785205,
          4.7386023586543775,
          4.744793460446003,
          4.2387201063338775,
          4.22912399949281,
          5.215415205353006,
          4.2107603591430625,
          4.952991183725334,
          4.549283251560919,
          4.5279395652420735,
          4.187110848763508,
          3.379585938652558,
          4.177887863590639,
          3.3857613654910206,
          3.7837727365576868,
          3.3985639328368777,
          3.406835672121749,
          3.415918544540955,
          3.4254406962304604,
          4.579883933524417,
          3.4442414612534287,
          4.5781201918039525,
          3.4601906569093037,
          3.8666186442761448,
          3.4707031677603872,
          3.4733450073306114,
          3.976533777654727,
          3.4728634966177765,
          3.828822810020436,
          3.464891231774229,
          3.8496405337263435,
          3.450720392378497,
          3.4419983364782767,
          3.9351065477197205,
          3.4230517432611296,
          3.7680771683720193,
          3.404688102911382,
          3.7660598233634763,
          3.3898838746301583,
          3.3846005119794524,
          3.8639954685523232,
          3.379343941687975,
          2.5443389729565165,
          2.2849538677499472,
          2.656053669614185,
          2.294641164373087,
          2.3017631245454133,
          2.802169067661146,
          2.31911773624949,
          2.6854085065669633,
          2.3382114808898273,
          2.3474406529619642,
          2.3559495607663905,
          2.3633898486178393,
          3.4913852350746852,
          2.373902359468923,
          2.752814639264141,
          2.377274271745739,
          2.376062688326312,
          2.372959051148412,
          2.3680904234827644,
          2.3616561275180397,
          2.3539195840870324,
          4.180663090259957,
          2.335847041810732,
          2.326250934969665,
          2.316802073405179,
          2.3078872946199174,
          3.7372705390033234,
          2.293083066338694,
          2.2877997036879876,
          3.1755857478221334,
          1.992056578301307,
          1.9942253156901604,
          1.9982320051397693,
          2.0039126123133,
          2.0110345724856264,
          2.0193063117704977,
          2.0283891841897033,
          2.037911335879209,
          2.047482928830041,
          2.0567121009021774,
          2.0652210087066036,
          2.072661296558053,
          2.0787283581976888,
          2.0831738074091364,
          2.08581564697936,
          2.0865457196859523,
          2.0853341362665256,
          2.0822304990886256,
          2.077361871422978,
          2.0709275754582537,
          2.0631910320272455,
          2.0544689761270254,
          2.0451184897509456,
          2.0355223829098783,
          2.026073521345392,
          2.017158742560131,
          2.0091430186450046,
          2.002354514278907,
          1.9970711516282011,
          1.9935092321805759
         ]
        },
        {
         "fill": "tonexty",
         "fillcolor": "rgba(255, 0, 0, 0.2)",
         "line": {
          "color": "rgba(0,0,0,0)"
         },
         "mode": "lines",
         "name": "95% confidence interval",
         "type": "scatter",
         "x": [
          0,
          1,
          2,
          3,
          4,
          5,
          6,
          7,
          8,
          9,
          10,
          11,
          12,
          13,
          14,
          15,
          16,
          17,
          18,
          19,
          20,
          21,
          22,
          23,
          24,
          25,
          26,
          27,
          28,
          29,
          30,
          31,
          32,
          33,
          34,
          35,
          36,
          37,
          38,
          39,
          40,
          41,
          42,
          43,
          44,
          45,
          46,
          47,
          48,
          49,
          50,
          51,
          52,
          53,
          54,
          55,
          56,
          57,
          58,
          59,
          60,
          61,
          62,
          63,
          64,
          65,
          66,
          67,
          68,
          69,
          70,
          71,
          72,
          73,
          74,
          75,
          76,
          77,
          78,
          79,
          80,
          81,
          82,
          83,
          84,
          85,
          86,
          87,
          88,
          89,
          90,
          91,
          92,
          93,
          94,
          95,
          96,
          97,
          98,
          99,
          100,
          101,
          102,
          103,
          104,
          105,
          106,
          107,
          108,
          109,
          110,
          111,
          112,
          113,
          114,
          115,
          116,
          117,
          118,
          119,
          120,
          121,
          122,
          123,
          124,
          125,
          126,
          127,
          128,
          129,
          130,
          131,
          132,
          133,
          134,
          135,
          136,
          137,
          138,
          139,
          140,
          141,
          142,
          143,
          144,
          145,
          146,
          147,
          148,
          149,
          150,
          151,
          152,
          153,
          154,
          155,
          156,
          157,
          158,
          159,
          160,
          161,
          162,
          163,
          164,
          165,
          166,
          167,
          168,
          169,
          170,
          171,
          172,
          173,
          174,
          175,
          176,
          177,
          178,
          179,
          180,
          181,
          182,
          183,
          184,
          185,
          186,
          187,
          188,
          189,
          190,
          191,
          192,
          193,
          194,
          195,
          196,
          197,
          198,
          199,
          200,
          201,
          202,
          203,
          204,
          205,
          206,
          207,
          208,
          209,
          210
         ],
         "y": [
          -0.13486323362414554,
          0.20464267265143876,
          0.2450324461363409,
          -0.19753204326300433,
          -0.4075578723162805,
          -0.04470859992769438,
          0.24132999331040494,
          -0.5100118769015178,
          0.3485470193380338,
          0.05313548944741364,
          0.3012545720854458,
          -0.14513620738732325,
          -0.21935448822891224,
          0.21844582144634783,
          -0.35634875012093703,
          -0.09445704677452649,
          -0.5065695960251535,
          -0.6736071286712784,
          2.334555679579151,
          0.21045956338963068,
          0.8263145340947164,
          0.6434963648329961,
          0.5445685571174437,
          1.0415539738785933,
          0.09400931537727564,
          0.1721110932570613,
          0.27121983444926556,
          1.1773605342041429,
          1.7513997753211146,
          -0.8963848925331355,
          -0.8923782030835266,
          -0.8866975959099954,
          8.134854605994066,
          0.7244039765745427,
          1.223326720872019,
          1.3142976568785207,
          -0.8431272793932549,
          -0.8338981073211185,
          7.24721777567626,
          1.6622239290860943,
          0.959342417374978,
          2.2279647724643046,
          -0.8047945612439358,
          -0.8040644885373435,
          -0.8052760719567704,
          8.655739595304984,
          0.8145801835633026,
          1.349608228410156,
          1.2374795811362378,
          1.5316093429780868,
          -0.8454917184723503,
          -0.8550878253134174,
          6.1538247560992865,
          0.7968221958233972,
          0.6958860278283181,
          1.1181375985968178,
          1.6531694107813943,
          -0.8971009760427202,
          -0.8987956268865718,
          5.882454590914747,
          0.20041591575833007,
          4.83897314944263,
          1.9549426623272539,
          2.1639658343276262,
          0.2254969118386676,
          0.23457978425787318,
          0.24410193594737883,
          6.457547128705441,
          1.7920749473725368,
          1.800583855176963,
          2.4664974134221525,
          0.28491895826585845,
          0.2893644074773061,
          4.893288977969647,
          1.4995549268172153,
          1.4547510362985512,
          1.3311949716096012,
          1.3194433480861787,
          0.2771181755264229,
          0.2693816320954152,
          2.855549014576104,
          0.886839040686942,
          2.1391255077711624,
          0.2322641214135619,
          0.22334934262830042,
          0.21533361871317425,
          9.019926978274468,
          0.20326175169637084,
          0.19969983224874532,
          0.19800518140489398,
          0.4889757304292628,
          0.4911444678181165,
          0.4951511572677254,
          0.5008317644412563,
          9.105962716949973,
          1.2045250496758833,
          1.4373052874727534,
          1.3447296672719404,
          0.544402080957997,
          0.5536312530301335,
          3.394492956308682,
          1.2670573622738037,
          1.2857432496526928,
          0.5800929595370921,
          2.1692653443242906,
          0.5834648718139079,
          0.5822532883944813,
          2.3274305990912523,
          0.5742810235509337,
          1.441987201523545,
          1.0419198941994021,
          1.0481109959910264,
          0.5420376418789012,
          0.5324415350378344,
          1.5187327408980296,
          0.5140778946880866,
          1.256308719270359,
          0.8526007871059433,
          0.8312571007870977,
          0.49042838430853175,
          -0.31709652580241765,
          0.48120539913566285,
          -0.31092109896395526,
          0.0870902721027107,
          -0.2981185316180981,
          -0.28984679233322685,
          -0.28076391991402105,
          -0.2712417682245154,
          0.8832014690694407,
          -0.25244100320154716,
          0.8814377273489766,
          -0.2364918075456719,
          0.16993617982116893,
          -0.22597929669458838,
          -0.22333745712436448,
          0.2798513131997513,
          -0.22381896783719912,
          0.13214034556545995,
          -0.23179123268074675,
          0.15295806927136768,
          -0.24596207207647902,
          -0.25468412797669915,
          0.2384240832647444,
          -0.27363072119384624,
          0.07139470391704372,
          -0.29199436154359404,
          0.0693773589085005,
          -0.30679858982481756,
          -0.3120819524755234,
          0.1673130040973474,
          -0.3173385227670005,
          -1.1523434914984594,
          -1.4117285967050288,
          -1.0406287948407908,
          -1.4020413000818888,
          -1.3949193399095625,
          -0.8945133967938295,
          -1.3775647282054857,
          -1.0112739578880126,
          -1.3584709835651485,
          -1.3492418114930118,
          -1.3407329036885853,
          -1.3332926158371365,
          -0.20529722938029038,
          -1.322780104986053,
          -0.9438678251908346,
          -1.3194081927092367,
          -1.3206197761286638,
          -1.3237234133065638,
          -1.3285920409722114,
          -1.3350263369369362,
          -1.3427628803679437,
          0.48398062580498147,
          -1.3608354226442438,
          -1.3704315294853107,
          -1.379880391049797,
          -1.3887951698350585,
          0.04058807454834734,
          -1.4035993981162822,
          -1.408882760766988,
          -0.5210967166328424,
          -1.704625886153669,
          -1.7024571487648155,
          -1.6984504593152066,
          -1.6927698521416754,
          -1.6856478919693492,
          -1.677376152684478,
          -1.6682932802652723,
          -1.6587711285757667,
          -1.649199535624935,
          -1.6399703635527985,
          -1.631461455748372,
          -1.6240211678969232,
          -1.617954106257287,
          -1.6135086570458397,
          -1.6108668174756158,
          -1.6101367447690236,
          -1.6113483281884504,
          -1.6144519653663503,
          -1.619320593031998,
          -1.6257548889967224,
          -1.6334914324277303,
          -1.6422134883279504,
          -1.6515639747040303,
          -1.6611600815450973,
          -1.6706089431095836,
          -1.6795237218948451,
          -1.687539445809971,
          -1.6943279501760689,
          -1.6996113128267747,
          -1.7031732322744
         ]
        }
       ],
       "layout": {
        "template": {
         "data": {
          "bar": [
           {
            "error_x": {
             "color": "#2a3f5f"
            },
            "error_y": {
             "color": "#2a3f5f"
            },
            "marker": {
             "line": {
              "color": "#E5ECF6",
              "width": 0.5
             },
             "pattern": {
              "fillmode": "overlay",
              "size": 10,
              "solidity": 0.2
             }
            },
            "type": "bar"
           }
          ],
          "barpolar": [
           {
            "marker": {
             "line": {
              "color": "#E5ECF6",
              "width": 0.5
             },
             "pattern": {
              "fillmode": "overlay",
              "size": 10,
              "solidity": 0.2
             }
            },
            "type": "barpolar"
           }
          ],
          "carpet": [
           {
            "aaxis": {
             "endlinecolor": "#2a3f5f",
             "gridcolor": "white",
             "linecolor": "white",
             "minorgridcolor": "white",
             "startlinecolor": "#2a3f5f"
            },
            "baxis": {
             "endlinecolor": "#2a3f5f",
             "gridcolor": "white",
             "linecolor": "white",
             "minorgridcolor": "white",
             "startlinecolor": "#2a3f5f"
            },
            "type": "carpet"
           }
          ],
          "choropleth": [
           {
            "colorbar": {
             "outlinewidth": 0,
             "ticks": ""
            },
            "type": "choropleth"
           }
          ],
          "contour": [
           {
            "colorbar": {
             "outlinewidth": 0,
             "ticks": ""
            },
            "colorscale": [
             [
              0,
              "#0d0887"
             ],
             [
              0.1111111111111111,
              "#46039f"
             ],
             [
              0.2222222222222222,
              "#7201a8"
             ],
             [
              0.3333333333333333,
              "#9c179e"
             ],
             [
              0.4444444444444444,
              "#bd3786"
             ],
             [
              0.5555555555555556,
              "#d8576b"
             ],
             [
              0.6666666666666666,
              "#ed7953"
             ],
             [
              0.7777777777777778,
              "#fb9f3a"
             ],
             [
              0.8888888888888888,
              "#fdca26"
             ],
             [
              1,
              "#f0f921"
             ]
            ],
            "type": "contour"
           }
          ],
          "contourcarpet": [
           {
            "colorbar": {
             "outlinewidth": 0,
             "ticks": ""
            },
            "type": "contourcarpet"
           }
          ],
          "heatmap": [
           {
            "colorbar": {
             "outlinewidth": 0,
             "ticks": ""
            },
            "colorscale": [
             [
              0,
              "#0d0887"
             ],
             [
              0.1111111111111111,
              "#46039f"
             ],
             [
              0.2222222222222222,
              "#7201a8"
             ],
             [
              0.3333333333333333,
              "#9c179e"
             ],
             [
              0.4444444444444444,
              "#bd3786"
             ],
             [
              0.5555555555555556,
              "#d8576b"
             ],
             [
              0.6666666666666666,
              "#ed7953"
             ],
             [
              0.7777777777777778,
              "#fb9f3a"
             ],
             [
              0.8888888888888888,
              "#fdca26"
             ],
             [
              1,
              "#f0f921"
             ]
            ],
            "type": "heatmap"
           }
          ],
          "heatmapgl": [
           {
            "colorbar": {
             "outlinewidth": 0,
             "ticks": ""
            },
            "colorscale": [
             [
              0,
              "#0d0887"
             ],
             [
              0.1111111111111111,
              "#46039f"
             ],
             [
              0.2222222222222222,
              "#7201a8"
             ],
             [
              0.3333333333333333,
              "#9c179e"
             ],
             [
              0.4444444444444444,
              "#bd3786"
             ],
             [
              0.5555555555555556,
              "#d8576b"
             ],
             [
              0.6666666666666666,
              "#ed7953"
             ],
             [
              0.7777777777777778,
              "#fb9f3a"
             ],
             [
              0.8888888888888888,
              "#fdca26"
             ],
             [
              1,
              "#f0f921"
             ]
            ],
            "type": "heatmapgl"
           }
          ],
          "histogram": [
           {
            "marker": {
             "pattern": {
              "fillmode": "overlay",
              "size": 10,
              "solidity": 0.2
             }
            },
            "type": "histogram"
           }
          ],
          "histogram2d": [
           {
            "colorbar": {
             "outlinewidth": 0,
             "ticks": ""
            },
            "colorscale": [
             [
              0,
              "#0d0887"
             ],
             [
              0.1111111111111111,
              "#46039f"
             ],
             [
              0.2222222222222222,
              "#7201a8"
             ],
             [
              0.3333333333333333,
              "#9c179e"
             ],
             [
              0.4444444444444444,
              "#bd3786"
             ],
             [
              0.5555555555555556,
              "#d8576b"
             ],
             [
              0.6666666666666666,
              "#ed7953"
             ],
             [
              0.7777777777777778,
              "#fb9f3a"
             ],
             [
              0.8888888888888888,
              "#fdca26"
             ],
             [
              1,
              "#f0f921"
             ]
            ],
            "type": "histogram2d"
           }
          ],
          "histogram2dcontour": [
           {
            "colorbar": {
             "outlinewidth": 0,
             "ticks": ""
            },
            "colorscale": [
             [
              0,
              "#0d0887"
             ],
             [
              0.1111111111111111,
              "#46039f"
             ],
             [
              0.2222222222222222,
              "#7201a8"
             ],
             [
              0.3333333333333333,
              "#9c179e"
             ],
             [
              0.4444444444444444,
              "#bd3786"
             ],
             [
              0.5555555555555556,
              "#d8576b"
             ],
             [
              0.6666666666666666,
              "#ed7953"
             ],
             [
              0.7777777777777778,
              "#fb9f3a"
             ],
             [
              0.8888888888888888,
              "#fdca26"
             ],
             [
              1,
              "#f0f921"
             ]
            ],
            "type": "histogram2dcontour"
           }
          ],
          "mesh3d": [
           {
            "colorbar": {
             "outlinewidth": 0,
             "ticks": ""
            },
            "type": "mesh3d"
           }
          ],
          "parcoords": [
           {
            "line": {
             "colorbar": {
              "outlinewidth": 0,
              "ticks": ""
             }
            },
            "type": "parcoords"
           }
          ],
          "pie": [
           {
            "automargin": true,
            "type": "pie"
           }
          ],
          "scatter": [
           {
            "fillpattern": {
             "fillmode": "overlay",
             "size": 10,
             "solidity": 0.2
            },
            "type": "scatter"
           }
          ],
          "scatter3d": [
           {
            "line": {
             "colorbar": {
              "outlinewidth": 0,
              "ticks": ""
             }
            },
            "marker": {
             "colorbar": {
              "outlinewidth": 0,
              "ticks": ""
             }
            },
            "type": "scatter3d"
           }
          ],
          "scattercarpet": [
           {
            "marker": {
             "colorbar": {
              "outlinewidth": 0,
              "ticks": ""
             }
            },
            "type": "scattercarpet"
           }
          ],
          "scattergeo": [
           {
            "marker": {
             "colorbar": {
              "outlinewidth": 0,
              "ticks": ""
             }
            },
            "type": "scattergeo"
           }
          ],
          "scattergl": [
           {
            "marker": {
             "colorbar": {
              "outlinewidth": 0,
              "ticks": ""
             }
            },
            "type": "scattergl"
           }
          ],
          "scattermapbox": [
           {
            "marker": {
             "colorbar": {
              "outlinewidth": 0,
              "ticks": ""
             }
            },
            "type": "scattermapbox"
           }
          ],
          "scatterpolar": [
           {
            "marker": {
             "colorbar": {
              "outlinewidth": 0,
              "ticks": ""
             }
            },
            "type": "scatterpolar"
           }
          ],
          "scatterpolargl": [
           {
            "marker": {
             "colorbar": {
              "outlinewidth": 0,
              "ticks": ""
             }
            },
            "type": "scatterpolargl"
           }
          ],
          "scatterternary": [
           {
            "marker": {
             "colorbar": {
              "outlinewidth": 0,
              "ticks": ""
             }
            },
            "type": "scatterternary"
           }
          ],
          "surface": [
           {
            "colorbar": {
             "outlinewidth": 0,
             "ticks": ""
            },
            "colorscale": [
             [
              0,
              "#0d0887"
             ],
             [
              0.1111111111111111,
              "#46039f"
             ],
             [
              0.2222222222222222,
              "#7201a8"
             ],
             [
              0.3333333333333333,
              "#9c179e"
             ],
             [
              0.4444444444444444,
              "#bd3786"
             ],
             [
              0.5555555555555556,
              "#d8576b"
             ],
             [
              0.6666666666666666,
              "#ed7953"
             ],
             [
              0.7777777777777778,
              "#fb9f3a"
             ],
             [
              0.8888888888888888,
              "#fdca26"
             ],
             [
              1,
              "#f0f921"
             ]
            ],
            "type": "surface"
           }
          ],
          "table": [
           {
            "cells": {
             "fill": {
              "color": "#EBF0F8"
             },
             "line": {
              "color": "white"
             }
            },
            "header": {
             "fill": {
              "color": "#C8D4E3"
             },
             "line": {
              "color": "white"
             }
            },
            "type": "table"
           }
          ]
         },
         "layout": {
          "annotationdefaults": {
           "arrowcolor": "#2a3f5f",
           "arrowhead": 0,
           "arrowwidth": 1
          },
          "autotypenumbers": "strict",
          "coloraxis": {
           "colorbar": {
            "outlinewidth": 0,
            "ticks": ""
           }
          },
          "colorscale": {
           "diverging": [
            [
             0,
             "#8e0152"
            ],
            [
             0.1,
             "#c51b7d"
            ],
            [
             0.2,
             "#de77ae"
            ],
            [
             0.3,
             "#f1b6da"
            ],
            [
             0.4,
             "#fde0ef"
            ],
            [
             0.5,
             "#f7f7f7"
            ],
            [
             0.6,
             "#e6f5d0"
            ],
            [
             0.7,
             "#b8e186"
            ],
            [
             0.8,
             "#7fbc41"
            ],
            [
             0.9,
             "#4d9221"
            ],
            [
             1,
             "#276419"
            ]
           ],
           "sequential": [
            [
             0,
             "#0d0887"
            ],
            [
             0.1111111111111111,
             "#46039f"
            ],
            [
             0.2222222222222222,
             "#7201a8"
            ],
            [
             0.3333333333333333,
             "#9c179e"
            ],
            [
             0.4444444444444444,
             "#bd3786"
            ],
            [
             0.5555555555555556,
             "#d8576b"
            ],
            [
             0.6666666666666666,
             "#ed7953"
            ],
            [
             0.7777777777777778,
             "#fb9f3a"
            ],
            [
             0.8888888888888888,
             "#fdca26"
            ],
            [
             1,
             "#f0f921"
            ]
           ],
           "sequentialminus": [
            [
             0,
             "#0d0887"
            ],
            [
             0.1111111111111111,
             "#46039f"
            ],
            [
             0.2222222222222222,
             "#7201a8"
            ],
            [
             0.3333333333333333,
             "#9c179e"
            ],
            [
             0.4444444444444444,
             "#bd3786"
            ],
            [
             0.5555555555555556,
             "#d8576b"
            ],
            [
             0.6666666666666666,
             "#ed7953"
            ],
            [
             0.7777777777777778,
             "#fb9f3a"
            ],
            [
             0.8888888888888888,
             "#fdca26"
            ],
            [
             1,
             "#f0f921"
            ]
           ]
          },
          "colorway": [
           "#636efa",
           "#EF553B",
           "#00cc96",
           "#ab63fa",
           "#FFA15A",
           "#19d3f3",
           "#FF6692",
           "#B6E880",
           "#FF97FF",
           "#FECB52"
          ],
          "font": {
           "color": "#2a3f5f"
          },
          "geo": {
           "bgcolor": "white",
           "lakecolor": "white",
           "landcolor": "#E5ECF6",
           "showlakes": true,
           "showland": true,
           "subunitcolor": "white"
          },
          "hoverlabel": {
           "align": "left"
          },
          "hovermode": "closest",
          "mapbox": {
           "style": "light"
          },
          "paper_bgcolor": "white",
          "plot_bgcolor": "#E5ECF6",
          "polar": {
           "angularaxis": {
            "gridcolor": "white",
            "linecolor": "white",
            "ticks": ""
           },
           "bgcolor": "#E5ECF6",
           "radialaxis": {
            "gridcolor": "white",
            "linecolor": "white",
            "ticks": ""
           }
          },
          "scene": {
           "xaxis": {
            "backgroundcolor": "#E5ECF6",
            "gridcolor": "white",
            "gridwidth": 2,
            "linecolor": "white",
            "showbackground": true,
            "ticks": "",
            "zerolinecolor": "white"
           },
           "yaxis": {
            "backgroundcolor": "#E5ECF6",
            "gridcolor": "white",
            "gridwidth": 2,
            "linecolor": "white",
            "showbackground": true,
            "ticks": "",
            "zerolinecolor": "white"
           },
           "zaxis": {
            "backgroundcolor": "#E5ECF6",
            "gridcolor": "white",
            "gridwidth": 2,
            "linecolor": "white",
            "showbackground": true,
            "ticks": "",
            "zerolinecolor": "white"
           }
          },
          "shapedefaults": {
           "line": {
            "color": "#2a3f5f"
           }
          },
          "ternary": {
           "aaxis": {
            "gridcolor": "white",
            "linecolor": "white",
            "ticks": ""
           },
           "baxis": {
            "gridcolor": "white",
            "linecolor": "white",
            "ticks": ""
           },
           "bgcolor": "#E5ECF6",
           "caxis": {
            "gridcolor": "white",
            "linecolor": "white",
            "ticks": ""
           }
          },
          "title": {
           "x": 0.05
          },
          "xaxis": {
           "automargin": true,
           "gridcolor": "white",
           "linecolor": "white",
           "ticks": "",
           "title": {
            "standoff": 15
           },
           "zerolinecolor": "white",
           "zerolinewidth": 2
          },
          "yaxis": {
           "automargin": true,
           "gridcolor": "white",
           "linecolor": "white",
           "ticks": "",
           "title": {
            "standoff": 15
           },
           "zerolinecolor": "white",
           "zerolinewidth": 2
          }
         }
        },
        "title": {
         "text": "Analysis for Harris County"
        },
        "xaxis": {
         "title": {
          "text": "number of days since the first case"
         }
        },
        "yaxis": {
         "title": {
          "text": "No. of deaths"
         }
        }
       }
      },
      "text/html": [
       "<div>                            <div id=\"0510deb1-4000-49dc-9c99-544b47f112ff\" class=\"plotly-graph-div\" style=\"height:525px; width:100%;\"></div>            <script type=\"text/javascript\">                require([\"plotly\"], function(Plotly) {                    window.PLOTLYENV=window.PLOTLYENV || {};                                    if (document.getElementById(\"0510deb1-4000-49dc-9c99-544b47f112ff\")) {                    Plotly.newPlot(                        \"0510deb1-4000-49dc-9c99-544b47f112ff\",                        [{\"mode\":\"markers\",\"name\":\"Deaths\",\"x\":[0,1,2,3,4,5,6,7,8,9,10,11,12,13,14,15,16,17,18,19,20,21,22,23,24,25,26,27,28,29,30,31,32,33,34,35,36,37,38,39,40,41,42,43,44,45,46,47,48,49,50,51,52,53,54,55,56,57,58,59,60,61,62,63,64,65,66,67,68,69,70,71,72,73,74,75,76,77,78,79,80,81,82,83,84,85,86,87,88,89,90,91,92,93,94,95,96,97,98,99,100,101,102,103,104,105,106,107,108,109,110,111,112,113,114,115,116,117,118,119,120,121,122,123,124,125,126,127,128,129,130,131,132,133,134,135,136,137,138,139,140,141,142,143,144,145,146,147,148,149,150,151,152,153,154,155,156,157,158,159,160,161,162,163,164,165,166,167,168,169,170,171,172,173,174,175,176,177,178,179,180,181,182,183,184,185,186,187,188,189,190,191,192,193,194,195,196,197,198,199,200,201,202,203,204,205,206,207,208,209,210],\"y\":[0.0,4.0,0.0,2.0,0.0,0.0,0.0,5.0,1.0,1.0,2.0,3.0,4.0,1.0,1.0,3.0,1.0,0.0,0.0,1.0,3.0,4.0,2.0,0.0,1.0,0.0,0.0,0.0,6.0,0.0,0.0,0.0,5.0,7.0,2.0,2.0,0.0,0.0,3.0,4.0,4.0,1.0,0.0,0.0,0.0,7.0,4.0,5.0,1.0,6.0,0.0,0.0,8.0,3.0,3.0,1.0,9.0,0.0,0.0,11.0,0.0,10.0,3.0,2.0,0.0,0.0,0.0,20.0,5.0,6.0,8.0,0.0,0.0,11.0,3.0,2.0,0.0,0.0,0.0,0.0,0.0,0.0,27.0,0.0,0.0,17.0,0.0,0.0,0.0,0.0,0.0,0.0,0.0,0.0,12.0,2.0,5.0,6.0,0.0,0.0,4.0,3.0,2.0,0.0,8.0,0.0,0.0,0.0,0.0,7.0,2.0,7.0,0.0,0.0,1.0,0.0,5.0,6.0,1.0,0.0,0.0,4.0,0.0,5.0,0.0,0.0,0.0,0.0,11.0,0.0,3.0,0.0,4.0,0.0,0.0,3.0,0.0,2.0,0.0,4.0,0.0,0.0,4.0,0.0,4.0,0.0,2.0,0.0,0.0,1.0,0.0,3.0,0.0,2.0,0.0,0.0,1.0,0.0,3.0,0.0,0.0,0.0,0.0,3.0,0.0,2.0,0.0,0.0,0.0,0.0,0.0,0.0,9.0,0.0,0.0,0.0,0.0,0.0,0.0,0.0,4.0,0.0,0.0,0.0,0.0,0.0,0.0,0.0,0.0,0.0,0.0,0.0,0.0,0.0,0.0,0.0,0.0,0.0,0.0,0.0,0.0,0.0,0.0,0.0,0.0,0.0,0.0,0.0,0.0,0.0,0.0],\"type\":\"scatter\"},{\"mode\":\"markers+lines\",\"name\":\"prediction\",\"x\":[0,1,2,3,4,5,6,7,8,9,10,11,12,13,14,15,16,17,18,19,20,21,22,23,24,25,26,27,28,29,30,31,32,33,34,35,36,37,38,39,40,41,42,43,44,45,46,47,48,49,50,51,52,53,54,55,56,57,58,59,60,61,62,63,64,65,66,67,68,69,70,71,72,73,74,75,76,77,78,79,80,81,82,83,84,85,86,87,88,89,90,91,92,93,94,95,96,97,98,99,100,101,102,103,104,105,106,107,108,109,110,111,112,113,114,115,116,117,118,119,120,121,122,123,124,125,126,127,128,129,130,131,132,133,134,135,136,137,138,139,140,141,142,143,144,145,146,147,148,149,150,151,152,153,154,155,156,157,158,159,160,161,162,163,164,165,166,167,168,169,170,171,172,173,174,175,176,177,178,179,180,181,182,183,184,185,186,187,188,189,190,191,192,193,194,195,196,197,198,199,200,201,202,203,204,205,206,207,208,209,210],\"y\":[1.4545493764955362,1.7940552827711205,1.8344450562560226,1.3918805668566774,1.1818547378034012,1.5447040101919873,1.8307426034300867,1.0794007332181639,1.9379596294577155,1.6425480995670954,1.8906671822051275,1.4442764027323585,1.3700581218907695,1.8078584315660295,1.2330638599987447,1.4949555633451552,1.0828430140945282,0.9158054814484033,3.923968289698833,1.7998721735093124,2.415727144214398,2.232908974952678,2.1339811672371254,2.630966583998275,1.6834219254969573,1.761523703376743,1.8606324445689473,2.7667731443238246,3.3408123854407963,0.6930277175865462,0.6970344070361552,0.7027150142096863,9.724267216113748,2.3138165866942244,2.812739330991701,2.9037102669982024,0.7462853307264268,0.7555145027985632,8.836630385795942,3.251636539205776,2.5487550274946598,3.8173773825839863,0.7846180488757459,0.7853481215823382,0.7841365381629113,10.245152205424667,2.4039927936829844,2.9390208385298378,2.8268921912559195,3.1210219530977685,0.7439208916473314,0.7343247848062643,7.743237366218968,2.386234805943079,2.285298637948,2.7075502087164995,3.242582020901076,0.6923116340769615,0.6906169832331099,7.47186720103443,1.7898285258780118,6.428385759562312,3.5443552724469356,3.753378444447308,1.8149095219583493,1.823992394377555,1.8335145460670605,8.046959738825123,3.3814875574922185,3.389996465296645,4.055910023541834,1.8743315683855402,1.8787770175969878,6.482701588089328,3.088967536936897,3.044163646418233,2.920607581729283,2.9088559582058604,1.8665307856461046,1.858794242215097,4.444961624695786,2.4762516508066237,3.728538117890844,1.8216767315332436,1.8127619527479821,1.804746228832856,10.60933958839415,1.7926743618160526,1.789112442368427,1.7874177915245757,2.0783883405489445,2.080557077937798,2.084563767387407,2.090244374560938,10.695375327069655,2.793937659795565,3.026717897592435,2.934142277391622,2.1338146910776787,2.143043863149815,4.983905566428364,2.8564699723934854,2.8751558597723745,2.1695055696567738,3.7586779544439723,2.1728774819335896,2.171665898514163,3.916843209210934,2.1636936336706154,3.031399811643227,2.631332504319084,2.637523606110708,2.131450251998583,2.121854145157516,3.1081453510177113,2.1034905048077683,2.8457213293900407,2.442013397225625,2.4206697109067794,2.0798409944282135,1.272316084317264,2.0706180092553446,1.2784915111557265,1.6765028822223924,1.2912940785015836,1.2995658177864549,1.3086486902056607,1.3181708418951663,2.4726140791891225,1.3369716069181345,2.4708503374686583,1.3529208025740098,1.7593487899408506,1.3634333134250933,1.3660751529953172,1.869263923319433,1.3655936422824826,1.7215529556851417,1.357621377438935,1.7423706793910494,1.3434505380432027,1.3347284821429826,1.8278366933844261,1.3157818889258355,1.6608073140367254,1.2974182485760877,1.6587899690281822,1.2826140202948642,1.2773306576441583,1.756725614217029,1.2720740873526812,0.43706911862122244,0.1776840134146529,0.5487838152788908,0.18737131003779295,0.19449327021011908,0.6948992133258522,0.2118478819141959,0.578138652231669,0.23094162655453332,0.2401707986266699,0.24867970643109627,0.25611999428254506,1.3841153807393913,0.2666325051336287,0.6455447849288471,0.2700044174104449,0.26879283399101794,0.26568919681311787,0.2608205691474702,0.25438627318274565,0.24664972975173804,2.073393235924663,0.22857718747543798,0.21898108063437094,0.20953221906988462,0.20061744028462314,1.630000684668029,0.1858132120033995,0.18052984935269367,1.0683158934868393,-0.11521327603398723,-0.11304453864513375,-0.10903784919552484,-0.1033572420219937,-0.09623528184966745,-0.08796354256479622,-0.07888067014559064,-0.06935851845608498,-0.05978692550525322,-0.05055775343311675,-0.04204884562869027,-0.03460855777724148,-0.02854149613760537,-0.024096046926157966,-0.021454207355934063,-0.020724134649341863,-0.021935718068768706,-0.02503935524666856,-0.029907982912316333,-0.03634227887704067,-0.044078822308048604,-0.05280087820826873,-0.062151364584348556,-0.0717474714254156,-0.08119633298990192,-0.0901111117751634,-0.09812683569028935,-0.10491534005638714,-0.11019870270709298,-0.11376062215471827],\"type\":\"scatter\"},{\"line\":{\"color\":\"rgba(0,0,0,0)\"},\"mode\":\"lines\",\"showlegend\":false,\"x\":[0,1,2,3,4,5,6,7,8,9,10,11,12,13,14,15,16,17,18,19,20,21,22,23,24,25,26,27,28,29,30,31,32,33,34,35,36,37,38,39,40,41,42,43,44,45,46,47,48,49,50,51,52,53,54,55,56,57,58,59,60,61,62,63,64,65,66,67,68,69,70,71,72,73,74,75,76,77,78,79,80,81,82,83,84,85,86,87,88,89,90,91,92,93,94,95,96,97,98,99,100,101,102,103,104,105,106,107,108,109,110,111,112,113,114,115,116,117,118,119,120,121,122,123,124,125,126,127,128,129,130,131,132,133,134,135,136,137,138,139,140,141,142,143,144,145,146,147,148,149,150,151,152,153,154,155,156,157,158,159,160,161,162,163,164,165,166,167,168,169,170,171,172,173,174,175,176,177,178,179,180,181,182,183,184,185,186,187,188,189,190,191,192,193,194,195,196,197,198,199,200,201,202,203,204,205,206,207,208,209,210],\"y\":[3.5618192308308303,3.9013251371064146,3.9417149105913167,3.4991504211919713,3.2891245921386956,3.6519738645272817,3.938012457765381,3.186670587553458,4.04522948379301,3.7498179539023893,3.9979370365404217,3.5515462570676526,3.4773279762260634,3.9151282859013237,3.340333714334039,3.602225417680449,3.1901128684298223,3.0230753357836972,6.031238144034127,3.9071420278446065,4.522996998549692,4.3401788292879715,4.2412510215724195,4.738236438333569,3.7906917798322515,3.868793557712037,3.9679022989042414,4.874042998659119,5.44808223977609,2.80029757192184,2.804304261371449,2.8099848685449804,11.831537070449043,4.4210864410295185,4.920009185326995,5.010980121333496,2.8535551850617207,2.862784357133857,10.943900240131237,5.35890639354107,4.656024881829953,5.924647236919281,2.89188790321104,2.8926179759176325,2.8914063924982054,12.352422059759961,4.5112626480182785,5.046290692865131,4.934162045591213,5.228291807433063,2.851190745982626,2.8415946391415585,9.850507220554261,4.493504660278373,4.392568492283294,4.814820063051794,5.34985187523637,2.7995814884122554,2.797886837568404,9.579137055369724,3.897098380213306,8.535655613897607,5.65162512678223,5.860648298782602,3.922179376293643,3.931262248712849,3.9407844004023547,10.154229593160418,5.488757411827512,5.4972663196319385,6.163179877877129,3.9816014227208343,3.986046871932282,8.589971442424622,5.1962373912721915,5.151433500753527,5.027877436064577,5.016125812541155,3.9738006399813988,3.966064096550391,6.5522314790310805,4.583521505141918,5.835807972226139,3.9289465858685375,3.9200318070832765,3.91201608316815,12.716609442729444,3.8999442161513467,3.896382296703721,3.89468764585987,4.185658194884239,4.187826932273092,4.191833621722701,4.197514228896232,12.80264518140495,4.901207514130859,5.133987751927729,5.041412131726917,4.241084545412972,4.25031371748511,7.091175420763658,4.96373982672878,4.982425714107668,4.276775423992068,5.865947808779266,4.280147336268884,4.278935752849457,6.024113063546228,4.2709634880059095,5.1386696659785205,4.7386023586543775,4.744793460446003,4.2387201063338775,4.22912399949281,5.215415205353006,4.2107603591430625,4.952991183725334,4.549283251560919,4.5279395652420735,4.187110848763508,3.379585938652558,4.177887863590639,3.3857613654910206,3.7837727365576868,3.3985639328368777,3.406835672121749,3.415918544540955,3.4254406962304604,4.579883933524417,3.4442414612534287,4.5781201918039525,3.4601906569093037,3.8666186442761448,3.4707031677603872,3.4733450073306114,3.976533777654727,3.4728634966177765,3.828822810020436,3.464891231774229,3.8496405337263435,3.450720392378497,3.4419983364782767,3.9351065477197205,3.4230517432611296,3.7680771683720193,3.404688102911382,3.7660598233634763,3.3898838746301583,3.3846005119794524,3.8639954685523232,3.379343941687975,2.5443389729565165,2.2849538677499472,2.656053669614185,2.294641164373087,2.3017631245454133,2.802169067661146,2.31911773624949,2.6854085065669633,2.3382114808898273,2.3474406529619642,2.3559495607663905,2.3633898486178393,3.4913852350746852,2.373902359468923,2.752814639264141,2.377274271745739,2.376062688326312,2.372959051148412,2.3680904234827644,2.3616561275180397,2.3539195840870324,4.180663090259957,2.335847041810732,2.326250934969665,2.316802073405179,2.3078872946199174,3.7372705390033234,2.293083066338694,2.2877997036879876,3.1755857478221334,1.992056578301307,1.9942253156901604,1.9982320051397693,2.0039126123133,2.0110345724856264,2.0193063117704977,2.0283891841897033,2.037911335879209,2.047482928830041,2.0567121009021774,2.0652210087066036,2.072661296558053,2.0787283581976888,2.0831738074091364,2.08581564697936,2.0865457196859523,2.0853341362665256,2.0822304990886256,2.077361871422978,2.0709275754582537,2.0631910320272455,2.0544689761270254,2.0451184897509456,2.0355223829098783,2.026073521345392,2.017158742560131,2.0091430186450046,2.002354514278907,1.9970711516282011,1.9935092321805759],\"type\":\"scatter\"},{\"fill\":\"tonexty\",\"fillcolor\":\"rgba(255, 0, 0, 0.2)\",\"line\":{\"color\":\"rgba(0,0,0,0)\"},\"mode\":\"lines\",\"name\":\"95% confidence interval\",\"x\":[0,1,2,3,4,5,6,7,8,9,10,11,12,13,14,15,16,17,18,19,20,21,22,23,24,25,26,27,28,29,30,31,32,33,34,35,36,37,38,39,40,41,42,43,44,45,46,47,48,49,50,51,52,53,54,55,56,57,58,59,60,61,62,63,64,65,66,67,68,69,70,71,72,73,74,75,76,77,78,79,80,81,82,83,84,85,86,87,88,89,90,91,92,93,94,95,96,97,98,99,100,101,102,103,104,105,106,107,108,109,110,111,112,113,114,115,116,117,118,119,120,121,122,123,124,125,126,127,128,129,130,131,132,133,134,135,136,137,138,139,140,141,142,143,144,145,146,147,148,149,150,151,152,153,154,155,156,157,158,159,160,161,162,163,164,165,166,167,168,169,170,171,172,173,174,175,176,177,178,179,180,181,182,183,184,185,186,187,188,189,190,191,192,193,194,195,196,197,198,199,200,201,202,203,204,205,206,207,208,209,210],\"y\":[-0.13486323362414554,0.20464267265143876,0.2450324461363409,-0.19753204326300433,-0.4075578723162805,-0.04470859992769438,0.24132999331040494,-0.5100118769015178,0.3485470193380338,0.05313548944741364,0.3012545720854458,-0.14513620738732325,-0.21935448822891224,0.21844582144634783,-0.35634875012093703,-0.09445704677452649,-0.5065695960251535,-0.6736071286712784,2.334555679579151,0.21045956338963068,0.8263145340947164,0.6434963648329961,0.5445685571174437,1.0415539738785933,0.09400931537727564,0.1721110932570613,0.27121983444926556,1.1773605342041429,1.7513997753211146,-0.8963848925331355,-0.8923782030835266,-0.8866975959099954,8.134854605994066,0.7244039765745427,1.223326720872019,1.3142976568785207,-0.8431272793932549,-0.8338981073211185,7.24721777567626,1.6622239290860943,0.959342417374978,2.2279647724643046,-0.8047945612439358,-0.8040644885373435,-0.8052760719567704,8.655739595304984,0.8145801835633026,1.349608228410156,1.2374795811362378,1.5316093429780868,-0.8454917184723503,-0.8550878253134174,6.1538247560992865,0.7968221958233972,0.6958860278283181,1.1181375985968178,1.6531694107813943,-0.8971009760427202,-0.8987956268865718,5.882454590914747,0.20041591575833007,4.83897314944263,1.9549426623272539,2.1639658343276262,0.2254969118386676,0.23457978425787318,0.24410193594737883,6.457547128705441,1.7920749473725368,1.800583855176963,2.4664974134221525,0.28491895826585845,0.2893644074773061,4.893288977969647,1.4995549268172153,1.4547510362985512,1.3311949716096012,1.3194433480861787,0.2771181755264229,0.2693816320954152,2.855549014576104,0.886839040686942,2.1391255077711624,0.2322641214135619,0.22334934262830042,0.21533361871317425,9.019926978274468,0.20326175169637084,0.19969983224874532,0.19800518140489398,0.4889757304292628,0.4911444678181165,0.4951511572677254,0.5008317644412563,9.105962716949973,1.2045250496758833,1.4373052874727534,1.3447296672719404,0.544402080957997,0.5536312530301335,3.394492956308682,1.2670573622738037,1.2857432496526928,0.5800929595370921,2.1692653443242906,0.5834648718139079,0.5822532883944813,2.3274305990912523,0.5742810235509337,1.441987201523545,1.0419198941994021,1.0481109959910264,0.5420376418789012,0.5324415350378344,1.5187327408980296,0.5140778946880866,1.256308719270359,0.8526007871059433,0.8312571007870977,0.49042838430853175,-0.31709652580241765,0.48120539913566285,-0.31092109896395526,0.0870902721027107,-0.2981185316180981,-0.28984679233322685,-0.28076391991402105,-0.2712417682245154,0.8832014690694407,-0.25244100320154716,0.8814377273489766,-0.2364918075456719,0.16993617982116893,-0.22597929669458838,-0.22333745712436448,0.2798513131997513,-0.22381896783719912,0.13214034556545995,-0.23179123268074675,0.15295806927136768,-0.24596207207647902,-0.25468412797669915,0.2384240832647444,-0.27363072119384624,0.07139470391704372,-0.29199436154359404,0.0693773589085005,-0.30679858982481756,-0.3120819524755234,0.1673130040973474,-0.3173385227670005,-1.1523434914984594,-1.4117285967050288,-1.0406287948407908,-1.4020413000818888,-1.3949193399095625,-0.8945133967938295,-1.3775647282054857,-1.0112739578880126,-1.3584709835651485,-1.3492418114930118,-1.3407329036885853,-1.3332926158371365,-0.20529722938029038,-1.322780104986053,-0.9438678251908346,-1.3194081927092367,-1.3206197761286638,-1.3237234133065638,-1.3285920409722114,-1.3350263369369362,-1.3427628803679437,0.48398062580498147,-1.3608354226442438,-1.3704315294853107,-1.379880391049797,-1.3887951698350585,0.04058807454834734,-1.4035993981162822,-1.408882760766988,-0.5210967166328424,-1.704625886153669,-1.7024571487648155,-1.6984504593152066,-1.6927698521416754,-1.6856478919693492,-1.677376152684478,-1.6682932802652723,-1.6587711285757667,-1.649199535624935,-1.6399703635527985,-1.631461455748372,-1.6240211678969232,-1.617954106257287,-1.6135086570458397,-1.6108668174756158,-1.6101367447690236,-1.6113483281884504,-1.6144519653663503,-1.619320593031998,-1.6257548889967224,-1.6334914324277303,-1.6422134883279504,-1.6515639747040303,-1.6611600815450973,-1.6706089431095836,-1.6795237218948451,-1.687539445809971,-1.6943279501760689,-1.6996113128267747,-1.7031732322744],\"type\":\"scatter\"}],                        {\"template\":{\"data\":{\"histogram2dcontour\":[{\"type\":\"histogram2dcontour\",\"colorbar\":{\"outlinewidth\":0,\"ticks\":\"\"},\"colorscale\":[[0.0,\"#0d0887\"],[0.1111111111111111,\"#46039f\"],[0.2222222222222222,\"#7201a8\"],[0.3333333333333333,\"#9c179e\"],[0.4444444444444444,\"#bd3786\"],[0.5555555555555556,\"#d8576b\"],[0.6666666666666666,\"#ed7953\"],[0.7777777777777778,\"#fb9f3a\"],[0.8888888888888888,\"#fdca26\"],[1.0,\"#f0f921\"]]}],\"choropleth\":[{\"type\":\"choropleth\",\"colorbar\":{\"outlinewidth\":0,\"ticks\":\"\"}}],\"histogram2d\":[{\"type\":\"histogram2d\",\"colorbar\":{\"outlinewidth\":0,\"ticks\":\"\"},\"colorscale\":[[0.0,\"#0d0887\"],[0.1111111111111111,\"#46039f\"],[0.2222222222222222,\"#7201a8\"],[0.3333333333333333,\"#9c179e\"],[0.4444444444444444,\"#bd3786\"],[0.5555555555555556,\"#d8576b\"],[0.6666666666666666,\"#ed7953\"],[0.7777777777777778,\"#fb9f3a\"],[0.8888888888888888,\"#fdca26\"],[1.0,\"#f0f921\"]]}],\"heatmap\":[{\"type\":\"heatmap\",\"colorbar\":{\"outlinewidth\":0,\"ticks\":\"\"},\"colorscale\":[[0.0,\"#0d0887\"],[0.1111111111111111,\"#46039f\"],[0.2222222222222222,\"#7201a8\"],[0.3333333333333333,\"#9c179e\"],[0.4444444444444444,\"#bd3786\"],[0.5555555555555556,\"#d8576b\"],[0.6666666666666666,\"#ed7953\"],[0.7777777777777778,\"#fb9f3a\"],[0.8888888888888888,\"#fdca26\"],[1.0,\"#f0f921\"]]}],\"heatmapgl\":[{\"type\":\"heatmapgl\",\"colorbar\":{\"outlinewidth\":0,\"ticks\":\"\"},\"colorscale\":[[0.0,\"#0d0887\"],[0.1111111111111111,\"#46039f\"],[0.2222222222222222,\"#7201a8\"],[0.3333333333333333,\"#9c179e\"],[0.4444444444444444,\"#bd3786\"],[0.5555555555555556,\"#d8576b\"],[0.6666666666666666,\"#ed7953\"],[0.7777777777777778,\"#fb9f3a\"],[0.8888888888888888,\"#fdca26\"],[1.0,\"#f0f921\"]]}],\"contourcarpet\":[{\"type\":\"contourcarpet\",\"colorbar\":{\"outlinewidth\":0,\"ticks\":\"\"}}],\"contour\":[{\"type\":\"contour\",\"colorbar\":{\"outlinewidth\":0,\"ticks\":\"\"},\"colorscale\":[[0.0,\"#0d0887\"],[0.1111111111111111,\"#46039f\"],[0.2222222222222222,\"#7201a8\"],[0.3333333333333333,\"#9c179e\"],[0.4444444444444444,\"#bd3786\"],[0.5555555555555556,\"#d8576b\"],[0.6666666666666666,\"#ed7953\"],[0.7777777777777778,\"#fb9f3a\"],[0.8888888888888888,\"#fdca26\"],[1.0,\"#f0f921\"]]}],\"surface\":[{\"type\":\"surface\",\"colorbar\":{\"outlinewidth\":0,\"ticks\":\"\"},\"colorscale\":[[0.0,\"#0d0887\"],[0.1111111111111111,\"#46039f\"],[0.2222222222222222,\"#7201a8\"],[0.3333333333333333,\"#9c179e\"],[0.4444444444444444,\"#bd3786\"],[0.5555555555555556,\"#d8576b\"],[0.6666666666666666,\"#ed7953\"],[0.7777777777777778,\"#fb9f3a\"],[0.8888888888888888,\"#fdca26\"],[1.0,\"#f0f921\"]]}],\"mesh3d\":[{\"type\":\"mesh3d\",\"colorbar\":{\"outlinewidth\":0,\"ticks\":\"\"}}],\"scatter\":[{\"fillpattern\":{\"fillmode\":\"overlay\",\"size\":10,\"solidity\":0.2},\"type\":\"scatter\"}],\"parcoords\":[{\"type\":\"parcoords\",\"line\":{\"colorbar\":{\"outlinewidth\":0,\"ticks\":\"\"}}}],\"scatterpolargl\":[{\"type\":\"scatterpolargl\",\"marker\":{\"colorbar\":{\"outlinewidth\":0,\"ticks\":\"\"}}}],\"bar\":[{\"error_x\":{\"color\":\"#2a3f5f\"},\"error_y\":{\"color\":\"#2a3f5f\"},\"marker\":{\"line\":{\"color\":\"#E5ECF6\",\"width\":0.5},\"pattern\":{\"fillmode\":\"overlay\",\"size\":10,\"solidity\":0.2}},\"type\":\"bar\"}],\"scattergeo\":[{\"type\":\"scattergeo\",\"marker\":{\"colorbar\":{\"outlinewidth\":0,\"ticks\":\"\"}}}],\"scatterpolar\":[{\"type\":\"scatterpolar\",\"marker\":{\"colorbar\":{\"outlinewidth\":0,\"ticks\":\"\"}}}],\"histogram\":[{\"marker\":{\"pattern\":{\"fillmode\":\"overlay\",\"size\":10,\"solidity\":0.2}},\"type\":\"histogram\"}],\"scattergl\":[{\"type\":\"scattergl\",\"marker\":{\"colorbar\":{\"outlinewidth\":0,\"ticks\":\"\"}}}],\"scatter3d\":[{\"type\":\"scatter3d\",\"line\":{\"colorbar\":{\"outlinewidth\":0,\"ticks\":\"\"}},\"marker\":{\"colorbar\":{\"outlinewidth\":0,\"ticks\":\"\"}}}],\"scattermapbox\":[{\"type\":\"scattermapbox\",\"marker\":{\"colorbar\":{\"outlinewidth\":0,\"ticks\":\"\"}}}],\"scatterternary\":[{\"type\":\"scatterternary\",\"marker\":{\"colorbar\":{\"outlinewidth\":0,\"ticks\":\"\"}}}],\"scattercarpet\":[{\"type\":\"scattercarpet\",\"marker\":{\"colorbar\":{\"outlinewidth\":0,\"ticks\":\"\"}}}],\"carpet\":[{\"aaxis\":{\"endlinecolor\":\"#2a3f5f\",\"gridcolor\":\"white\",\"linecolor\":\"white\",\"minorgridcolor\":\"white\",\"startlinecolor\":\"#2a3f5f\"},\"baxis\":{\"endlinecolor\":\"#2a3f5f\",\"gridcolor\":\"white\",\"linecolor\":\"white\",\"minorgridcolor\":\"white\",\"startlinecolor\":\"#2a3f5f\"},\"type\":\"carpet\"}],\"table\":[{\"cells\":{\"fill\":{\"color\":\"#EBF0F8\"},\"line\":{\"color\":\"white\"}},\"header\":{\"fill\":{\"color\":\"#C8D4E3\"},\"line\":{\"color\":\"white\"}},\"type\":\"table\"}],\"barpolar\":[{\"marker\":{\"line\":{\"color\":\"#E5ECF6\",\"width\":0.5},\"pattern\":{\"fillmode\":\"overlay\",\"size\":10,\"solidity\":0.2}},\"type\":\"barpolar\"}],\"pie\":[{\"automargin\":true,\"type\":\"pie\"}]},\"layout\":{\"autotypenumbers\":\"strict\",\"colorway\":[\"#636efa\",\"#EF553B\",\"#00cc96\",\"#ab63fa\",\"#FFA15A\",\"#19d3f3\",\"#FF6692\",\"#B6E880\",\"#FF97FF\",\"#FECB52\"],\"font\":{\"color\":\"#2a3f5f\"},\"hovermode\":\"closest\",\"hoverlabel\":{\"align\":\"left\"},\"paper_bgcolor\":\"white\",\"plot_bgcolor\":\"#E5ECF6\",\"polar\":{\"bgcolor\":\"#E5ECF6\",\"angularaxis\":{\"gridcolor\":\"white\",\"linecolor\":\"white\",\"ticks\":\"\"},\"radialaxis\":{\"gridcolor\":\"white\",\"linecolor\":\"white\",\"ticks\":\"\"}},\"ternary\":{\"bgcolor\":\"#E5ECF6\",\"aaxis\":{\"gridcolor\":\"white\",\"linecolor\":\"white\",\"ticks\":\"\"},\"baxis\":{\"gridcolor\":\"white\",\"linecolor\":\"white\",\"ticks\":\"\"},\"caxis\":{\"gridcolor\":\"white\",\"linecolor\":\"white\",\"ticks\":\"\"}},\"coloraxis\":{\"colorbar\":{\"outlinewidth\":0,\"ticks\":\"\"}},\"colorscale\":{\"sequential\":[[0.0,\"#0d0887\"],[0.1111111111111111,\"#46039f\"],[0.2222222222222222,\"#7201a8\"],[0.3333333333333333,\"#9c179e\"],[0.4444444444444444,\"#bd3786\"],[0.5555555555555556,\"#d8576b\"],[0.6666666666666666,\"#ed7953\"],[0.7777777777777778,\"#fb9f3a\"],[0.8888888888888888,\"#fdca26\"],[1.0,\"#f0f921\"]],\"sequentialminus\":[[0.0,\"#0d0887\"],[0.1111111111111111,\"#46039f\"],[0.2222222222222222,\"#7201a8\"],[0.3333333333333333,\"#9c179e\"],[0.4444444444444444,\"#bd3786\"],[0.5555555555555556,\"#d8576b\"],[0.6666666666666666,\"#ed7953\"],[0.7777777777777778,\"#fb9f3a\"],[0.8888888888888888,\"#fdca26\"],[1.0,\"#f0f921\"]],\"diverging\":[[0,\"#8e0152\"],[0.1,\"#c51b7d\"],[0.2,\"#de77ae\"],[0.3,\"#f1b6da\"],[0.4,\"#fde0ef\"],[0.5,\"#f7f7f7\"],[0.6,\"#e6f5d0\"],[0.7,\"#b8e186\"],[0.8,\"#7fbc41\"],[0.9,\"#4d9221\"],[1,\"#276419\"]]},\"xaxis\":{\"gridcolor\":\"white\",\"linecolor\":\"white\",\"ticks\":\"\",\"title\":{\"standoff\":15},\"zerolinecolor\":\"white\",\"automargin\":true,\"zerolinewidth\":2},\"yaxis\":{\"gridcolor\":\"white\",\"linecolor\":\"white\",\"ticks\":\"\",\"title\":{\"standoff\":15},\"zerolinecolor\":\"white\",\"automargin\":true,\"zerolinewidth\":2},\"scene\":{\"xaxis\":{\"backgroundcolor\":\"#E5ECF6\",\"gridcolor\":\"white\",\"linecolor\":\"white\",\"showbackground\":true,\"ticks\":\"\",\"zerolinecolor\":\"white\",\"gridwidth\":2},\"yaxis\":{\"backgroundcolor\":\"#E5ECF6\",\"gridcolor\":\"white\",\"linecolor\":\"white\",\"showbackground\":true,\"ticks\":\"\",\"zerolinecolor\":\"white\",\"gridwidth\":2},\"zaxis\":{\"backgroundcolor\":\"#E5ECF6\",\"gridcolor\":\"white\",\"linecolor\":\"white\",\"showbackground\":true,\"ticks\":\"\",\"zerolinecolor\":\"white\",\"gridwidth\":2}},\"shapedefaults\":{\"line\":{\"color\":\"#2a3f5f\"}},\"annotationdefaults\":{\"arrowcolor\":\"#2a3f5f\",\"arrowhead\":0,\"arrowwidth\":1},\"geo\":{\"bgcolor\":\"white\",\"landcolor\":\"#E5ECF6\",\"subunitcolor\":\"white\",\"showland\":true,\"showlakes\":true,\"lakecolor\":\"white\"},\"title\":{\"x\":0.05},\"mapbox\":{\"style\":\"light\"}}},\"yaxis\":{\"title\":{\"text\":\"No. of deaths\"}},\"xaxis\":{\"title\":{\"text\":\"number of days since the first case\"}},\"title\":{\"text\":\"Analysis for Harris County\"}},                        {\"responsive\": true}                    ).then(function(){\n",
       "                            \n",
       "var gd = document.getElementById('0510deb1-4000-49dc-9c99-544b47f112ff');\n",
       "var x = new MutationObserver(function (mutations, observer) {{\n",
       "        var display = window.getComputedStyle(gd).display;\n",
       "        if (!display || display === 'none') {{\n",
       "            console.log([gd, 'removed!']);\n",
       "            Plotly.purge(gd);\n",
       "            observer.disconnect();\n",
       "        }}\n",
       "}});\n",
       "\n",
       "// Listen for the removal of the full notebook cells\n",
       "var notebookContainer = gd.closest('#notebook-container');\n",
       "if (notebookContainer) {{\n",
       "    x.observe(notebookContainer, {childList: true});\n",
       "}}\n",
       "\n",
       "// Listen for the clearing of the current output cell\n",
       "var outputEl = gd.closest('.output');\n",
       "if (outputEl) {{\n",
       "    x.observe(outputEl, {childList: true});\n",
       "}}\n",
       "\n",
       "                        })                };                });            </script>        </div>"
      ]
     },
     "metadata": {},
     "output_type": "display_data"
    }
   ],
   "source": [
    "plot_results(df1, 'Harris County')"
   ]
  },
  {
   "cell_type": "code",
   "execution_count": null,
   "metadata": {},
   "outputs": [],
   "source": []
  }
 ],
 "metadata": {
  "colab": {
   "provenance": []
  },
  "kernelspec": {
   "display_name": "Python 3 (ipykernel)",
   "language": "python",
   "name": "python3"
  },
  "language_info": {
   "codemirror_mode": {
    "name": "ipython",
    "version": 3
   },
   "file_extension": ".py",
   "mimetype": "text/x-python",
   "name": "python",
   "nbconvert_exporter": "python",
   "pygments_lexer": "ipython3",
   "version": "3.9.13"
  }
 },
 "nbformat": 4,
 "nbformat_minor": 1
}
